{
 "cells": [
  {
   "cell_type": "code",
   "execution_count": 1,
   "id": "26f55ff6",
   "metadata": {},
   "outputs": [],
   "source": [
    "import pandas as pd\n",
    "import seaborn as sns\n",
    "import matplotlib.pyplot as plt\n",
    "from sklearn.model_selection import train_test_split\n",
    "from sklearn.ensemble import RandomForestClassifier\n",
    "from sklearn import tree\n",
    "import numpy as np\n",
    "from sklearn.metrics import f1_score\n",
    "\n",
    "\n",
    "%matplotlib inline\n",
    "pd.set_option('display.max_columns', 30)\n",
    "sns.set_style('darkgrid')"
   ]
  },
  {
   "cell_type": "code",
   "execution_count": 2,
   "id": "2edf103c",
   "metadata": {},
   "outputs": [],
   "source": [
    "data_train = pd.read_csv(\"train_dataset_train.csv\")\n",
    "data_test = pd.read_csv(\"test_dataset_test.csv\")"
   ]
  },
  {
   "cell_type": "code",
   "execution_count": 3,
   "id": "3689d44b",
   "metadata": {},
   "outputs": [
    {
     "name": "stdout",
     "output_type": "stream",
     "text": [
      "train:  (13584, 24)\n",
      "test:  (6691, 23)\n"
     ]
    }
   ],
   "source": [
    "print('train: ', data_train.shape)\n",
    "print('test: ', data_test.shape)"
   ]
  },
  {
   "cell_type": "code",
   "execution_count": 4,
   "id": "37fbb1f6",
   "metadata": {},
   "outputs": [
    {
     "name": "stdout",
     "output_type": "stream",
     "text": [
      "<class 'pandas.core.frame.DataFrame'>\n",
      "RangeIndex: 13584 entries, 0 to 13583\n",
      "Data columns (total 24 columns):\n",
      " #   Column            Non-Null Count  Dtype  \n",
      "---  ------            --------------  -----  \n",
      " 0   ID                13584 non-null  int64  \n",
      " 1   Код_группы        13584 non-null  int64  \n",
      " 2   Год_Поступления   13584 non-null  int64  \n",
      " 3   Пол               13577 non-null  object \n",
      " 4   Основания         13584 non-null  object \n",
      " 5   Изучаемый_Язык    12758 non-null  object \n",
      " 6   Дата_Рождения     13584 non-null  object \n",
      " 7   Уч_Заведение      12351 non-null  object \n",
      " 8   Где_Находится_УЗ  12203 non-null  object \n",
      " 9   Год_Окончания_УЗ  12284 non-null  float64\n",
      " 10  Пособие           12576 non-null  float64\n",
      " 11  Страна_ПП         13237 non-null  object \n",
      " 12  Регион_ПП         12966 non-null  object \n",
      " 13  Город_ПП          13141 non-null  object \n",
      " 14  Общежитие         13498 non-null  float64\n",
      " 15  Наличие_Матери    13584 non-null  int64  \n",
      " 16  Наличие_Отца      13584 non-null  float64\n",
      " 17  Страна_Родители   13126 non-null  object \n",
      " 18  Опекунство        13584 non-null  float64\n",
      " 19  Село              13498 non-null  float64\n",
      " 20  Иностранец        13274 non-null  float64\n",
      " 21  КодФакультета     13584 non-null  float64\n",
      " 22  СрБаллАттестата   13584 non-null  float64\n",
      " 23  Статус            13584 non-null  int64  \n",
      "dtypes: float64(9), int64(5), object(10)\n",
      "memory usage: 2.5+ MB\n"
     ]
    }
   ],
   "source": [
    "data_train.info()"
   ]
  },
  {
   "cell_type": "code",
   "execution_count": 5,
   "id": "31dff5eb",
   "metadata": {},
   "outputs": [
    {
     "data": {
      "text/plain": [
       "Где_Находится_УЗ    0.101664\n",
       "Год_Окончания_УЗ    0.095701\n",
       "Уч_Заведение        0.090769\n",
       "Пособие             0.074205\n",
       "Изучаемый_Язык      0.060807\n",
       "Регион_ПП           0.045495\n",
       "Страна_Родители     0.033716\n",
       "Город_ПП            0.032612\n",
       "Страна_ПП           0.025545\n",
       "Иностранец          0.022821\n",
       "Общежитие           0.006331\n",
       "Село                0.006331\n",
       "Пол                 0.000515\n",
       "dtype: float64"
      ]
     },
     "execution_count": 5,
     "metadata": {},
     "output_type": "execute_result"
    }
   ],
   "source": [
    "# Пропуски в train\n",
    "train_nan = data_train.isna().sum() / data_train.shape[0]\n",
    "train_nan = train_nan[train_nan > 0].sort_values(ascending=False)\n",
    "train_nan"
   ]
  },
  {
   "cell_type": "code",
   "execution_count": 6,
   "id": "8ca66c50",
   "metadata": {},
   "outputs": [
    {
     "data": {
      "text/plain": [
       "Где_Находится_УЗ    0.098640\n",
       "Год_Окончания_УЗ    0.092213\n",
       "Уч_Заведение        0.086385\n",
       "Пособие             0.072336\n",
       "Изучаемый_Язык      0.059184\n",
       "Регион_ПП           0.043342\n",
       "Город_ПП            0.031983\n",
       "Страна_Родители     0.029592\n",
       "Страна_ПП           0.023913\n",
       "Иностранец          0.019429\n",
       "Село                0.005530\n",
       "Общежитие           0.005231\n",
       "Пол                 0.000448\n",
       "dtype: float64"
      ]
     },
     "execution_count": 6,
     "metadata": {},
     "output_type": "execute_result"
    }
   ],
   "source": [
    "# Пропуски в test\n",
    "test_nan = data_test.isna().sum() / data_test.shape[0]\n",
    "test_nan = test_nan[test_nan > 0].sort_values(ascending=False)\n",
    "test_nan"
   ]
  },
  {
   "cell_type": "markdown",
   "id": "dce3d292",
   "metadata": {},
   "source": [
    "Пропуски в train и test по столбцам распределены примерно одинаково"
   ]
  },
  {
   "cell_type": "code",
   "execution_count": 7,
   "id": "e1cba134",
   "metadata": {},
   "outputs": [
    {
     "data": {
      "text/html": [
       "<div>\n",
       "<style scoped>\n",
       "    .dataframe tbody tr th:only-of-type {\n",
       "        vertical-align: middle;\n",
       "    }\n",
       "\n",
       "    .dataframe tbody tr th {\n",
       "        vertical-align: top;\n",
       "    }\n",
       "\n",
       "    .dataframe thead th {\n",
       "        text-align: right;\n",
       "    }\n",
       "</style>\n",
       "<table border=\"1\" class=\"dataframe\">\n",
       "  <thead>\n",
       "    <tr style=\"text-align: right;\">\n",
       "      <th></th>\n",
       "      <th>ID</th>\n",
       "      <th>Код_группы</th>\n",
       "      <th>Год_Поступления</th>\n",
       "      <th>Пол</th>\n",
       "      <th>Основания</th>\n",
       "      <th>Изучаемый_Язык</th>\n",
       "      <th>Дата_Рождения</th>\n",
       "      <th>Уч_Заведение</th>\n",
       "      <th>Где_Находится_УЗ</th>\n",
       "      <th>Год_Окончания_УЗ</th>\n",
       "      <th>Пособие</th>\n",
       "      <th>Страна_ПП</th>\n",
       "      <th>Регион_ПП</th>\n",
       "      <th>Город_ПП</th>\n",
       "      <th>Общежитие</th>\n",
       "      <th>Наличие_Матери</th>\n",
       "      <th>Наличие_Отца</th>\n",
       "      <th>Страна_Родители</th>\n",
       "      <th>Опекунство</th>\n",
       "      <th>Село</th>\n",
       "      <th>Иностранец</th>\n",
       "      <th>КодФакультета</th>\n",
       "      <th>СрБаллАттестата</th>\n",
       "      <th>Статус</th>\n",
       "    </tr>\n",
       "  </thead>\n",
       "  <tbody>\n",
       "    <tr>\n",
       "      <th>5820</th>\n",
       "      <td>83808</td>\n",
       "      <td>20820</td>\n",
       "      <td>2017</td>\n",
       "      <td>Жен</td>\n",
       "      <td>ДН</td>\n",
       "      <td>Английский язык</td>\n",
       "      <td>1994-11-10 00:00:00.000</td>\n",
       "      <td>ФГБОУ ВО Алтайский государственный университет</td>\n",
       "      <td>Алтайский край, г. Барнаул</td>\n",
       "      <td>2017.0</td>\n",
       "      <td>0.0</td>\n",
       "      <td>Россия</td>\n",
       "      <td>Алтайский край</td>\n",
       "      <td>г. Камень-на-Оби</td>\n",
       "      <td>0.0</td>\n",
       "      <td>1</td>\n",
       "      <td>1.0</td>\n",
       "      <td>Россия</td>\n",
       "      <td>0.0</td>\n",
       "      <td>0.0</td>\n",
       "      <td>0.0</td>\n",
       "      <td>25.0</td>\n",
       "      <td>37.0</td>\n",
       "      <td>4</td>\n",
       "    </tr>\n",
       "    <tr>\n",
       "      <th>2089</th>\n",
       "      <td>65796</td>\n",
       "      <td>19329</td>\n",
       "      <td>2014</td>\n",
       "      <td>Жен</td>\n",
       "      <td>СН</td>\n",
       "      <td>Английский язык</td>\n",
       "      <td>1996-07-24 00:00:00.000</td>\n",
       "      <td>МБОУ \"Лицей №129\"</td>\n",
       "      <td>Алтайский край, Барнаул г</td>\n",
       "      <td>2014.0</td>\n",
       "      <td>0.0</td>\n",
       "      <td>Россия</td>\n",
       "      <td>Алтайский край</td>\n",
       "      <td>Барнаул г</td>\n",
       "      <td>0.0</td>\n",
       "      <td>0</td>\n",
       "      <td>0.0</td>\n",
       "      <td>Россия</td>\n",
       "      <td>0.0</td>\n",
       "      <td>0.0</td>\n",
       "      <td>0.0</td>\n",
       "      <td>24.0</td>\n",
       "      <td>93.0</td>\n",
       "      <td>4</td>\n",
       "    </tr>\n",
       "    <tr>\n",
       "      <th>6486</th>\n",
       "      <td>49486</td>\n",
       "      <td>16894</td>\n",
       "      <td>2013</td>\n",
       "      <td>Муж</td>\n",
       "      <td>ОО</td>\n",
       "      <td>Английский язык</td>\n",
       "      <td>1994-12-23 00:00:00.000</td>\n",
       "      <td>МБОУ \"Гимназия №74\"</td>\n",
       "      <td>Алтайский край г. Барнаул</td>\n",
       "      <td>2013.0</td>\n",
       "      <td>0.0</td>\n",
       "      <td>Россия</td>\n",
       "      <td>Алтайский край</td>\n",
       "      <td>Барнаул г</td>\n",
       "      <td>0.0</td>\n",
       "      <td>0</td>\n",
       "      <td>0.0</td>\n",
       "      <td>Россия</td>\n",
       "      <td>0.0</td>\n",
       "      <td>0.0</td>\n",
       "      <td>0.0</td>\n",
       "      <td>31.0</td>\n",
       "      <td>87.0</td>\n",
       "      <td>4</td>\n",
       "    </tr>\n",
       "    <tr>\n",
       "      <th>12886</th>\n",
       "      <td>66233</td>\n",
       "      <td>18212</td>\n",
       "      <td>2014</td>\n",
       "      <td>Жен</td>\n",
       "      <td>ОО</td>\n",
       "      <td>Английский язык</td>\n",
       "      <td>1996-05-10 00:00:00.000</td>\n",
       "      <td>КГБО школа-интернат \"Бийский лицей-интернат Ал...</td>\n",
       "      <td>Алтайский край, Бийск г</td>\n",
       "      <td>2014.0</td>\n",
       "      <td>0.0</td>\n",
       "      <td>Россия</td>\n",
       "      <td>Алтайский край</td>\n",
       "      <td>Барнаул</td>\n",
       "      <td>0.0</td>\n",
       "      <td>0</td>\n",
       "      <td>0.0</td>\n",
       "      <td>Россия</td>\n",
       "      <td>0.0</td>\n",
       "      <td>0.0</td>\n",
       "      <td>0.0</td>\n",
       "      <td>25.0</td>\n",
       "      <td>82.0</td>\n",
       "      <td>4</td>\n",
       "    </tr>\n",
       "    <tr>\n",
       "      <th>2700</th>\n",
       "      <td>64938</td>\n",
       "      <td>16842</td>\n",
       "      <td>2014</td>\n",
       "      <td>Муж</td>\n",
       "      <td>СН</td>\n",
       "      <td>Английский язык</td>\n",
       "      <td>1996-09-07 00:00:00.000</td>\n",
       "      <td>МБОУ \"СОШ городского округа ЗАТО Сибирский\"</td>\n",
       "      <td>Алтайский край, Сибирский ЗАТО</td>\n",
       "      <td>2014.0</td>\n",
       "      <td>0.0</td>\n",
       "      <td>Россия</td>\n",
       "      <td>Алтайский край</td>\n",
       "      <td>Барнаул г</td>\n",
       "      <td>0.0</td>\n",
       "      <td>0</td>\n",
       "      <td>0.0</td>\n",
       "      <td>Россия</td>\n",
       "      <td>0.0</td>\n",
       "      <td>0.0</td>\n",
       "      <td>0.0</td>\n",
       "      <td>27.0</td>\n",
       "      <td>51.0</td>\n",
       "      <td>3</td>\n",
       "    </tr>\n",
       "  </tbody>\n",
       "</table>\n",
       "</div>"
      ],
      "text/plain": [
       "          ID  Код_группы  Год_Поступления  Пол Основания   Изучаемый_Язык  \\\n",
       "5820   83808       20820             2017  Жен        ДН  Английский язык   \n",
       "2089   65796       19329             2014  Жен        СН  Английский язык   \n",
       "6486   49486       16894             2013  Муж        ОО  Английский язык   \n",
       "12886  66233       18212             2014  Жен        ОО  Английский язык   \n",
       "2700   64938       16842             2014  Муж        СН  Английский язык   \n",
       "\n",
       "                 Дата_Рождения  \\\n",
       "5820   1994-11-10 00:00:00.000   \n",
       "2089   1996-07-24 00:00:00.000   \n",
       "6486   1994-12-23 00:00:00.000   \n",
       "12886  1996-05-10 00:00:00.000   \n",
       "2700   1996-09-07 00:00:00.000   \n",
       "\n",
       "                                            Уч_Заведение  \\\n",
       "5820      ФГБОУ ВО Алтайский государственный университет   \n",
       "2089                                   МБОУ \"Лицей №129\"   \n",
       "6486                                 МБОУ \"Гимназия №74\"   \n",
       "12886  КГБО школа-интернат \"Бийский лицей-интернат Ал...   \n",
       "2700         МБОУ \"СОШ городского округа ЗАТО Сибирский\"   \n",
       "\n",
       "                     Где_Находится_УЗ  Год_Окончания_УЗ  Пособие Страна_ПП  \\\n",
       "5820       Алтайский край, г. Барнаул            2017.0      0.0    Россия   \n",
       "2089        Алтайский край, Барнаул г            2014.0      0.0    Россия   \n",
       "6486        Алтайский край г. Барнаул            2013.0      0.0    Россия   \n",
       "12886         Алтайский край, Бийск г            2014.0      0.0    Россия   \n",
       "2700   Алтайский край, Сибирский ЗАТО            2014.0      0.0    Россия   \n",
       "\n",
       "            Регион_ПП          Город_ПП  Общежитие  Наличие_Матери  \\\n",
       "5820   Алтайский край  г. Камень-на-Оби        0.0               1   \n",
       "2089   Алтайский край         Барнаул г        0.0               0   \n",
       "6486   Алтайский край         Барнаул г        0.0               0   \n",
       "12886  Алтайский край           Барнаул        0.0               0   \n",
       "2700   Алтайский край         Барнаул г        0.0               0   \n",
       "\n",
       "       Наличие_Отца Страна_Родители  Опекунство  Село  Иностранец  \\\n",
       "5820            1.0          Россия         0.0   0.0         0.0   \n",
       "2089            0.0          Россия         0.0   0.0         0.0   \n",
       "6486            0.0          Россия         0.0   0.0         0.0   \n",
       "12886           0.0          Россия         0.0   0.0         0.0   \n",
       "2700            0.0          Россия         0.0   0.0         0.0   \n",
       "\n",
       "       КодФакультета  СрБаллАттестата  Статус  \n",
       "5820            25.0             37.0       4  \n",
       "2089            24.0             93.0       4  \n",
       "6486            31.0             87.0       4  \n",
       "12886           25.0             82.0       4  \n",
       "2700            27.0             51.0       3  "
      ]
     },
     "execution_count": 7,
     "metadata": {},
     "output_type": "execute_result"
    }
   ],
   "source": [
    "data_train.sample(5)"
   ]
  },
  {
   "cell_type": "code",
   "execution_count": 8,
   "id": "a66cd6ab",
   "metadata": {},
   "outputs": [
    {
     "data": {
      "text/html": [
       "<div>\n",
       "<style scoped>\n",
       "    .dataframe tbody tr th:only-of-type {\n",
       "        vertical-align: middle;\n",
       "    }\n",
       "\n",
       "    .dataframe tbody tr th {\n",
       "        vertical-align: top;\n",
       "    }\n",
       "\n",
       "    .dataframe thead th {\n",
       "        text-align: right;\n",
       "    }\n",
       "</style>\n",
       "<table border=\"1\" class=\"dataframe\">\n",
       "  <thead>\n",
       "    <tr style=\"text-align: right;\">\n",
       "      <th></th>\n",
       "      <th>ID</th>\n",
       "      <th>Код_группы</th>\n",
       "      <th>Год_Поступления</th>\n",
       "      <th>Пол</th>\n",
       "      <th>Основания</th>\n",
       "      <th>Изучаемый_Язык</th>\n",
       "      <th>Дата_Рождения</th>\n",
       "      <th>Уч_Заведение</th>\n",
       "      <th>Где_Находится_УЗ</th>\n",
       "      <th>Год_Окончания_УЗ</th>\n",
       "      <th>Пособие</th>\n",
       "      <th>Страна_ПП</th>\n",
       "      <th>Регион_ПП</th>\n",
       "      <th>Город_ПП</th>\n",
       "      <th>Общежитие</th>\n",
       "      <th>Наличие_Матери</th>\n",
       "      <th>Наличие_Отца</th>\n",
       "      <th>Страна_Родители</th>\n",
       "      <th>Опекунство</th>\n",
       "      <th>Село</th>\n",
       "      <th>Иностранец</th>\n",
       "      <th>КодФакультета</th>\n",
       "      <th>СрБаллАттестата</th>\n",
       "    </tr>\n",
       "  </thead>\n",
       "  <tbody>\n",
       "    <tr>\n",
       "      <th>4264</th>\n",
       "      <td>70233</td>\n",
       "      <td>17284</td>\n",
       "      <td>2015</td>\n",
       "      <td>Жен</td>\n",
       "      <td>ОО</td>\n",
       "      <td>Английский язык</td>\n",
       "      <td>1993-06-01 00:00:00.000</td>\n",
       "      <td>ФГБОУ ВПО \"Алтайский государственный университет\"</td>\n",
       "      <td>Алтайский край, Барнаул г</td>\n",
       "      <td>2015.0</td>\n",
       "      <td>0.0</td>\n",
       "      <td>Россия</td>\n",
       "      <td>Алтайский край</td>\n",
       "      <td>Барнаул г, Южный рп</td>\n",
       "      <td>0.0</td>\n",
       "      <td>0</td>\n",
       "      <td>0.0</td>\n",
       "      <td>Россия</td>\n",
       "      <td>0.0</td>\n",
       "      <td>0.0</td>\n",
       "      <td>0.0</td>\n",
       "      <td>25.0</td>\n",
       "      <td>84.000</td>\n",
       "    </tr>\n",
       "    <tr>\n",
       "      <th>5256</th>\n",
       "      <td>54858</td>\n",
       "      <td>16986</td>\n",
       "      <td>2013</td>\n",
       "      <td>Жен</td>\n",
       "      <td>СН</td>\n",
       "      <td>NaN</td>\n",
       "      <td>1993-05-31 00:00:00.000</td>\n",
       "      <td>NaN</td>\n",
       "      <td>NaN</td>\n",
       "      <td>NaN</td>\n",
       "      <td>0.0</td>\n",
       "      <td>NaN</td>\n",
       "      <td>NaN</td>\n",
       "      <td>NaN</td>\n",
       "      <td>0.0</td>\n",
       "      <td>1</td>\n",
       "      <td>1.0</td>\n",
       "      <td>Россия</td>\n",
       "      <td>0.0</td>\n",
       "      <td>0.0</td>\n",
       "      <td>0.0</td>\n",
       "      <td>36.0</td>\n",
       "      <td>62.000</td>\n",
       "    </tr>\n",
       "    <tr>\n",
       "      <th>6358</th>\n",
       "      <td>91027</td>\n",
       "      <td>22315</td>\n",
       "      <td>2019</td>\n",
       "      <td>Муж</td>\n",
       "      <td>ДН</td>\n",
       "      <td>Английский язык</td>\n",
       "      <td>2001-06-04 00:00:00.000</td>\n",
       "      <td>МБОУ СОШ №125 с углубленным изучением отдельны...</td>\n",
       "      <td>Алтайский край, г. Барнаул</td>\n",
       "      <td>2019.0</td>\n",
       "      <td>0.0</td>\n",
       "      <td>Россия</td>\n",
       "      <td>Алтайский край</td>\n",
       "      <td>г. Барнаул</td>\n",
       "      <td>0.0</td>\n",
       "      <td>0</td>\n",
       "      <td>0.0</td>\n",
       "      <td>Россия</td>\n",
       "      <td>0.0</td>\n",
       "      <td>0.0</td>\n",
       "      <td>0.0</td>\n",
       "      <td>41.0</td>\n",
       "      <td>3.563</td>\n",
       "    </tr>\n",
       "    <tr>\n",
       "      <th>6341</th>\n",
       "      <td>49696</td>\n",
       "      <td>18161</td>\n",
       "      <td>2013</td>\n",
       "      <td>Жен</td>\n",
       "      <td>ОО</td>\n",
       "      <td>Английский язык</td>\n",
       "      <td>1994-11-22 00:00:00.000</td>\n",
       "      <td>МБОУ \"Лицей №112\"</td>\n",
       "      <td>г. Барнаул Алтайского края</td>\n",
       "      <td>2013.0</td>\n",
       "      <td>0.0</td>\n",
       "      <td>Россия</td>\n",
       "      <td>Алтайский край</td>\n",
       "      <td>Барнаул г</td>\n",
       "      <td>0.0</td>\n",
       "      <td>0</td>\n",
       "      <td>0.0</td>\n",
       "      <td>Россия</td>\n",
       "      <td>0.0</td>\n",
       "      <td>0.0</td>\n",
       "      <td>0.0</td>\n",
       "      <td>34.0</td>\n",
       "      <td>81.000</td>\n",
       "    </tr>\n",
       "    <tr>\n",
       "      <th>3579</th>\n",
       "      <td>82514</td>\n",
       "      <td>19816</td>\n",
       "      <td>2017</td>\n",
       "      <td>Жен</td>\n",
       "      <td>БН</td>\n",
       "      <td>Английский язык</td>\n",
       "      <td>1980-01-25 00:00:00.000</td>\n",
       "      <td>ГОУ ВПО Новосибирский государственный педагоги...</td>\n",
       "      <td>Новосибирская область, г. Новосибирск</td>\n",
       "      <td>2010.0</td>\n",
       "      <td>0.0</td>\n",
       "      <td>Россия</td>\n",
       "      <td>Новосибирская область</td>\n",
       "      <td>Верх-Коен с</td>\n",
       "      <td>1.0</td>\n",
       "      <td>1</td>\n",
       "      <td>1.0</td>\n",
       "      <td>Россия</td>\n",
       "      <td>0.0</td>\n",
       "      <td>0.0</td>\n",
       "      <td>0.0</td>\n",
       "      <td>31.0</td>\n",
       "      <td>70.000</td>\n",
       "    </tr>\n",
       "  </tbody>\n",
       "</table>\n",
       "</div>"
      ],
      "text/plain": [
       "         ID  Код_группы  Год_Поступления  Пол Основания   Изучаемый_Язык  \\\n",
       "4264  70233       17284             2015  Жен        ОО  Английский язык   \n",
       "5256  54858       16986             2013  Жен        СН              NaN   \n",
       "6358  91027       22315             2019  Муж        ДН  Английский язык   \n",
       "6341  49696       18161             2013  Жен        ОО  Английский язык   \n",
       "3579  82514       19816             2017  Жен        БН  Английский язык   \n",
       "\n",
       "                Дата_Рождения  \\\n",
       "4264  1993-06-01 00:00:00.000   \n",
       "5256  1993-05-31 00:00:00.000   \n",
       "6358  2001-06-04 00:00:00.000   \n",
       "6341  1994-11-22 00:00:00.000   \n",
       "3579  1980-01-25 00:00:00.000   \n",
       "\n",
       "                                           Уч_Заведение  \\\n",
       "4264  ФГБОУ ВПО \"Алтайский государственный университет\"   \n",
       "5256                                                NaN   \n",
       "6358  МБОУ СОШ №125 с углубленным изучением отдельны...   \n",
       "6341                                  МБОУ \"Лицей №112\"   \n",
       "3579  ГОУ ВПО Новосибирский государственный педагоги...   \n",
       "\n",
       "                           Где_Находится_УЗ  Год_Окончания_УЗ  Пособие  \\\n",
       "4264              Алтайский край, Барнаул г            2015.0      0.0   \n",
       "5256                                    NaN               NaN      0.0   \n",
       "6358             Алтайский край, г. Барнаул            2019.0      0.0   \n",
       "6341             г. Барнаул Алтайского края            2013.0      0.0   \n",
       "3579  Новосибирская область, г. Новосибирск            2010.0      0.0   \n",
       "\n",
       "     Страна_ПП              Регион_ПП             Город_ПП  Общежитие  \\\n",
       "4264    Россия         Алтайский край  Барнаул г, Южный рп        0.0   \n",
       "5256       NaN                    NaN                  NaN        0.0   \n",
       "6358    Россия         Алтайский край           г. Барнаул        0.0   \n",
       "6341    Россия         Алтайский край            Барнаул г        0.0   \n",
       "3579    Россия  Новосибирская область          Верх-Коен с        1.0   \n",
       "\n",
       "      Наличие_Матери  Наличие_Отца Страна_Родители  Опекунство  Село  \\\n",
       "4264               0           0.0          Россия         0.0   0.0   \n",
       "5256               1           1.0          Россия         0.0   0.0   \n",
       "6358               0           0.0          Россия         0.0   0.0   \n",
       "6341               0           0.0          Россия         0.0   0.0   \n",
       "3579               1           1.0          Россия         0.0   0.0   \n",
       "\n",
       "      Иностранец  КодФакультета  СрБаллАттестата  \n",
       "4264         0.0           25.0           84.000  \n",
       "5256         0.0           36.0           62.000  \n",
       "6358         0.0           41.0            3.563  \n",
       "6341         0.0           34.0           81.000  \n",
       "3579         0.0           31.0           70.000  "
      ]
     },
     "execution_count": 8,
     "metadata": {},
     "output_type": "execute_result"
    }
   ],
   "source": [
    "data_test.sample(5)"
   ]
  },
  {
   "cell_type": "code",
   "execution_count": 9,
   "id": "cff3a882",
   "metadata": {},
   "outputs": [
    {
     "name": "stdout",
     "output_type": "stream",
     "text": [
      "train - test: 13584\n",
      "пересечение: 0\n",
      "test - train: 6691\n"
     ]
    }
   ],
   "source": [
    "id_set_train = set(data_train['ID'].values)\n",
    "id_set_test = set(data_test['ID'].values)\n",
    "print('train - test:', len(id_set_train - id_set_test))\n",
    "print('пересечение:' , len(id_set_train & id_set_test))\n",
    "print('test - train:',len(id_set_test - id_set_train))"
   ]
  },
  {
   "cell_type": "markdown",
   "id": "092a4fed",
   "metadata": {},
   "source": [
    "Пересечений в train и test по студентам нет"
   ]
  },
  {
   "cell_type": "code",
   "execution_count": 10,
   "id": "5bbf393f",
   "metadata": {},
   "outputs": [
    {
     "data": {
      "image/png": "[encoded data removed]",
      "text/plain": [
       "<Figure size 1152x360 with 1 Axes>"
      ]
     },
     "metadata": {},
     "output_type": "display_data"
    }
   ],
   "source": [
    "plt.figure(figsize=(16, 5))\n",
    "\n",
    "cols = data_train.columns\n",
    "nunique = [data_train[col].nunique() for col in cols] #уникальные записи\n",
    "\n",
    "ax = sns.barplot(x=cols, y=nunique, log=True)\n",
    "ax.set(xlabel='Столбец', ylabel='Log nunique', title='Количество уникальных записей в столбцах Train')\n",
    "\n",
    "# Простовляем кол-во уникальных записей без log.\n",
    "for p, uniq in zip(ax.patches, nunique):\n",
    "    ax.text(p.get_x() + p.get_width()/2., uniq + 10, uniq, ha=\"center\") \n",
    "\n",
    "ax.set_xticklabels(ax.get_xticklabels(), rotation=50);"
   ]
  },
  {
   "cell_type": "code",
   "execution_count": 11,
   "id": "0084589a",
   "metadata": {},
   "outputs": [
    {
     "data": {
      "image/png": "[encoded data removed]",
      "text/plain": [
       "<Figure size 1152x360 with 1 Axes>"
      ]
     },
     "metadata": {},
     "output_type": "display_data"
    }
   ],
   "source": [
    "plt.figure(figsize=(16, 5))\n",
    "\n",
    "cols = data_test.columns\n",
    "nunique = [data_test[col].nunique() for col in cols] #уникальные записи\n",
    "\n",
    "ax = sns.barplot(x=cols, y=nunique, log=True)\n",
    "ax.set(xlabel='Столбец', ylabel='Log nunique', title='Количество уникальных записей в столбцах Test')\n",
    "\n",
    "# Простовляем кол-во уникальных записей без log.\n",
    "for p, uniq in zip(ax.patches, nunique):\n",
    "    ax.text(p.get_x() + p.get_width()/2., uniq + 10, uniq, ha=\"center\") \n",
    "\n",
    "ax.set_xticklabels(ax.get_xticklabels(), rotation=50);"
   ]
  },
  {
   "cell_type": "markdown",
   "id": "05a6de72",
   "metadata": {},
   "source": [
    "### Статус"
   ]
  },
  {
   "cell_type": "code",
   "execution_count": 12,
   "id": "f25101a4",
   "metadata": {},
   "outputs": [
    {
     "data": {
      "text/plain": [
       " 4    8249\n",
       " 3    4721\n",
       "-1     614\n",
       "Name: Статус, dtype: int64"
      ]
     },
     "execution_count": 12,
     "metadata": {},
     "output_type": "execute_result"
    }
   ],
   "source": [
    "data_train['Статус'].value_counts()"
   ]
  },
  {
   "cell_type": "code",
   "execution_count": 13,
   "id": "0c80d9cb",
   "metadata": {},
   "outputs": [
    {
     "data": {
      "image/png": "[encoded data removed]",
      "text/plain": [
       "<Figure size 432x432 with 1 Axes>"
      ]
     },
     "metadata": {},
     "output_type": "display_data"
    }
   ],
   "source": [
    "counts = data_train['Статус'].value_counts()\n",
    "mylabels = [\"Закончил обучение\", \"Отчислен\",'Ушел в академический отпуск']\n",
    "text_font = {\"fontsize\":18}\n",
    "explode = [0.05 ,0.05, 0.05]\n",
    "plt.figure(figsize=(6,6))\n",
    "plt.pie(counts, labels = mylabels,autopct = \"%0.2f%%\", colors=['#8dd3c7','#feffb3','#6495ed'], explode = explode,textprops =text_font,shadow = True)\n",
    "plt.title('Распределение таргета',size=18,fontweight = 'bold')\n",
    "plt.legend()\n",
    "plt.show()"
   ]
  },
  {
   "cell_type": "markdown",
   "id": "e4762c81",
   "metadata": {},
   "source": [
    "Изменим кодирование таргета: 0 - Отчислен, 1 - Ушел в академический отпуск, 2 - Закончил обучение"
   ]
  },
  {
   "cell_type": "code",
   "execution_count": 14,
   "id": "ca695e75",
   "metadata": {},
   "outputs": [],
   "source": [
    "data_train['Статус'] = data_train['Статус'].replace({3:0, 4:2, -1:1})"
   ]
  },
  {
   "cell_type": "code",
   "execution_count": 15,
   "id": "0ca50fc1",
   "metadata": {},
   "outputs": [
    {
     "data": {
      "text/plain": [
       "2    8249\n",
       "0    4721\n",
       "1     614\n",
       "Name: Статус, dtype: int64"
      ]
     },
     "execution_count": 15,
     "metadata": {},
     "output_type": "execute_result"
    }
   ],
   "source": [
    "data_train['Статус'].value_counts()"
   ]
  },
  {
   "cell_type": "markdown",
   "id": "0485962b",
   "metadata": {},
   "source": [
    "### Код_группы, КодФакультета"
   ]
  },
  {
   "cell_type": "markdown",
   "id": "5937c6ff",
   "metadata": {},
   "source": [
    "Изменим тип данных с числового на категориальный"
   ]
  },
  {
   "cell_type": "code",
   "execution_count": 16,
   "id": "dd8f0cec",
   "metadata": {},
   "outputs": [],
   "source": [
    "data_train['Код_группы'] = data_train['Код_группы'].astype('object')\n",
    "data_test['Код_группы'] = data_test['Код_группы'].astype('object')\n",
    "data_train['КодФакультета'] = data_train['КодФакультета'].astype('object')\n",
    "data_test['КодФакультета'] = data_test['КодФакультета'].astype('object')"
   ]
  },
  {
   "cell_type": "markdown",
   "id": "568a503d",
   "metadata": {},
   "source": [
    "### Год_Поступления, Год_Окончания_УЗ"
   ]
  },
  {
   "cell_type": "code",
   "execution_count": 17,
   "id": "cadf89df",
   "metadata": {},
   "outputs": [
    {
     "data": {
      "text/plain": [
       "2015    2353\n",
       "2014    2290\n",
       "2016    2271\n",
       "2013    2070\n",
       "2017    1460\n",
       "2012    1394\n",
       "2018    1147\n",
       "2019     466\n",
       "2020      48\n",
       "2011      46\n",
       "2010      19\n",
       "2009       8\n",
       "2007       5\n",
       "2008       2\n",
       "2212       1\n",
       "2001       1\n",
       "2004       1\n",
       "2005       1\n",
       "2003       1\n",
       "Name: Год_Поступления, dtype: int64"
      ]
     },
     "execution_count": 17,
     "metadata": {},
     "output_type": "execute_result"
    }
   ],
   "source": [
    "data_train['Год_Поступления'].value_counts()"
   ]
  },
  {
   "cell_type": "code",
   "execution_count": 18,
   "id": "f1d29ec4",
   "metadata": {},
   "outputs": [
    {
     "data": {
      "text/plain": [
       "2014    1177\n",
       "2015    1172\n",
       "2016    1114\n",
       "2013    1028\n",
       "2017     714\n",
       "2012     637\n",
       "2018     544\n",
       "2019     227\n",
       "2020      39\n",
       "2011      23\n",
       "2010       8\n",
       "2009       5\n",
       "2007       2\n",
       "2006       1\n",
       "Name: Год_Поступления, dtype: int64"
      ]
     },
     "execution_count": 18,
     "metadata": {},
     "output_type": "execute_result"
    }
   ],
   "source": [
    "data_test['Год_Поступления'].value_counts()"
   ]
  },
  {
   "cell_type": "markdown",
   "id": "c39d4085",
   "metadata": {},
   "source": [
    "Значения > 2020 и < 2010, скоей всего являются выбросами"
   ]
  },
  {
   "cell_type": "code",
   "execution_count": 19,
   "id": "4eae5a23",
   "metadata": {},
   "outputs": [],
   "source": [
    "data_test.loc[((data_test['Год_Поступления'] <=2010) | (data_test['Год_Поступления'] >=2021)),'Год_Поступления'] = 2010\n",
    "data_train.loc[((data_train['Год_Поступления'] <=2010) | (data_train['Год_Поступления'] >=2021)),'Год_Поступления'] = 2010"
   ]
  },
  {
   "cell_type": "code",
   "execution_count": 20,
   "id": "484c8b94",
   "metadata": {},
   "outputs": [
    {
     "data": {
      "image/png": "[encoded data removed]",
      "text/plain": [
       "<Figure size 864x576 with 1 Axes>"
      ]
     },
     "metadata": {},
     "output_type": "display_data"
    }
   ],
   "source": [
    "plt.figure(figsize=(12,8))\n",
    "\n",
    "data_0 = data_train['Год_Поступления']\n",
    "data_1 = data_test['Год_Поступления']\n",
    "\n",
    "g_0 = sns.histplot(x=data_0,color='orange',alpha=0.6, bins = 11)\n",
    "g_1 = sns.histplot(x=data_1,color='green',alpha=0.6, bins = 11)\n",
    "\n",
    "g_0.axvline(data_0.median(),linestyle = '--',color='orange')\n",
    "g_1.axvline(data_1.median(),linestyle = '--',color='green')\n",
    "\n",
    "# g_0.set_xlim(2010,2021)\n",
    "# g_1.set_xlim(2010,2021)\n",
    "\n",
    "plt.ticklabel_format(style='plain', axis='x')\n",
    "plt.title('Год поступления в Train и Test',size=18)\n",
    "plt.xlabel('Год',size=15)\n",
    "plt.ylabel('Клоличество',size=15)\n",
    "plt.legend(['Медиана train','Медиана test','Train','Test'],fontsize=15)\n",
    "plt.show()"
   ]
  },
  {
   "cell_type": "code",
   "execution_count": 21,
   "id": "31def9df",
   "metadata": {},
   "outputs": [],
   "source": [
    "data_test.loc[data_test['Год_Окончания_УЗ'] < 1980,'Год_Окончания_УЗ'] = 1980\n",
    "data_train.loc[data_train['Год_Окончания_УЗ'] < 1980,'Год_Окончания_УЗ'] = 1980"
   ]
  },
  {
   "cell_type": "code",
   "execution_count": 22,
   "id": "f86d6d20",
   "metadata": {},
   "outputs": [
    {
     "data": {
      "image/png": "[encoded data removed]",
      "text/plain": [
       "<Figure size 864x576 with 1 Axes>"
      ]
     },
     "metadata": {},
     "output_type": "display_data"
    }
   ],
   "source": [
    "plt.figure(figsize=(12,8))\n",
    "\n",
    "data_0 = data_train['Год_Окончания_УЗ']\n",
    "data_1 = data_test['Год_Окончания_УЗ']\n",
    "\n",
    "g_0 = sns.histplot(x=data_0,color='orange',alpha=0.6)\n",
    "g_1 = sns.histplot(x=data_1,color='green',alpha=0.6)\n",
    "\n",
    "g_0.axvline(data_0.median(),linestyle = '--',color='orange')\n",
    "g_1.axvline(data_1.median(),linestyle = '--',color='green')\n",
    "\n",
    "# g_0.set_xlim(2010,2021)\n",
    "# g_1.set_xlim(2010,2021)\n",
    "\n",
    "plt.ticklabel_format(style='plain', axis='x')\n",
    "plt.title('Год окончания учебного заведения в Train и Test',size=18)\n",
    "plt.xlabel('Год',size=15)\n",
    "plt.ylabel('Клоличество',size=15)\n",
    "plt.legend(['Медиана train','Медиана test','Train','Test'],fontsize=15)\n",
    "plt.show()"
   ]
  },
  {
   "cell_type": "code",
   "execution_count": 23,
   "id": "2d2b1b76",
   "metadata": {},
   "outputs": [],
   "source": [
    "data_train['Год_Рождения'] = pd.to_datetime(data_train['Дата_Рождения'],format= '%Y-%m-%d %H:%M:%S.%f').dt.year\n",
    "data_test['Год_Рождения'] = pd.to_datetime(data_test['Дата_Рождения'],format= '%Y-%m-%d %H:%M:%S.%f').dt.year"
   ]
  },
  {
   "cell_type": "code",
   "execution_count": 24,
   "id": "474653e5",
   "metadata": {},
   "outputs": [],
   "source": [
    "data_test.loc[data_test['Год_Рождения'] < 1960,'Год_Рождения'] = 1960\n",
    "data_train.loc[data_train['Год_Рождения'] < 1960,'Год_Рождения'] = 1960"
   ]
  },
  {
   "cell_type": "code",
   "execution_count": 25,
   "id": "a623c1ac",
   "metadata": {},
   "outputs": [
    {
     "data": {
      "image/png": "[encoded data removed]",
      "text/plain": [
       "<Figure size 864x576 with 1 Axes>"
      ]
     },
     "metadata": {},
     "output_type": "display_data"
    }
   ],
   "source": [
    "plt.figure(figsize=(12,8))\n",
    "\n",
    "data_0 = data_train['Год_Рождения']\n",
    "data_1 = data_test['Год_Рождения']\n",
    "\n",
    "g_0 = sns.histplot(x=data_0,color='orange',alpha=0.6)\n",
    "g_1 = sns.histplot(x=data_1,color='green',alpha=0.6)\n",
    "\n",
    "g_0.axvline(data_0.median(),linestyle = '--',color='orange')\n",
    "g_1.axvline(data_1.median(),linestyle = '--',color='green')\n",
    "\n",
    "# g_0.set_xlim(2010,2021)\n",
    "# g_1.set_xlim(2010,2021)\n",
    "\n",
    "plt.ticklabel_format(style='plain', axis='x')\n",
    "plt.title('Год рождения в Train и Test',size=18)\n",
    "plt.xlabel('Год',size=15)\n",
    "plt.ylabel('Клоличество',size=15)\n",
    "plt.legend(['Медиана train','Медиана test','Train','Test'],fontsize=15)\n",
    "plt.show()"
   ]
  },
  {
   "cell_type": "code",
   "execution_count": null,
   "id": "8de1881f",
   "metadata": {},
   "outputs": [],
   "source": []
  },
  {
   "cell_type": "code",
   "execution_count": null,
   "id": "a895e75a",
   "metadata": {},
   "outputs": [],
   "source": []
  },
  {
   "cell_type": "markdown",
   "id": "cbf7b8ec",
   "metadata": {},
   "source": [
    "### Пол, Основания, Изучаемый_Язык"
   ]
  },
  {
   "cell_type": "markdown",
   "id": "4e202cd1",
   "metadata": {},
   "source": [
    "Заменим все несоответствия в данных"
   ]
  },
  {
   "cell_type": "code",
   "execution_count": 26,
   "id": "05ab5406",
   "metadata": {},
   "outputs": [
    {
     "data": {
      "text/plain": [
       "Жен    3974\n",
       "Муж    2713\n",
       "жен       1\n",
       "Name: Пол, dtype: int64"
      ]
     },
     "execution_count": 26,
     "metadata": {},
     "output_type": "execute_result"
    }
   ],
   "source": [
    "data_test['Пол'].value_counts()"
   ]
  },
  {
   "cell_type": "code",
   "execution_count": 27,
   "id": "c99ab613",
   "metadata": {},
   "outputs": [
    {
     "data": {
      "text/plain": [
       "Жен    8133\n",
       "Муж    5443\n",
       "муж       1\n",
       "Name: Пол, dtype: int64"
      ]
     },
     "execution_count": 27,
     "metadata": {},
     "output_type": "execute_result"
    }
   ],
   "source": [
    "data_train['Пол'].value_counts()"
   ]
  },
  {
   "cell_type": "code",
   "execution_count": 28,
   "id": "61ca02c4",
   "metadata": {},
   "outputs": [],
   "source": [
    "data_test['Пол'] = data_test['Пол'].replace({'жен':'Жен'})\n",
    "data_train['Пол'] = data_train['Пол'].replace({'муж':'Муж'})"
   ]
  },
  {
   "cell_type": "code",
   "execution_count": 29,
   "id": "e11f5e9f",
   "metadata": {},
   "outputs": [],
   "source": [
    "data_test['Пол'] = data_test['Пол'].replace({'Жен':0, 'Муж':1})\n",
    "data_train['Пол'] = data_train['Пол'].replace({'Жен':0, 'Муж':1})"
   ]
  },
  {
   "cell_type": "code",
   "execution_count": 30,
   "id": "9dcdfebd",
   "metadata": {},
   "outputs": [
    {
     "data": {
      "text/plain": [
       "ОО    2565\n",
       "СН    2177\n",
       "ДН     972\n",
       "БН     873\n",
       "ЦН     103\n",
       "ЛН       1\n",
       "Name: Основания, dtype: int64"
      ]
     },
     "execution_count": 30,
     "metadata": {},
     "output_type": "execute_result"
    }
   ],
   "source": [
    "data_test['Основания'].value_counts() "
   ]
  },
  {
   "cell_type": "code",
   "execution_count": 31,
   "id": "297e7bcc",
   "metadata": {},
   "outputs": [
    {
     "data": {
      "text/plain": [
       "ОО    5084\n",
       "СН    4558\n",
       "БН    1882\n",
       "ДН    1853\n",
       "ЦН     207\n",
       "Name: Основания, dtype: int64"
      ]
     },
     "execution_count": 31,
     "metadata": {},
     "output_type": "execute_result"
    }
   ],
   "source": [
    "data_train['Основания'].value_counts() "
   ]
  },
  {
   "cell_type": "code",
   "execution_count": 32,
   "id": "fe81b8dc",
   "metadata": {},
   "outputs": [],
   "source": [
    "data_test['Основания'] = data_test['Основания'].replace({'ЛН':'ДН'})"
   ]
  },
  {
   "cell_type": "code",
   "execution_count": 33,
   "id": "3da8dae6",
   "metadata": {},
   "outputs": [
    {
     "data": {
      "text/plain": [
       "Английский язык                  10450\n",
       "Немецкий язык                     2219\n",
       "Французский язык                    54\n",
       "Русский язык                        11\n",
       "Иностранный язык (Английский)       10\n",
       "Англиийский                         10\n",
       "Иностранный язык (Немецкий)          4\n",
       "Name: Изучаемый_Язык, dtype: int64"
      ]
     },
     "execution_count": 33,
     "metadata": {},
     "output_type": "execute_result"
    }
   ],
   "source": [
    "data_train['Изучаемый_Язык'].value_counts() "
   ]
  },
  {
   "cell_type": "code",
   "execution_count": 34,
   "id": "72103739",
   "metadata": {},
   "outputs": [
    {
     "data": {
      "text/plain": [
       "Английский язык                  5202\n",
       "Немецкий язык                    1047\n",
       "Французский язык                   28\n",
       "Англиийский                         8\n",
       "Иностранный язык (Английский)       8\n",
       "Русский язык                        1\n",
       "Английский, немецкий языки          1\n",
       "Name: Изучаемый_Язык, dtype: int64"
      ]
     },
     "execution_count": 34,
     "metadata": {},
     "output_type": "execute_result"
    }
   ],
   "source": [
    "data_test['Изучаемый_Язык'].value_counts() "
   ]
  },
  {
   "cell_type": "code",
   "execution_count": 35,
   "id": "e850858f",
   "metadata": {},
   "outputs": [],
   "source": [
    "to_replace = {'Русский язык':'Английский язык', 'Иностранный язык (Английский)':'Английский язык',\n",
    "              'Англиийский':'Английский язык', 'Иностранный язык (Немецкий)': 'Немецкий язык'}\n",
    "data_train['Изучаемый_Язык'] = data_train['Изучаемый_Язык'].replace(to_replace)"
   ]
  },
  {
   "cell_type": "code",
   "execution_count": 36,
   "id": "33f28095",
   "metadata": {},
   "outputs": [],
   "source": [
    "to_replace = {'Англиийский':'Английский язык', 'Иностранный язык (Английский)':'Английский язык',\n",
    "              'Русский язык':'Английский язык', 'Английский, немецкий языки': 'Английский язык'}\n",
    "data_test['Изучаемый_Язык'] = data_test['Изучаемый_Язык'].replace(to_replace)"
   ]
  },
  {
   "cell_type": "markdown",
   "id": "b14475c8",
   "metadata": {},
   "source": [
    "### Уч_Заведение"
   ]
  },
  {
   "cell_type": "markdown",
   "id": "fa1b292f",
   "metadata": {},
   "source": [
    "Составим 5 категорий: ВУЗ, Колледж, Школа, Лицей, Гимназия "
   ]
  },
  {
   "cell_type": "code",
   "execution_count": 37,
   "id": "5cb686dd",
   "metadata": {},
   "outputs": [
    {
     "data": {
      "text/plain": [
       "ФГБОУ ВО Алтайский государственный университет                                   1359\n",
       "ФГБОУ ВПО \"Алтайский государственный университет\"                                1025\n",
       "ФГБОУ ВПО Алтайский государственный университет                                   113\n",
       "ФГБОУ ВО Алтайский государственный технический университет им. И.И. Ползунова      88\n",
       "Алтайский государственный университет                                              79\n",
       "                                                                                 ... \n",
       "МБОУ \"СОШ №89 с углублённым изучением отдельных предметов\"                          1\n",
       "МОУ\"Солтонская СОШ\"                                                                 1\n",
       "МБОУ \"Гимназия №3\" г.Рубцовска Алтайский край                                       1\n",
       "МБОУ СОШ №128                                                                       1\n",
       "МКОУ \"Георгиевская СОШ\"                                                             1\n",
       "Name: Уч_Заведение, Length: 3646, dtype: int64"
      ]
     },
     "execution_count": 37,
     "metadata": {},
     "output_type": "execute_result"
    }
   ],
   "source": [
    "data_train['Уч_Заведение'].value_counts()"
   ]
  },
  {
   "cell_type": "code",
   "execution_count": 38,
   "id": "e3312559",
   "metadata": {},
   "outputs": [
    {
     "data": {
      "text/plain": [
       "ФГБОУ ВО Алтайский государственный университет                                   624\n",
       "ФГБОУ ВПО \"Алтайский государственный университет\"                                532\n",
       "ФГБОУ ВПО Алтайский государственный университет                                   60\n",
       "ФГБОУ ВО Алтайский государственный технический университет им. И.И. Ползунова     47\n",
       "МБОУ \"Гимназия №42\"                                                               40\n",
       "                                                                                ... \n",
       "ФГБОУ ВО \"Алтайский государственный университет\" г. Барнаул                        1\n",
       "КГБПОУ Бийский государствнный колледж                                              1\n",
       "МБОУ \"Ремзаводская СОШ\" с. Павловск                                                1\n",
       "СОУ №2                                                                             1\n",
       "ГУ Павлодарский профессиональный лицей №7                                          1\n",
       "Name: Уч_Заведение, Length: 2244, dtype: int64"
      ]
     },
     "execution_count": 38,
     "metadata": {},
     "output_type": "execute_result"
    }
   ],
   "source": [
    "data_test['Уч_Заведение'].value_counts()"
   ]
  },
  {
   "cell_type": "code",
   "execution_count": 39,
   "id": "82d082a2",
   "metadata": {},
   "outputs": [],
   "source": [
    "def search_maching(lst, string):\n",
    "    for i in lst:\n",
    "        if i in string:\n",
    "            return True \n",
    "    return False"
   ]
  },
  {
   "cell_type": "code",
   "execution_count": 40,
   "id": "ee80d4e9",
   "metadata": {},
   "outputs": [],
   "source": [
    "def match_study_place(loc_row):\n",
    "    if loc_row is not np.nan:\n",
    "        if search_maching(['фгбоу', 'впо', 'кгбпоу', 'академия', 'университет', 'универститет', 'институт'], loc_row):\n",
    "            return 'ВУЗ'\n",
    "        elif search_maching(['спо', 'колледж', 'техникум', 'училище'], loc_row):\n",
    "            return 'Колледж' \n",
    "        elif search_maching(['сош', 'школа', 'оош', 'соу', ' ош','ош ', ' cш','cш ', \n",
    "                             'осш', '№', 'общеобразовательное', 'кадетский'], loc_row):\n",
    "            return 'Школа'\n",
    "        elif search_maching(['лицей'], loc_row):\n",
    "            return 'Лицей'\n",
    "        elif search_maching(['гимназия'], loc_row):\n",
    "            return 'Гимназия'\n",
    "        else:\n",
    "            return np.nan\n",
    "    else:\n",
    "        return np.nan \n"
   ]
  },
  {
   "cell_type": "code",
   "execution_count": 41,
   "id": "017225c7",
   "metadata": {},
   "outputs": [],
   "source": [
    "data_train['Уч_Заведение'] = data_train['Уч_Заведение'].str.lower().apply(lambda row: match_study_place(row))\n",
    "data_test['Уч_Заведение'] = data_test['Уч_Заведение'].str.lower().apply(lambda row: match_study_place(row))"
   ]
  },
  {
   "cell_type": "code",
   "execution_count": 42,
   "id": "926fb69f",
   "metadata": {},
   "outputs": [
    {
     "data": {
      "text/plain": [
       "Школа       6582\n",
       "ВУЗ         4619\n",
       "Колледж      753\n",
       "Лицей        260\n",
       "Гимназия      43\n",
       "Name: Уч_Заведение, dtype: int64"
      ]
     },
     "execution_count": 42,
     "metadata": {},
     "output_type": "execute_result"
    }
   ],
   "source": [
    "data_train['Уч_Заведение'].value_counts()"
   ]
  },
  {
   "cell_type": "markdown",
   "id": "d3999fe1",
   "metadata": {},
   "source": [
    "### Где_Находится_УЗ"
   ]
  },
  {
   "cell_type": "markdown",
   "id": "da64af03",
   "metadata": {},
   "source": [
    "Заменим признак на бинарный  в зависимости от того находится ли учебное заведение в Алтае."
   ]
  },
  {
   "cell_type": "code",
   "execution_count": 43,
   "id": "b6f2ebc4",
   "metadata": {},
   "outputs": [
    {
     "data": {
      "text/plain": [
       "Алтайский край, Барнаул г                         2413\n",
       "Алтайский край, г. Барнаул                        1919\n",
       "Россия, Алтайский край, г Барнаул                 1264\n",
       "Алтайский край, Бийск г                            248\n",
       "Алтайский край г. Барнаул                          228\n",
       "                                                  ... \n",
       "с. Черёмушкино, Залесовского района                  1\n",
       "г. Шемонаиха ВКО, реапублика Казахстан               1\n",
       "Россия, Приморский край, г Находка                   1\n",
       "Алтайский край, Бийс г                               1\n",
       "Алтайский край, Ребрихинский р-н, Георгиевка с       1\n",
       "Name: Где_Находится_УЗ, Length: 2110, dtype: int64"
      ]
     },
     "execution_count": 43,
     "metadata": {},
     "output_type": "execute_result"
    }
   ],
   "source": [
    "data_train['Где_Находится_УЗ'].value_counts()"
   ]
  },
  {
   "cell_type": "code",
   "execution_count": 44,
   "id": "5944f93e",
   "metadata": {},
   "outputs": [],
   "source": [
    "def altay_or_not(loc_row):\n",
    "    if loc_row is not np.nan:\n",
    "        return 1 if 'алтай' in loc_row else 0\n",
    "    else:\n",
    "        return np.nan \n"
   ]
  },
  {
   "cell_type": "code",
   "execution_count": 45,
   "id": "7d1c7dc6",
   "metadata": {},
   "outputs": [],
   "source": [
    "data_train['Где_Находится_УЗ'] = data_train['Где_Находится_УЗ'].str.lower().apply(lambda row: altay_or_not(row))\n",
    "data_test['Где_Находится_УЗ'] = data_test['Где_Находится_УЗ'].str.lower().apply(lambda row: altay_or_not(row))"
   ]
  },
  {
   "cell_type": "code",
   "execution_count": 46,
   "id": "640887ff",
   "metadata": {},
   "outputs": [
    {
     "data": {
      "text/plain": [
       "1.0    9611\n",
       "0.0    2592\n",
       "Name: Где_Находится_УЗ, dtype: int64"
      ]
     },
     "execution_count": 46,
     "metadata": {},
     "output_type": "execute_result"
    }
   ],
   "source": [
    "data_train['Где_Находится_УЗ'].value_counts()"
   ]
  },
  {
   "cell_type": "code",
   "execution_count": 47,
   "id": "97bebb46",
   "metadata": {},
   "outputs": [
    {
     "data": {
      "text/plain": [
       "1.0    4749\n",
       "0.0    1282\n",
       "Name: Где_Находится_УЗ, dtype: int64"
      ]
     },
     "execution_count": 47,
     "metadata": {},
     "output_type": "execute_result"
    }
   ],
   "source": [
    "data_test['Где_Находится_УЗ'].value_counts()"
   ]
  },
  {
   "cell_type": "markdown",
   "id": "9dd2887f",
   "metadata": {},
   "source": [
    "### Пособие"
   ]
  },
  {
   "cell_type": "markdown",
   "id": "e36f63a8",
   "metadata": {},
   "source": [
    "Не информативный пизнак, возможно пропуски это наличие пособия."
   ]
  },
  {
   "cell_type": "code",
   "execution_count": 48,
   "id": "503d73ec",
   "metadata": {},
   "outputs": [
    {
     "data": {
      "text/plain": [
       "0.0    12576\n",
       "Name: Пособие, dtype: int64"
      ]
     },
     "execution_count": 48,
     "metadata": {},
     "output_type": "execute_result"
    }
   ],
   "source": [
    "data_train['Пособие'].value_counts()"
   ]
  },
  {
   "cell_type": "code",
   "execution_count": 49,
   "id": "6c63b57b",
   "metadata": {},
   "outputs": [
    {
     "data": {
      "text/plain": [
       "0.0    6207\n",
       "Name: Пособие, dtype: int64"
      ]
     },
     "execution_count": 49,
     "metadata": {},
     "output_type": "execute_result"
    }
   ],
   "source": [
    "data_test['Пособие'].value_counts()"
   ]
  },
  {
   "cell_type": "markdown",
   "id": "6a0a779d",
   "metadata": {},
   "source": [
    "### Страна_ПП"
   ]
  },
  {
   "cell_type": "markdown",
   "id": "b5ce8385",
   "metadata": {},
   "source": [
    "Унифицируем различные написания стран"
   ]
  },
  {
   "cell_type": "code",
   "execution_count": 50,
   "id": "e4c9d6c4",
   "metadata": {},
   "outputs": [
    {
     "data": {
      "text/plain": [
       "Россия                   6127\n",
       "Казахстан                 194\n",
       "Китай                      81\n",
       "Таджикистан                42\n",
       "РОССИЯ                     34\n",
       "Кыргызстан                 20\n",
       "Киргизия                   12\n",
       "Узбекистан                  4\n",
       "Кыргызская Республика       3\n",
       "Казахстан респ              3\n",
       "Кыргызия                    2\n",
       "Казахстан Респ              2\n",
       "Республика Казахстан        1\n",
       "Монголия                    1\n",
       "Казахстан ВКО               1\n",
       "КИТАЙ                       1\n",
       "КАЗАХСТАН                   1\n",
       "Афганистан                  1\n",
       "Туркменистан                1\n",
       "Name: Страна_ПП, dtype: int64"
      ]
     },
     "execution_count": 50,
     "metadata": {},
     "output_type": "execute_result"
    }
   ],
   "source": [
    "data_test['Страна_ПП'].value_counts()"
   ]
  },
  {
   "cell_type": "code",
   "execution_count": 51,
   "id": "4b945bcd",
   "metadata": {},
   "outputs": [
    {
     "data": {
      "text/plain": [
       "Россия                    12435\n",
       "Казахстан                   415\n",
       "Китай                       148\n",
       "Таджикистан                 118\n",
       "РОССИЯ                       37\n",
       "Кыргызстан                   32\n",
       "Киргизия                     21\n",
       "Кыргызия                      6\n",
       "Казахстан Респ                3\n",
       "Казахстан респ                3\n",
       "Росссия                       2\n",
       "Кыргызская Республика         2\n",
       "Армения                       2\n",
       "Таджикистан Респ              2\n",
       "Туркменистан                  2\n",
       "Монголия                      2\n",
       "Республика Таджикистан        1\n",
       "Республика Казахстан          1\n",
       "Казахстан ВКО                 1\n",
       "Нигерия                       1\n",
       "Франция                       1\n",
       "Узбекистан                    1\n",
       "Украина                       1\n",
       "Name: Страна_ПП, dtype: int64"
      ]
     },
     "execution_count": 51,
     "metadata": {},
     "output_type": "execute_result"
    }
   ],
   "source": [
    "data_train['Страна_ПП'].value_counts()"
   ]
  },
  {
   "cell_type": "code",
   "execution_count": 52,
   "id": "0fb27dd8",
   "metadata": {},
   "outputs": [],
   "source": [
    "def replace_country(loc_row):\n",
    "    if loc_row is not np.nan:\n",
    "        if search_maching(['рос'], loc_row):\n",
    "            return 'Россия'\n",
    "        elif search_maching(['казах'], loc_row):\n",
    "            return 'Казахстан' \n",
    "        elif search_maching(['таджи'], loc_row):\n",
    "            return 'Таджикистан'\n",
    "        elif search_maching(['ргыз'], loc_row):\n",
    "            return 'Кыргызстан'\n",
    "        elif search_maching(['китай'], loc_row):\n",
    "            return 'Китай'\n",
    "        else:\n",
    "            return 'Остальное'\n",
    "    else:\n",
    "        return np.nan \n"
   ]
  },
  {
   "cell_type": "code",
   "execution_count": 53,
   "id": "dff21f64",
   "metadata": {},
   "outputs": [],
   "source": [
    "data_train['Страна_ПП'] = data_train['Страна_ПП'].str.lower().apply(lambda row: replace_country(row))\n",
    "data_test['Страна_ПП'] = data_test['Страна_ПП'].str.lower().apply(lambda row: replace_country(row))"
   ]
  },
  {
   "cell_type": "code",
   "execution_count": 54,
   "id": "93b8b53b",
   "metadata": {},
   "outputs": [
    {
     "data": {
      "text/plain": [
       "Россия         12474\n",
       "Казахстан        423\n",
       "Китай            148\n",
       "Таджикистан      121\n",
       "Кыргызстан        40\n",
       "Остальное         31\n",
       "Name: Страна_ПП, dtype: int64"
      ]
     },
     "execution_count": 54,
     "metadata": {},
     "output_type": "execute_result"
    }
   ],
   "source": [
    "data_train['Страна_ПП'].value_counts()"
   ]
  },
  {
   "cell_type": "markdown",
   "id": "65419fb8",
   "metadata": {},
   "source": [
    "### Регион_ПП, Город_ПП"
   ]
  },
  {
   "cell_type": "markdown",
   "id": "0524a1e4",
   "metadata": {},
   "source": [
    "Сделаем бинарный признак: Алтай или нет. Унифицируем различные написания основных городов."
   ]
  },
  {
   "cell_type": "code",
   "execution_count": 55,
   "id": "b7d070fa",
   "metadata": {},
   "outputs": [
    {
     "data": {
      "text/plain": [
       "Алтайский край                5722\n",
       "Республика Алтай               100\n",
       "Восточно-Казахстанская обл      79\n",
       "Алтай Респ                      76\n",
       "Кемеровская обл                 26\n",
       "                              ... \n",
       "пров. Хубэй                      1\n",
       "Гиссарский р-н                   1\n",
       "Согдийская область               1\n",
       "Дагестан респ                    1\n",
       "Чуйская область                  1\n",
       "Name: Регион_ПП, Length: 133, dtype: int64"
      ]
     },
     "execution_count": 55,
     "metadata": {},
     "output_type": "execute_result"
    }
   ],
   "source": [
    "data_test['Регион_ПП'].value_counts()"
   ]
  },
  {
   "cell_type": "code",
   "execution_count": 56,
   "id": "f55d86e6",
   "metadata": {},
   "outputs": [
    {
     "data": {
      "text/plain": [
       "Алтайский край                11492\n",
       "Алтай Респ                      204\n",
       "Республика Алтай                203\n",
       "Восточно-Казахстанская обл      193\n",
       "Кемеровская область              53\n",
       "                              ...  \n",
       "Баткенская область                1\n",
       "Желал-Абадская обл                1\n",
       "Магаданская Обл                   1\n",
       "Джалал-Абадская                   1\n",
       "Шэньси провинция                  1\n",
       "Name: Регион_ПП, Length: 192, dtype: int64"
      ]
     },
     "execution_count": 56,
     "metadata": {},
     "output_type": "execute_result"
    }
   ],
   "source": [
    "data_train['Регион_ПП'].value_counts()"
   ]
  },
  {
   "cell_type": "code",
   "execution_count": 57,
   "id": "f9083adc",
   "metadata": {},
   "outputs": [],
   "source": [
    "data_train['Регион_ПП'] = data_train['Регион_ПП'].str.lower().apply(lambda row: altay_or_not(row))\n",
    "data_test['Регион_ПП'] = data_test['Регион_ПП'].str.lower().apply(lambda row: altay_or_not(row))"
   ]
  },
  {
   "cell_type": "code",
   "execution_count": 58,
   "id": "7fd6df04",
   "metadata": {},
   "outputs": [
    {
     "data": {
      "text/plain": [
       "1.0    5912\n",
       "0.0     489\n",
       "Name: Регион_ПП, dtype: int64"
      ]
     },
     "execution_count": 58,
     "metadata": {},
     "output_type": "execute_result"
    }
   ],
   "source": [
    "data_test['Регион_ПП'].value_counts()"
   ]
  },
  {
   "cell_type": "code",
   "execution_count": 59,
   "id": "87b4d05b",
   "metadata": {},
   "outputs": [
    {
     "data": {
      "text/plain": [
       "1.0    11952\n",
       "0.0     1014\n",
       "Name: Регион_ПП, dtype: int64"
      ]
     },
     "execution_count": 59,
     "metadata": {},
     "output_type": "execute_result"
    }
   ],
   "source": [
    "data_train['Регион_ПП'].value_counts()"
   ]
  },
  {
   "cell_type": "code",
   "execution_count": 60,
   "id": "5ade1928",
   "metadata": {},
   "outputs": [
    {
     "data": {
      "text/plain": [
       "Барнаул г         3735\n",
       "г. Барнаул        1727\n",
       "Барнаул           1174\n",
       "Бийск г            246\n",
       "Новоалтайск г      197\n",
       "                  ... \n",
       "Марушка              1\n",
       "с. Гилево            1\n",
       "Чернышевский п       1\n",
       "Кисилёвск г          1\n",
       "Шила с               1\n",
       "Name: Город_ПП, Length: 1765, dtype: int64"
      ]
     },
     "execution_count": 60,
     "metadata": {},
     "output_type": "execute_result"
    }
   ],
   "source": [
    "data_train['Город_ПП'].value_counts()"
   ]
  },
  {
   "cell_type": "code",
   "execution_count": 61,
   "id": "9efee87c",
   "metadata": {},
   "outputs": [
    {
     "data": {
      "text/plain": [
       "Барнаул г            1872\n",
       "г. Барнаул            879\n",
       "Барнаул               575\n",
       "Бийск г               120\n",
       "г. Бийск               93\n",
       "                     ... \n",
       "с. Степнной Кучук       1\n",
       "Прокопьевск             1\n",
       "Заводское с             1\n",
       "Ананьевка с             1\n",
       "Чемал                   1\n",
       "Name: Город_ПП, Length: 1094, dtype: int64"
      ]
     },
     "execution_count": 61,
     "metadata": {},
     "output_type": "execute_result"
    }
   ],
   "source": [
    "data_test['Город_ПП'].value_counts()"
   ]
  },
  {
   "cell_type": "code",
   "execution_count": 62,
   "id": "18dbb779",
   "metadata": {},
   "outputs": [],
   "source": [
    "def replace_city(loc_row):\n",
    "    if loc_row is not np.nan:\n",
    "        if search_maching(['барнаул'], loc_row):\n",
    "            return 'Барнаул'\n",
    "        elif search_maching(['бийск'], loc_row):\n",
    "            return 'Бийск' \n",
    "        elif search_maching(['камень-на-оби'], loc_row):\n",
    "            return 'Камень-на-Оби'\n",
    "        elif search_maching(['горно-алтайск'], loc_row):\n",
    "            return 'Горно-Алтайск'\n",
    "        elif search_maching(['рубцовск'], loc_row):\n",
    "            return 'Рубцовск'\n",
    "        elif search_maching(['новоалтайск'], loc_row):\n",
    "            return 'Новоалтайск'\n",
    "        \n",
    "        elif search_maching(['славгород'], loc_row):\n",
    "            return 'Славгород'\n",
    "        elif search_maching(['заринск'], loc_row):\n",
    "            return 'Заринск'\n",
    "        elif search_maching(['павловск'], loc_row):\n",
    "            return 'Павловск'\n",
    "        else:\n",
    "            return 'Остальное'\n",
    "    else:\n",
    "        return np.nan \n",
    "  "
   ]
  },
  {
   "cell_type": "code",
   "execution_count": 63,
   "id": "2fc6a9d6",
   "metadata": {},
   "outputs": [],
   "source": [
    "data_train['Город_ПП'] = data_train['Город_ПП'].str.lower().apply(lambda row: replace_city(row))\n",
    "data_test['Город_ПП'] = data_test['Город_ПП'].str.lower().apply(lambda row: replace_city(row))"
   ]
  },
  {
   "cell_type": "code",
   "execution_count": 64,
   "id": "b1d1e7ae",
   "metadata": {},
   "outputs": [
    {
     "data": {
      "text/plain": [
       "Барнаул          6868\n",
       "Остальное        4506\n",
       "Бийск             540\n",
       "Новоалтайск       398\n",
       "Рубцовск          190\n",
       "Камень-на-Оби     179\n",
       "Славгород         132\n",
       "Заринск           129\n",
       "Горно-Алтайск     113\n",
       "Павловск           86\n",
       "Name: Город_ПП, dtype: int64"
      ]
     },
     "execution_count": 64,
     "metadata": {},
     "output_type": "execute_result"
    }
   ],
   "source": [
    "data_train['Город_ПП'].value_counts()"
   ]
  },
  {
   "cell_type": "markdown",
   "id": "e92f73b1",
   "metadata": {},
   "source": [
    "### Общежитие,\tНаличие_Матери,\tНаличие_Отца\t"
   ]
  },
  {
   "cell_type": "code",
   "execution_count": 65,
   "id": "012118dc",
   "metadata": {},
   "outputs": [
    {
     "name": "stdout",
     "output_type": "stream",
     "text": [
      "0.0    10530\n",
      "1.0     2968\n",
      "Name: Общежитие, dtype: int64\n",
      "\n",
      "0.0    5169\n",
      "1.0    1487\n",
      "Name: Общежитие, dtype: int64\n"
     ]
    }
   ],
   "source": [
    "print(data_train['Общежитие'].value_counts())\n",
    "print()\n",
    "print(data_test['Общежитие'].value_counts())\n"
   ]
  },
  {
   "cell_type": "code",
   "execution_count": 66,
   "id": "56949f4c",
   "metadata": {},
   "outputs": [
    {
     "name": "stdout",
     "output_type": "stream",
     "text": [
      "1    6948\n",
      "0    6636\n",
      "Name: Наличие_Матери, dtype: int64\n",
      "\n",
      "1    3354\n",
      "0    3337\n",
      "Name: Наличие_Матери, dtype: int64\n"
     ]
    }
   ],
   "source": [
    "print(data_train['Наличие_Матери'].value_counts())\n",
    "print()\n",
    "print(data_test['Наличие_Матери'].value_counts())\n"
   ]
  },
  {
   "cell_type": "code",
   "execution_count": 67,
   "id": "476c0f0e",
   "metadata": {},
   "outputs": [
    {
     "name": "stdout",
     "output_type": "stream",
     "text": [
      "1.0    6922\n",
      "0.0    6662\n",
      "Name: Наличие_Отца, dtype: int64\n",
      "\n",
      "1.0    3350\n",
      "0.0    3341\n",
      "Name: Наличие_Отца, dtype: int64\n"
     ]
    }
   ],
   "source": [
    "print(data_train['Наличие_Отца'].value_counts())\n",
    "print()\n",
    "print(data_test['Наличие_Отца'].value_counts())\n"
   ]
  },
  {
   "cell_type": "markdown",
   "id": "5c7ec1a5",
   "metadata": {},
   "source": [
    "### Страна_Родители"
   ]
  },
  {
   "cell_type": "code",
   "execution_count": 68,
   "id": "c82416f6",
   "metadata": {},
   "outputs": [
    {
     "data": {
      "text/plain": [
       "Россия                    12239\n",
       "Казахстан                   514\n",
       "Китай                       147\n",
       "Таджикистан                 133\n",
       "Кыргызстан                   37\n",
       "Киргизия                     31\n",
       "Туркменистан                  5\n",
       "Узбекистан                    3\n",
       "Армения                       3\n",
       "Кыргызская Республика         3\n",
       "Республика Таджикистан        2\n",
       "Монголия                      2\n",
       "Республика Молдова            1\n",
       "Нигерия                       1\n",
       "Германия                      1\n",
       "Республика Казахстан          1\n",
       "казахстан                     1\n",
       "Украина                       1\n",
       "КНР                           1\n",
       "Name: Страна_Родители, dtype: int64"
      ]
     },
     "execution_count": 68,
     "metadata": {},
     "output_type": "execute_result"
    }
   ],
   "source": [
    "data_train['Страна_Родители'].value_counts()"
   ]
  },
  {
   "cell_type": "code",
   "execution_count": 69,
   "id": "cef16d5d",
   "metadata": {},
   "outputs": [
    {
     "data": {
      "text/plain": [
       "Россия                    6073\n",
       "Казахстан                  239\n",
       "Китай                       82\n",
       "Таджикистан                 45\n",
       "Кыргызстан                  24\n",
       "Киргизия                    14\n",
       "Кыргызская Республика        3\n",
       "Узбекистан                   3\n",
       "Афганистан                   2\n",
       "РОССИЯ                       2\n",
       "Туркменистан                 2\n",
       "Монголия                     1\n",
       "Республика Таджикистан       1\n",
       "Чеченская республика         1\n",
       "Кыргызия                     1\n",
       "Name: Страна_Родители, dtype: int64"
      ]
     },
     "execution_count": 69,
     "metadata": {},
     "output_type": "execute_result"
    }
   ],
   "source": [
    "data_test['Страна_Родители'].value_counts()"
   ]
  },
  {
   "cell_type": "code",
   "execution_count": 70,
   "id": "1a8f9eaa",
   "metadata": {},
   "outputs": [],
   "source": [
    "data_train['Страна_Родители'] = data_train['Страна_Родители'].str.lower().apply(lambda row: replace_country(row))\n",
    "data_test['Страна_Родители'] = data_test['Страна_Родители'].str.lower().apply(lambda row: replace_country(row))"
   ]
  },
  {
   "cell_type": "code",
   "execution_count": 71,
   "id": "0eec93e5",
   "metadata": {},
   "outputs": [
    {
     "data": {
      "text/plain": [
       "Россия         12239\n",
       "Казахстан        516\n",
       "Китай            147\n",
       "Таджикистан      135\n",
       "Остальное         49\n",
       "Кыргызстан        40\n",
       "Name: Страна_Родители, dtype: int64"
      ]
     },
     "execution_count": 71,
     "metadata": {},
     "output_type": "execute_result"
    }
   ],
   "source": [
    "data_train['Страна_Родители'].value_counts()"
   ]
  },
  {
   "cell_type": "markdown",
   "id": "b5118b46",
   "metadata": {},
   "source": [
    "### Опекунство, Село, Иностранец"
   ]
  },
  {
   "cell_type": "markdown",
   "id": "f21b0065",
   "metadata": {},
   "source": [
    "Не информативный признак, сильный перекос в данных."
   ]
  },
  {
   "cell_type": "code",
   "execution_count": 72,
   "id": "3280a3bb",
   "metadata": {},
   "outputs": [
    {
     "name": "stdout",
     "output_type": "stream",
     "text": [
      "0.0    13578\n",
      "1.0        6\n",
      "Name: Опекунство, dtype: int64\n",
      "\n",
      "0.0    6685\n",
      "1.0       6\n",
      "Name: Опекунство, dtype: int64\n"
     ]
    }
   ],
   "source": [
    "print(data_train['Опекунство'].value_counts())\n",
    "print()\n",
    "print(data_test['Опекунство'].value_counts())\n"
   ]
  },
  {
   "cell_type": "code",
   "execution_count": 73,
   "id": "6fdf1afe",
   "metadata": {},
   "outputs": [
    {
     "name": "stdout",
     "output_type": "stream",
     "text": [
      "0.0    10401\n",
      "1.0     3097\n",
      "Name: Село, dtype: int64\n",
      "\n",
      "0.0    5170\n",
      "1.0    1484\n",
      "Name: Село, dtype: int64\n"
     ]
    }
   ],
   "source": [
    "print(data_train['Село'].value_counts())\n",
    "print()\n",
    "print(data_test['Село'].value_counts())\n"
   ]
  },
  {
   "cell_type": "code",
   "execution_count": 74,
   "id": "ad33b167",
   "metadata": {},
   "outputs": [
    {
     "name": "stdout",
     "output_type": "stream",
     "text": [
      "0.0    12337\n",
      "1.0      937\n",
      "Name: Иностранец, dtype: int64\n",
      "\n",
      "0.0    6095\n",
      "1.0     466\n",
      "Name: Иностранец, dtype: int64\n"
     ]
    }
   ],
   "source": [
    "print(data_train['Иностранец'].value_counts())\n",
    "print()\n",
    "print(data_test['Иностранец'].value_counts())\n"
   ]
  },
  {
   "cell_type": "markdown",
   "id": "c833ecb5",
   "metadata": {},
   "source": [
    "### СрБаллАттестата"
   ]
  },
  {
   "cell_type": "markdown",
   "id": "bd87e6ab",
   "metadata": {},
   "source": [
    "Поступление по егэ и аттестату в одной колонке, но у них разные бальные системы. До множим показатель аттестата на 20, чтобы перевести в 100 бальную шкалу.  \n",
    "Создадим признак поступал ли абитуриент по егэ.  \n",
    "Четырехзначные числа сдвигаем на 3 разряда влево и умножаем на 20."
   ]
  },
  {
   "cell_type": "code",
   "execution_count": 75,
   "id": "7cd16633",
   "metadata": {},
   "outputs": [
    {
     "data": {
      "text/plain": [
       "70.0000      332\n",
       "60.0000      324\n",
       "80.0000      309\n",
       "65.0000      302\n",
       "55.0000      291\n",
       "            ... \n",
       "4.2631         1\n",
       "4.9440         1\n",
       "4.2170         1\n",
       "3.7060         1\n",
       "3647.0000      1\n",
       "Name: СрБаллАттестата, Length: 462, dtype: int64"
      ]
     },
     "execution_count": 75,
     "metadata": {},
     "output_type": "execute_result"
    }
   ],
   "source": [
    "data_train['СрБаллАттестата'].value_counts()"
   ]
  },
  {
   "cell_type": "code",
   "execution_count": 76,
   "id": "c52adf0c",
   "metadata": {},
   "outputs": [],
   "source": [
    "def ege_or_not(row):\n",
    "    return 1 if row > 5 else 0"
   ]
  },
  {
   "cell_type": "code",
   "execution_count": 77,
   "id": "8ae8f64c",
   "metadata": {},
   "outputs": [],
   "source": [
    "def covert_to_100_point(row):\n",
    "    if row >100:\n",
    "        return row/1000 * 20\n",
    "    return row if row > 5 else row*20"
   ]
  },
  {
   "cell_type": "code",
   "execution_count": 78,
   "id": "a3089222",
   "metadata": {},
   "outputs": [],
   "source": [
    "data_train['Тип_экзамена'] = data_train['СрБаллАттестата'].apply(lambda row: ege_or_not(row))\n",
    "data_train['СрБаллАттестата'] = data_train['СрБаллАттестата'].apply(lambda row: covert_to_100_point(row))\n",
    "data_test['Тип_экзамена'] = data_test['СрБаллАттестата'].apply(lambda row: ege_or_not(row))\n",
    "data_test['СрБаллАттестата'] = data_test['СрБаллАттестата'].apply(lambda row: covert_to_100_point(row))"
   ]
  },
  {
   "cell_type": "code",
   "execution_count": 79,
   "id": "728f488b",
   "metadata": {},
   "outputs": [],
   "source": [
    "data_test.loc[data_test['СрБаллАттестата'] < 30,'СрБаллАттестата'] = 30\n",
    "data_train.loc[data_train['СрБаллАттестата'] < 30,'СрБаллАттестата'] = 30"
   ]
  },
  {
   "cell_type": "code",
   "execution_count": 80,
   "id": "23c3a884",
   "metadata": {},
   "outputs": [
    {
     "data": {
      "image/png": "[encoded data removed]",
      "text/plain": [
       "<Figure size 864x576 with 1 Axes>"
      ]
     },
     "metadata": {},
     "output_type": "display_data"
    }
   ],
   "source": [
    "plt.figure(figsize=(12,8))\n",
    "\n",
    "data_0 = data_train['СрБаллАттестата']\n",
    "data_1 = data_test['СрБаллАттестата']\n",
    "\n",
    "g_0 = sns.histplot(x=data_0,color='orange',alpha=0.6)\n",
    "g_1 = sns.histplot(x=data_1,color='green',alpha=0.6)\n",
    "\n",
    "g_0.axvline(data_0.median(),linestyle = '--',color='orange')\n",
    "g_1.axvline(data_1.median(),linestyle = '--',color='green')\n",
    "\n",
    "# g_0.set_xlim(2010,2021)\n",
    "# g_1.set_xlim(2010,2021)\n",
    "\n",
    "plt.ticklabel_format(style='plain', axis='x')\n",
    "plt.title('СрБаллАттестата в Train и Test',size=18)\n",
    "plt.xlabel('Год',size=15)\n",
    "plt.ylabel('Клоличество',size=15)\n",
    "plt.legend(['Медиана train','Медиана test','Train','Test'],fontsize=15)\n",
    "plt.show()"
   ]
  },
  {
   "cell_type": "code",
   "execution_count": null,
   "id": "66f2b3ea",
   "metadata": {},
   "outputs": [],
   "source": []
  },
  {
   "cell_type": "code",
   "execution_count": 81,
   "id": "cb95317a",
   "metadata": {},
   "outputs": [
    {
     "data": {
      "image/png": "[encoded data removed]",
      "text/plain": [
       "<Figure size 720x504 with 2 Axes>"
      ]
     },
     "metadata": {},
     "output_type": "display_data"
    }
   ],
   "source": [
    "data_train_corr = data_train.drop(['ID', 'Пособие'],axis=1).corr()\n",
    "plt.figure(figsize=(10,7))\n",
    "sns.heatmap(data_train_corr, cmap=\"Blues\", annot=True)\n",
    "plt.show()"
   ]
  },
  {
   "cell_type": "code",
   "execution_count": 82,
   "id": "33c95505",
   "metadata": {},
   "outputs": [
    {
     "data": {
      "image/png": "[encoded data removed]",
      "text/plain": [
       "<Figure size 720x504 with 2 Axes>"
      ]
     },
     "metadata": {},
     "output_type": "display_data"
    }
   ],
   "source": [
    "data_test_corr = data_test.drop(['ID', 'Пособие'],axis=1).corr()\n",
    "plt.figure(figsize=(10,7))\n",
    "sns.heatmap(data_test_corr, cmap=\"Blues\", annot=True)\n",
    "plt.show()"
   ]
  },
  {
   "cell_type": "markdown",
   "id": "8d546dec",
   "metadata": {},
   "source": [
    "# Feature"
   ]
  },
  {
   "cell_type": "code",
   "execution_count": 83,
   "id": "b9b3f46b",
   "metadata": {},
   "outputs": [],
   "source": [
    "data_train['delta_поступления'] = data_train['Год_Поступления']  - data_train['Год_Окончания_УЗ']\n",
    "data_test['delta_поступления'] = data_test['Год_Поступления']  - data_test['Год_Окончания_УЗ']\n",
    "\n",
    "data_train['Возраст_на_мом_пост'] = data_train['Год_Поступления']  - data_train['Год_Рождения']\n",
    "data_test['Возраст_на_мом_пост'] = data_test['Год_Поступления']  - data_test['Год_Рождения']"
   ]
  },
  {
   "cell_type": "code",
   "execution_count": 84,
   "id": "55e8c623",
   "metadata": {},
   "outputs": [],
   "source": [
    "all_data = pd.concat([data_train, data_test], ignore_index = True)"
   ]
  },
  {
   "cell_type": "code",
   "execution_count": 86,
   "id": "1207aac7",
   "metadata": {},
   "outputs": [],
   "source": [
    "all_data['Колво_чел_группе'] = all_data[['Код_группы','ID']].groupby('Код_группы', as_index=False).transform('count')\n",
    "all_data['Ср_балл_группе'] = all_data[['Код_группы','СрБаллАттестата']].groupby('Код_группы', as_index=False).transform('mean')\n",
    "\n",
    "all_data['Std_балл_группе'] = all_data[['Код_группы','СрБаллАттестата']].groupby('Код_группы', as_index=False).transform('std')\n",
    "all_data['Std_Год_Поступления'] = all_data[['Код_группы','Год_Поступления']].groupby('Код_группы', as_index=False).transform('std')\n",
    "all_data['Std_Год_Рождения'] = all_data[['Код_группы','Год_Рождения']].groupby('Код_группы', as_index=False).transform('std')\n",
    "all_data['Std_Год_Окончания_УЗ'] = all_data[['Код_группы','Год_Окончания_УЗ']].groupby('Код_группы', as_index=False).transform('std')\n",
    "\n",
    "all_data['Кол_группы_на_фак'] = all_data[['КодФакультета','Код_группы']].groupby('КодФакультета', as_index=False).transform('count')\n",
    "all_data['СрБаллАттестата_на_фак'] = all_data[['КодФакультета','СрБаллАттестата']].groupby('КодФакультета', as_index=False).transform('mean')\n",
    "\n",
    "all_data['Std_балл_группе_фак'] = all_data[['КодФакультета','СрБаллАттестата']].groupby('КодФакультета', as_index=False).transform('std')\n",
    "all_data['Std_Год_Поступления_фак'] = all_data[['КодФакультета','Год_Поступления']].groupby('КодФакультета', as_index=False).transform('std')\n",
    "all_data['Std_Год_Рождения_фак'] = all_data[['КодФакультета','Год_Рождения']].groupby('КодФакультета', as_index=False).transform('std')\n",
    "all_data['Std_Год_Окончания_УЗ_фак'] = all_data[['КодФакультета','Год_Окончания_УЗ']].groupby('КодФакультета', as_index=False).transform('std')\n"
   ]
  },
  {
   "cell_type": "code",
   "execution_count": 87,
   "id": "659bfdbf",
   "metadata": {},
   "outputs": [],
   "source": [
    "budget = all_data[all_data['Основания'] == 'БН'].groupby('Код_группы').count()['ID'].rename('Кол_бюджетников')\n",
    "all_data = pd.merge(all_data, budget, how=\"left\", on='Код_группы') \n",
    "all_data['Кол_бюджетников'] = all_data['Кол_бюджетников'].fillna(0)\n",
    "all_data['Процент_бюджетников'] = all_data['Кол_бюджетников'] / all_data['Колво_чел_группе']"
   ]
  },
  {
   "cell_type": "markdown",
   "id": "ec31c06b",
   "metadata": {},
   "source": [
    "# Model "
   ]
  },
  {
   "cell_type": "code",
   "execution_count": 88,
   "id": "9577601d",
   "metadata": {},
   "outputs": [
    {
     "name": "stderr",
     "output_type": "stream",
     "text": [
      "C:\\Users\\yanbe\\AppData\\Local\\Temp\\ipykernel_18056\\2382704082.py:3: SettingWithCopyWarning: \n",
      "A value is trying to be set on a copy of a slice from a DataFrame\n",
      "\n",
      "See the caveats in the documentation: https://pandas.pydata.org/pandas-docs/stable/user_guide/indexing.html#returning-a-view-versus-a-copy\n",
      "  data_test.drop('Статус', axis=1, inplace =True)\n"
     ]
    }
   ],
   "source": [
    "data_train = all_data[:data_train.shape[0]]\n",
    "data_test = all_data[data_train.shape[0] :]\n",
    "data_test.drop('Статус', axis=1, inplace =True)"
   ]
  },
  {
   "cell_type": "code",
   "execution_count": 90,
   "id": "5f44aca6",
   "metadata": {},
   "outputs": [],
   "source": [
    "to_drop = ['ID', 'Пособие', 'Опекунство', 'Дата_Рождения', 'Наличие_Отца']"
   ]
  },
  {
   "cell_type": "code",
   "execution_count": 91,
   "id": "ede358b2",
   "metadata": {},
   "outputs": [],
   "source": [
    "data_train = data_train.drop(to_drop, axis=1)\n",
    "data_test = data_test.drop(to_drop, axis=1)"
   ]
  },
  {
   "cell_type": "code",
   "execution_count": 92,
   "id": "c3323951",
   "metadata": {},
   "outputs": [],
   "source": [
    "cat_features = ['Код_группы', 'Пол', 'Основания', 'Изучаемый_Язык',\n",
    "       'Уч_Заведение', 'Где_Находится_УЗ', 'Страна_ПП', 'Регион_ПП', 'Город_ПП', \n",
    "       'Общежитие', 'Наличие_Матери','Страна_Родители',\n",
    "        'Село', 'Иностранец', 'КодФакультета', 'Тип_экзамена']"
   ]
  },
  {
   "cell_type": "code",
   "execution_count": 93,
   "id": "0dcec519",
   "metadata": {},
   "outputs": [],
   "source": [
    "num_features = 'Год_Поступления','Год_Окончания_УЗ', 'СрБаллАттестата', 'delta_поступления', 'Год_Рождения', 'Родители',  'Колво_чел_группе', 'Ср_балл_группе'"
   ]
  },
  {
   "cell_type": "code",
   "execution_count": 94,
   "id": "cb41cfe8",
   "metadata": {},
   "outputs": [],
   "source": [
    "target = 'Статус'"
   ]
  },
  {
   "cell_type": "code",
   "execution_count": 95,
   "id": "844d2bfd",
   "metadata": {},
   "outputs": [],
   "source": [
    "for col_name in cat_features: \n",
    "    data_train[col_name] = data_train[col_name].astype(str)\n",
    "    data_test[col_name] = data_test[col_name].astype(str)"
   ]
  },
  {
   "cell_type": "code",
   "execution_count": 96,
   "id": "28f4b2b5",
   "metadata": {},
   "outputs": [],
   "source": [
    "from sklearn.model_selection import KFold, StratifiedKFold \n",
    "from catboost import CatBoostClassifier"
   ]
  },
  {
   "cell_type": "code",
   "execution_count": 98,
   "id": "6f636168",
   "metadata": {},
   "outputs": [
    {
     "name": "stdout",
     "output_type": "stream",
     "text": [
      "0:\tlearn: 0.6835879\ttest: 0.7126192\tbest: 0.7126192 (0)\ttotal: 274ms\tremaining: 45m 40s\n",
      "500:\tlearn: 0.8204112\ttest: 0.7957453\tbest: 0.7963250 (438)\ttotal: 1m 5s\tremaining: 20m 42s\n",
      "1000:\tlearn: 0.8618801\ttest: 0.8025033\tbest: 0.8050137 (878)\ttotal: 2m 16s\tremaining: 20m 25s\n",
      "Stopped by overfitting detector  (250 iterations wait)\n",
      "\n",
      "bestTest = 0.8050137495\n",
      "bestIteration = 878\n",
      "\n",
      "Shrink model to first 879 iterations.\n",
      "0:\tlearn: 0.6701664\ttest: 0.6197507\tbest: 0.6197507 (0)\ttotal: 121ms\tremaining: 20m 12s\n",
      "500:\tlearn: 0.8151530\ttest: 0.7800663\tbest: 0.7800663 (499)\ttotal: 1m 8s\tremaining: 21m 47s\n",
      "1000:\tlearn: 0.8662628\ttest: 0.7814849\tbest: 0.7935671 (791)\ttotal: 2m 22s\tremaining: 21m 19s\n",
      "Stopped by overfitting detector  (250 iterations wait)\n",
      "\n",
      "bestTest = 0.7935670874\n",
      "bestIteration = 791\n",
      "\n",
      "Shrink model to first 792 iterations.\n",
      "0:\tlearn: 0.6738634\ttest: 0.6437481\tbest: 0.6437481 (0)\ttotal: 122ms\tremaining: 20m 22s\n",
      "500:\tlearn: 0.8217812\ttest: 0.7803007\tbest: 0.7803007 (499)\ttotal: 1m 22s\tremaining: 26m 1s\n",
      "Stopped by overfitting detector  (250 iterations wait)\n",
      "\n",
      "bestTest = 0.7818403469\n",
      "bestIteration = 604\n",
      "\n",
      "Shrink model to first 605 iterations.\n",
      "0:\tlearn: 0.6449198\ttest: 0.6800129\tbest: 0.6800129 (0)\ttotal: 29.2ms\tremaining: 4m 52s\n",
      "500:\tlearn: 0.8132934\ttest: 0.8238441\tbest: 0.8287273 (387)\ttotal: 1m 18s\tremaining: 24m 43s\n",
      "Stopped by overfitting detector  (250 iterations wait)\n",
      "\n",
      "bestTest = 0.8287272718\n",
      "bestIteration = 387\n",
      "\n",
      "Shrink model to first 388 iterations.\n",
      "0:\tlearn: 0.6757925\ttest: 0.6658298\tbest: 0.6658298 (0)\ttotal: 50.8ms\tremaining: 8m 28s\n",
      "500:\tlearn: 0.8152164\ttest: 0.7925807\tbest: 0.7935957 (449)\ttotal: 1m 34s\tremaining: 29m 57s\n",
      "1000:\tlearn: 0.8693283\ttest: 0.7874116\tbest: 0.8019029 (801)\ttotal: 3m 5s\tremaining: 27m 50s\n",
      "Stopped by overfitting detector  (250 iterations wait)\n",
      "\n",
      "bestTest = 0.8019029134\n",
      "bestIteration = 801\n",
      "\n",
      "Shrink model to first 802 iterations.\n",
      "0:\tlearn: 0.6849998\ttest: 0.6880585\tbest: 0.6880585 (0)\ttotal: 189ms\tremaining: 31m 33s\n",
      "500:\tlearn: 0.8144968\ttest: 0.8195218\tbest: 0.8197085 (469)\ttotal: 1m 22s\tremaining: 26m 12s\n",
      "Stopped by overfitting detector  (260 iterations wait)\n",
      "\n",
      "bestTest = 0.8197085227\n",
      "bestIteration = 469\n",
      "\n",
      "Shrink model to first 470 iterations.\n",
      "0:\tlearn: 0.6711743\ttest: 0.7052860\tbest: 0.7052860 (0)\ttotal: 43.1ms\tremaining: 7m 10s\n",
      "500:\tlearn: 0.8176157\ttest: 0.7962481\tbest: 0.7966268 (486)\ttotal: 1m 25s\tremaining: 27m 4s\n",
      "Stopped by overfitting detector  (260 iterations wait)\n",
      "\n",
      "bestTest = 0.7976722274\n",
      "bestIteration = 639\n",
      "\n",
      "Shrink model to first 640 iterations.\n",
      "0:\tlearn: 0.6838485\ttest: 0.6538517\tbest: 0.6538517 (0)\ttotal: 96.2ms\tremaining: 16m 2s\n",
      "500:\tlearn: 0.8222157\ttest: 0.7572704\tbest: 0.7626897 (495)\ttotal: 1m 39s\tremaining: 31m 25s\n",
      "1000:\tlearn: 0.8693545\ttest: 0.7734716\tbest: 0.7749450 (968)\ttotal: 3m 46s\tremaining: 33m 57s\n",
      "Stopped by overfitting detector  (260 iterations wait)\n",
      "\n",
      "bestTest = 0.7749449783\n",
      "bestIteration = 968\n",
      "\n",
      "Shrink model to first 969 iterations.\n",
      "0:\tlearn: 0.6884923\ttest: 0.6471898\tbest: 0.6471898 (0)\ttotal: 333ms\tremaining: 55m 27s\n",
      "500:\tlearn: 0.8176833\ttest: 0.7816333\tbest: 0.7817372 (433)\ttotal: 2m 23s\tremaining: 45m 24s\n",
      "1000:\tlearn: 0.8649554\ttest: 0.7931916\tbest: 0.7975480 (969)\ttotal: 4m 55s\tremaining: 44m 16s\n",
      "Stopped by overfitting detector  (260 iterations wait)\n",
      "\n",
      "bestTest = 0.7975480018\n",
      "bestIteration = 969\n",
      "\n",
      "Shrink model to first 970 iterations.\n",
      "0:\tlearn: 0.6616996\ttest: 0.6480697\tbest: 0.6480697 (0)\ttotal: 328ms\tremaining: 54m 44s\n",
      "500:\tlearn: 0.8187814\ttest: 0.8016792\tbest: 0.8022824 (401)\ttotal: 2m 15s\tremaining: 42m 44s\n",
      "1000:\tlearn: 0.8706522\ttest: 0.8135068\tbest: 0.8149459 (945)\ttotal: 3m 57s\tremaining: 35m 31s\n",
      "Stopped by overfitting detector  (260 iterations wait)\n",
      "\n",
      "bestTest = 0.8163342294\n",
      "bestIteration = 1161\n",
      "\n",
      "Shrink model to first 1162 iterations.\n",
      "0:\tlearn: 0.6654434\ttest: 0.6665198\tbest: 0.6665198 (0)\ttotal: 168ms\tremaining: 28m 3s\n",
      "500:\tlearn: 0.8162075\ttest: 0.7975573\tbest: 0.7975573 (499)\ttotal: 1m 31s\tremaining: 28m 51s\n",
      "Stopped by overfitting detector  (270 iterations wait)\n",
      "\n",
      "bestTest = 0.8007072532\n",
      "bestIteration = 505\n",
      "\n",
      "Shrink model to first 506 iterations.\n",
      "0:\tlearn: 0.6685112\ttest: 0.6679053\tbest: 0.6679053 (0)\ttotal: 333ms\tremaining: 55m 26s\n",
      "500:\tlearn: 0.8165486\ttest: 0.8086602\tbest: 0.8086602 (499)\ttotal: 1m 34s\tremaining: 29m 58s\n",
      "Stopped by overfitting detector  (270 iterations wait)\n",
      "\n",
      "bestTest = 0.8110589626\n",
      "bestIteration = 616\n",
      "\n",
      "Shrink model to first 617 iterations.\n",
      "0:\tlearn: 0.6693968\ttest: 0.6674105\tbest: 0.6674105 (0)\ttotal: 264ms\tremaining: 44m 3s\n",
      "500:\tlearn: 0.8186770\ttest: 0.8061323\tbest: 0.8112998 (396)\ttotal: 1m 29s\tremaining: 28m 8s\n",
      "Stopped by overfitting detector  (270 iterations wait)\n",
      "\n",
      "bestTest = 0.8112997839\n",
      "bestIteration = 396\n",
      "\n",
      "Shrink model to first 397 iterations.\n",
      "0:\tlearn: 0.6693995\ttest: 0.6643468\tbest: 0.6643468 (0)\ttotal: 335ms\tremaining: 55m 46s\n",
      "500:\tlearn: 0.8270771\ttest: 0.7998285\tbest: 0.8000143 (471)\ttotal: 1m 32s\tremaining: 29m 18s\n",
      "Stopped by overfitting detector  (270 iterations wait)\n",
      "\n",
      "bestTest = 0.800209361\n",
      "bestIteration = 506\n",
      "\n",
      "Shrink model to first 507 iterations.\n",
      "0:\tlearn: 0.6756827\ttest: 0.6664385\tbest: 0.6664385 (0)\ttotal: 280ms\tremaining: 46m 40s\n",
      "500:\tlearn: 0.8197938\ttest: 0.7874753\tbest: 0.7927179 (492)\ttotal: 1m 28s\tremaining: 27m 57s\n",
      "1000:\tlearn: 0.8656834\ttest: 0.7858047\tbest: 0.7960657 (921)\ttotal: 3m 2s\tremaining: 27m 19s\n",
      "Stopped by overfitting detector  (270 iterations wait)\n",
      "\n",
      "bestTest = 0.79606572\n",
      "bestIteration = 921\n",
      "\n",
      "Shrink model to first 922 iterations.\n",
      "0:\tlearn: 0.6790719\ttest: 0.6765442\tbest: 0.6765442 (0)\ttotal: 231ms\tremaining: 38m 34s\n",
      "500:\tlearn: 0.8154442\ttest: 0.8190276\tbest: 0.8190276 (500)\ttotal: 1m 28s\tremaining: 28m 5s\n",
      "1000:\tlearn: 0.8647790\ttest: 0.8293025\tbest: 0.8318814 (814)\ttotal: 3m 7s\tremaining: 28m 2s\n",
      "Stopped by overfitting detector  (280 iterations wait)\n",
      "\n",
      "bestTest = 0.8318814154\n",
      "bestIteration = 814\n",
      "\n",
      "Shrink model to first 815 iterations.\n",
      "0:\tlearn: 0.6724960\ttest: 0.6618564\tbest: 0.6618564 (0)\ttotal: 313ms\tremaining: 52m 13s\n",
      "500:\tlearn: 0.8169657\ttest: 0.7996182\tbest: 0.7996182 (498)\ttotal: 1m 35s\tremaining: 30m 17s\n",
      "Stopped by overfitting detector  (280 iterations wait)\n",
      "\n",
      "bestTest = 0.7996182009\n",
      "bestIteration = 498\n",
      "\n",
      "Shrink model to first 499 iterations.\n",
      "0:\tlearn: 0.6761813\ttest: 0.6594946\tbest: 0.6594946 (0)\ttotal: 320ms\tremaining: 53m 16s\n",
      "500:\tlearn: 0.8181361\ttest: 0.7762018\tbest: 0.7797891 (305)\ttotal: 1m 25s\tremaining: 27m 9s\n",
      "Stopped by overfitting detector  (280 iterations wait)\n",
      "\n",
      "bestTest = 0.7797891437\n",
      "bestIteration = 305\n",
      "\n",
      "Shrink model to first 306 iterations.\n",
      "0:\tlearn: 0.6535967\ttest: 0.6374558\tbest: 0.6374558 (0)\ttotal: 234ms\tremaining: 39m 1s\n",
      "500:\tlearn: 0.8198037\ttest: 0.7904220\tbest: 0.7926795 (447)\ttotal: 1m 26s\tremaining: 27m 25s\n",
      "1000:\tlearn: 0.8645588\ttest: 0.7921674\tbest: 0.8048201 (775)\ttotal: 2m 55s\tremaining: 26m 22s\n",
      "Stopped by overfitting detector  (280 iterations wait)\n",
      "\n",
      "bestTest = 0.8048201164\n",
      "bestIteration = 775\n",
      "\n",
      "Shrink model to first 776 iterations.\n",
      "0:\tlearn: 0.6575655\ttest: 0.6288676\tbest: 0.6288676 (0)\ttotal: 259ms\tremaining: 43m 8s\n",
      "500:\tlearn: 0.8156490\ttest: 0.7816111\tbest: 0.7840953 (340)\ttotal: 1m 28s\tremaining: 27m 51s\n",
      "Stopped by overfitting detector  (280 iterations wait)\n",
      "\n",
      "bestTest = 0.7840952514\n",
      "bestIteration = 340\n",
      "\n",
      "Shrink model to first 341 iterations.\n",
      "0:\tlearn: 0.6915232\ttest: 0.6667094\tbest: 0.6667094 (0)\ttotal: 280ms\tremaining: 46m 35s\n",
      "500:\tlearn: 0.8246715\ttest: 0.7752640\tbest: 0.7752640 (492)\ttotal: 1m 24s\tremaining: 26m 40s\n",
      "1000:\tlearn: 0.8680774\ttest: 0.7827074\tbest: 0.7849194 (922)\ttotal: 2m 55s\tremaining: 26m 14s\n",
      "Stopped by overfitting detector  (290 iterations wait)\n",
      "\n",
      "bestTest = 0.7849194494\n",
      "bestIteration = 922\n",
      "\n",
      "Shrink model to first 923 iterations.\n",
      "0:\tlearn: 0.6753011\ttest: 0.6477673\tbest: 0.6477673 (0)\ttotal: 296ms\tremaining: 49m 22s\n",
      "500:\tlearn: 0.8126527\ttest: 0.7927190\tbest: 0.7927190 (487)\ttotal: 1m 37s\tremaining: 30m 44s\n",
      "1000:\tlearn: 0.8661323\ttest: 0.7918111\tbest: 0.7953687 (766)\ttotal: 3m 14s\tremaining: 29m 12s\n",
      "Stopped by overfitting detector  (290 iterations wait)\n",
      "\n",
      "bestTest = 0.7953686551\n",
      "bestIteration = 766\n",
      "\n",
      "Shrink model to first 767 iterations.\n",
      "0:\tlearn: 0.6705555\ttest: 0.6539221\tbest: 0.6539221 (0)\ttotal: 236ms\tremaining: 39m 14s\n",
      "500:\tlearn: 0.8183114\ttest: 0.7823045\tbest: 0.7879319 (290)\ttotal: 1m 30s\tremaining: 28m 44s\n"
     ]
    },
    {
     "name": "stdout",
     "output_type": "stream",
     "text": [
      "1000:\tlearn: 0.8689486\ttest: 0.7955289\tbest: 0.7965789 (728)\ttotal: 3m 6s\tremaining: 27m 55s\n",
      "Stopped by overfitting detector  (290 iterations wait)\n",
      "\n",
      "bestTest = 0.7965789217\n",
      "bestIteration = 728\n",
      "\n",
      "Shrink model to first 729 iterations.\n",
      "0:\tlearn: 0.6904299\ttest: 0.6803189\tbest: 0.6803189 (0)\ttotal: 323ms\tremaining: 53m 48s\n",
      "500:\tlearn: 0.8203919\ttest: 0.7971651\tbest: 0.7973500 (497)\ttotal: 1m 31s\tremaining: 28m 51s\n",
      "1000:\tlearn: 0.8677860\ttest: 0.8144386\tbest: 0.8151822 (995)\ttotal: 3m 7s\tremaining: 28m 6s\n",
      "Stopped by overfitting detector  (290 iterations wait)\n",
      "\n",
      "bestTest = 0.8166742605\n",
      "bestIteration = 1030\n",
      "\n",
      "Shrink model to first 1031 iterations.\n",
      "0:\tlearn: 0.6635771\ttest: 0.6608055\tbest: 0.6608055 (0)\ttotal: 267ms\tremaining: 44m 32s\n",
      "500:\tlearn: 0.8219458\ttest: 0.8113363\tbest: 0.8113363 (488)\ttotal: 1m 29s\tremaining: 28m 24s\n",
      "1000:\tlearn: 0.8683482\ttest: 0.7949675\tbest: 0.8125859 (760)\ttotal: 3m 9s\tremaining: 28m 24s\n",
      "Stopped by overfitting detector  (290 iterations wait)\n",
      "\n",
      "bestTest = 0.8125859404\n",
      "bestIteration = 760\n",
      "\n",
      "Shrink model to first 761 iterations.\n"
     ]
    }
   ],
   "source": [
    "n_splits = 5\n",
    "\n",
    "\n",
    "clfs = []\n",
    "X = data_train.drop(target, axis=1)\n",
    "y = data_train['Статус'].values\n",
    "\n",
    "# параметры валидации, обучение будет идти на 5 n_splits фолдах\n",
    "\n",
    "kFold_random_state = [42, 2002, 121, 913, 314]\n",
    "N = len(kFold_random_state)*n_splits\n",
    "\n",
    "for ind_k, random_state in enumerate(kFold_random_state):\n",
    "    kf = StratifiedKFold(n_splits=n_splits, shuffle=True, random_state=random_state)\n",
    "    \n",
    "    for train_index, test_index in kf.split(X,y):\n",
    "        X_train, X_test = X.iloc[train_index], X.iloc[test_index]\n",
    "        y_train, y_test = y[train_index], y[test_index]\n",
    "        clf = CatBoostClassifier(iterations = 10000,\n",
    "                              loss_function = 'MultiClass', eval_metric = 'TotalF1',\n",
    "                              cat_features = cat_features, random_seed=random_state, \n",
    "                              task_type='CPU', auto_class_weights = 'SqrtBalanced',\n",
    "                              early_stopping_rounds=250 + ind_k*10 )\n",
    "        clfs.append(clf)\n",
    "\n",
    "        clf.fit(X_train, y_train, eval_set=(X_test, y_test),\n",
    "                verbose = 500, use_best_model = True, plot = False)\n",
    "        \n",
    "assert len(clfs) == N\n",
    "\n"
   ]
  },
  {
   "cell_type": "code",
   "execution_count": null,
   "id": "99f817d8",
   "metadata": {},
   "outputs": [],
   "source": []
  },
  {
   "cell_type": "code",
   "execution_count": 99,
   "id": "27f0d430",
   "metadata": {},
   "outputs": [
    {
     "name": "stdout",
     "output_type": "stream",
     "text": [
      "mean F1 0.8017172705637547\n"
     ]
    }
   ],
   "source": [
    "y_pred = np.zeros((len(data_test),3))\n",
    "scores = []\n",
    "for clf in clfs:\n",
    "    y_pred += clf.predict_proba(data_test)\n",
    "    scores.append(clf.best_score_['validation']['TotalF1'])\n",
    "y_pred /= N\n",
    "print('mean F1', np.mean(scores))"
   ]
  },
  {
   "cell_type": "code",
   "execution_count": 100,
   "id": "e40ea099",
   "metadata": {},
   "outputs": [],
   "source": [
    "final_predictions = [np.argmax(i) for i in y_pred]"
   ]
  },
  {
   "cell_type": "markdown",
   "id": "df3561c0",
   "metadata": {},
   "source": [
    "### Submition"
   ]
  },
  {
   "cell_type": "code",
   "execution_count": 101,
   "id": "8bc84922",
   "metadata": {},
   "outputs": [],
   "source": [
    "id_studet = pd.read_csv(\"test_dataset_test.csv\")"
   ]
  },
  {
   "cell_type": "code",
   "execution_count": 102,
   "id": "a3b01a35",
   "metadata": {},
   "outputs": [],
   "source": [
    "id_studet['Статус'] = final_predictions"
   ]
  },
  {
   "cell_type": "code",
   "execution_count": 103,
   "id": "8474b3c1",
   "metadata": {},
   "outputs": [],
   "source": [
    "id_studet['Статус'] = id_studet['Статус'].replace({0:3, 2:4, 1:-1})"
   ]
  },
  {
   "cell_type": "code",
   "execution_count": 104,
   "id": "6644db38",
   "metadata": {},
   "outputs": [],
   "source": [
    "id_studet[['ID','Статус']].to_csv('submition_final.csv', index=False)"
   ]
  },
  {
   "cell_type": "markdown",
   "id": "8e25af63",
   "metadata": {},
   "source": [
    "### Feature importance"
   ]
  },
  {
   "cell_type": "code",
   "execution_count": 119,
   "id": "424a2145",
   "metadata": {},
   "outputs": [],
   "source": [
    "def plot_importance(df, best_model, height, top_n=50):\n",
    "    \n",
    "    fi = pd.DataFrame(index = df.columns, columns = [])\n",
    "    for i, m in enumerate(best_model):\n",
    "        fi[f'm_{i}'] = m.get_feature_importance()\n",
    "\n",
    "    fi = fi.stack().reset_index().iloc[:,[0, 2]]\n",
    "    fi.columns = ['feature','importance']\n",
    "\n",
    "    cols_ord = list(fi.groupby('feature')['importance'].mean().sort_values(ascending=False).index)\n",
    "    cols_ord = cols_ord[:top_n]\n",
    "    \n",
    "    fi = fi[fi['feature'].isin(cols_ord)]\n",
    "    \n",
    "    plt.figure(figsize=(10, len(cols_ord)*height))\n",
    "    b = sns.boxplot(data=fi, y='feature', x='importance', orient='h', order=cols_ord)\n",
    "    \n",
    "    return fi.groupby(by =['feature'], as_index=False)['importance'].mean().sort_values(by='importance', ascending=False)\n",
    "\n"
   ]
  },
  {
   "cell_type": "code",
   "execution_count": 130,
   "id": "086df818",
   "metadata": {},
   "outputs": [
    {
     "data": {
      "image/png": "[encoded data removed]",
      "text/plain": [
       "<Figure size 720x432 with 1 Axes>"
      ]
     },
     "metadata": {},
     "output_type": "display_data"
    }
   ],
   "source": [
    "df_feats_imp = plot_importance(data_test, clfs, 0.40, 15)"
   ]
  },
  {
   "cell_type": "markdown",
   "id": "95ea33b6",
   "metadata": {},
   "source": [
    "# Optuna param search"
   ]
  },
  {
   "cell_type": "code",
   "execution_count": 123,
   "id": "13ff5647",
   "metadata": {},
   "outputs": [],
   "source": [
    "import os\n",
    "import random\n",
    "from optuna.samplers import TPESampler # !pip install optuna\n",
    "import multiprocessing\n",
    "import catboost as cat\n",
    "import optuna\n",
    "from sklearn.model_selection import train_test_split\n",
    "from sklearn.metrics import roc_auc_score\n",
    "import pickle\n",
    "from sklearn.utils import resample\n",
    "from catboost import Pool\n",
    "import sklearn.metrics"
   ]
  },
  {
   "cell_type": "markdown",
   "id": "d9571a03",
   "metadata": {},
   "source": [
    "Поиск параметров через оптуна"
   ]
  },
  {
   "cell_type": "code",
   "execution_count": 128,
   "id": "718dc80a",
   "metadata": {},
   "outputs": [],
   "source": [
    "n_trials = 50\n",
    "SEED = 10302021\n",
    "\n",
    "from sklearn.model_selection import TimeSeriesSplit\n",
    "\n",
    "def objective(trial):\n",
    "    X = data_train.drop([target], axis = 1)\n",
    "    y = data_train[target].values\n",
    "    \n",
    "    kf = StratifiedKFold(n_splits=3, shuffle=True, random_state=42) # prepare Time Series cross validation\n",
    "\n",
    "    F_sores = []\n",
    "\n",
    "    for train_index, test_index in kf.split(X,y):\n",
    "        train_x, test_x = X.iloc[train_index], X.iloc[test_index]\n",
    "        train_y, test_y = y[train_index], y[test_index]\n",
    "    \n",
    "        train_pool = Pool(train_x, train_y, cat_features=cat_features)\n",
    "        test_pool = Pool(test_x, test_y, cat_features=cat_features)\n",
    "\n",
    "        # Parameters\n",
    "        params = {\n",
    "            'depth' : trial.suggest_int('depth', 6, 8),                                       \n",
    "            'learning_rate' :trial.suggest_loguniform('learning_rate', 1e-4, 1e-2),\n",
    "            'auto_class_weights' : trial.suggest_categorical('auto_class_weights', ['Balanced', 'SqrtBalanced']),\n",
    "        }\n",
    "        # Learning\n",
    "        clf = cat.CatBoostClassifier(\n",
    "            loss_function=\"MultiClass\",\n",
    "            eval_metric = 'TotalF1',\n",
    "            task_type=\"CPU\",\n",
    "            iterations = 100000,\n",
    "            cat_features = cat_features,\n",
    "            \n",
    "            early_stopping_rounds = 100,\n",
    "            random_seed=SEED,\n",
    "            train_dir = \"crossentropy\",\n",
    "            **params\n",
    "        )        \n",
    "        clf.fit(train_pool,\n",
    "                eval_set=test_pool,\n",
    "                verbose=200,\n",
    "                use_best_model=True)\n",
    "        \n",
    "        F_Score = clf.best_score_['validation']['TotalF1']\n",
    "        F_sores.append(F_Score)\n",
    "        \n",
    "    mean_F = np.mean(F_sores)\n",
    "    print('F Score of CatBoost =', mean_F)\n",
    "    return mean_F\n",
    "\n"
   ]
  },
  {
   "cell_type": "code",
   "execution_count": null,
   "id": "9232a5ce",
   "metadata": {},
   "outputs": [],
   "source": [
    " "
   ]
  },
  {
   "cell_type": "code",
   "execution_count": 129,
   "id": "84f228c4",
   "metadata": {},
   "outputs": [
    {
     "name": "stderr",
     "output_type": "stream",
     "text": [
      "\u001b[32m[I 2022-09-17 20:37:56,071]\u001b[0m A new study created in memory with name: no-name-41156955-6a96-44d6-b8b0-9cb3dcce6e8e\u001b[0m\n",
      "C:\\Users\\yanbe\\AppData\\Local\\Temp\\ipykernel_30352\\448085076.py:26: FutureWarning: suggest_loguniform has been deprecated in v3.0.0. This feature will be removed in v6.0.0. See https://github.com/optuna/optuna/releases/tag/v3.0.0. Use :func:`~optuna.trial.Trial.suggest_float` instead.\n",
      "  'learning_rate' :trial.suggest_loguniform('learning_rate', 1e-4, 1e-2),\n"
     ]
    },
    {
     "name": "stdout",
     "output_type": "stream",
     "text": [
      "0:\tlearn: 0.6831468\ttest: 0.6828962\tbest: 0.6828962 (0)\ttotal: 135ms\tremaining: 3h 45m 35s\n",
      "Stopped by overfitting detector  (100 iterations wait)\n",
      "\n",
      "bestTest = 0.7214271369\n",
      "bestIteration = 6\n",
      "\n",
      "Shrink model to first 7 iterations.\n",
      "0:\tlearn: 0.6966715\ttest: 0.6809486\tbest: 0.6809486 (0)\ttotal: 241ms\tremaining: 6h 40m 57s\n",
      "200:\tlearn: 0.7243437\ttest: 0.6961433\tbest: 0.6985975 (101)\ttotal: 31.2s\tremaining: 4h 18m 6s\n",
      "Stopped by overfitting detector  (100 iterations wait)\n",
      "\n",
      "bestTest = 0.6985975452\n",
      "bestIteration = 101\n",
      "\n",
      "Shrink model to first 102 iterations.\n",
      "0:\tlearn: 0.7332115\ttest: 0.7149878\tbest: 0.7149878 (0)\ttotal: 192ms\tremaining: 5h 20m 35s\n"
     ]
    },
    {
     "name": "stderr",
     "output_type": "stream",
     "text": [
      "\u001b[32m[I 2022-09-17 20:39:01,651]\u001b[0m Trial 0 finished with value: 0.714860475456116 and parameters: {'depth': 7, 'learning_rate': 0.0006469018640705369, 'auto_class_weights': 'SqrtBalanced'}. Best is trial 0 with value: 0.714860475456116.\u001b[0m\n"
     ]
    },
    {
     "name": "stdout",
     "output_type": "stream",
     "text": [
      "Stopped by overfitting detector  (100 iterations wait)\n",
      "\n",
      "bestTest = 0.7245567442\n",
      "bestIteration = 1\n",
      "\n",
      "Shrink model to first 2 iterations.\n",
      "F Score of CatBoost = 0.714860475456116\n"
     ]
    },
    {
     "name": "stderr",
     "output_type": "stream",
     "text": [
      "C:\\Users\\yanbe\\AppData\\Local\\Temp\\ipykernel_30352\\448085076.py:26: FutureWarning: suggest_loguniform has been deprecated in v3.0.0. This feature will be removed in v6.0.0. See https://github.com/optuna/optuna/releases/tag/v3.0.0. Use :func:`~optuna.trial.Trial.suggest_float` instead.\n",
      "  'learning_rate' :trial.suggest_loguniform('learning_rate', 1e-4, 1e-2),\n"
     ]
    },
    {
     "name": "stdout",
     "output_type": "stream",
     "text": [
      "0:\tlearn: 0.6773942\ttest: 0.6869297\tbest: 0.6869297 (0)\ttotal: 241ms\tremaining: 6h 41m 42s\n",
      "Stopped by overfitting detector  (100 iterations wait)\n",
      "\n",
      "bestTest = 0.6942813976\n",
      "bestIteration = 22\n",
      "\n",
      "Shrink model to first 23 iterations.\n",
      "0:\tlearn: 0.6868410\ttest: 0.6644968\tbest: 0.6644968 (0)\ttotal: 219ms\tremaining: 6h 4m 49s\n",
      "200:\tlearn: 0.7187702\ttest: 0.7324018\tbest: 0.7340931 (148)\ttotal: 25s\tremaining: 3h 26m 37s\n",
      "Stopped by overfitting detector  (100 iterations wait)\n",
      "\n",
      "bestTest = 0.7340930925\n",
      "bestIteration = 148\n",
      "\n",
      "Shrink model to first 149 iterations.\n",
      "0:\tlearn: 0.6773429\ttest: 0.6874029\tbest: 0.6874029 (0)\ttotal: 153ms\tremaining: 4h 14m 57s\n"
     ]
    },
    {
     "name": "stderr",
     "output_type": "stream",
     "text": [
      "\u001b[32m[I 2022-09-17 20:40:02,271]\u001b[0m Trial 1 finished with value: 0.7080410305277955 and parameters: {'depth': 6, 'learning_rate': 0.0020656268736430326, 'auto_class_weights': 'Balanced'}. Best is trial 0 with value: 0.714860475456116.\u001b[0m\n"
     ]
    },
    {
     "name": "stdout",
     "output_type": "stream",
     "text": [
      "Stopped by overfitting detector  (100 iterations wait)\n",
      "\n",
      "bestTest = 0.6957486016\n",
      "bestIteration = 5\n",
      "\n",
      "Shrink model to first 6 iterations.\n",
      "F Score of CatBoost = 0.7080410305277955\n"
     ]
    },
    {
     "name": "stderr",
     "output_type": "stream",
     "text": [
      "C:\\Users\\yanbe\\AppData\\Local\\Temp\\ipykernel_30352\\448085076.py:26: FutureWarning: suggest_loguniform has been deprecated in v3.0.0. This feature will be removed in v6.0.0. See https://github.com/optuna/optuna/releases/tag/v3.0.0. Use :func:`~optuna.trial.Trial.suggest_float` instead.\n",
      "  'learning_rate' :trial.suggest_loguniform('learning_rate', 1e-4, 1e-2),\n"
     ]
    },
    {
     "name": "stdout",
     "output_type": "stream",
     "text": [
      "0:\tlearn: 0.7013373\ttest: 0.6818527\tbest: 0.6818527 (0)\ttotal: 386ms\tremaining: 10h 42m 48s\n",
      "Stopped by overfitting detector  (100 iterations wait)\n",
      "\n",
      "bestTest = 0.717562466\n",
      "bestIteration = 6\n",
      "\n",
      "Shrink model to first 7 iterations.\n",
      "0:\tlearn: 0.7262560\ttest: 0.7052708\tbest: 0.7052708 (0)\ttotal: 273ms\tremaining: 7h 35m 40s\n",
      "Stopped by overfitting detector  (100 iterations wait)\n",
      "\n",
      "bestTest = 0.7052708361\n",
      "bestIteration = 0\n",
      "\n",
      "Shrink model to first 1 iterations.\n",
      "0:\tlearn: 0.7401834\ttest: 0.7132936\tbest: 0.7132936 (0)\ttotal: 252ms\tremaining: 6h 59m 19s\n"
     ]
    },
    {
     "name": "stderr",
     "output_type": "stream",
     "text": [
      "\u001b[32m[I 2022-09-17 20:40:51,957]\u001b[0m Trial 2 finished with value: 0.7161508538465989 and parameters: {'depth': 8, 'learning_rate': 0.0013755644728975938, 'auto_class_weights': 'SqrtBalanced'}. Best is trial 2 with value: 0.7161508538465989.\u001b[0m\n"
     ]
    },
    {
     "name": "stdout",
     "output_type": "stream",
     "text": [
      "Stopped by overfitting detector  (100 iterations wait)\n",
      "\n",
      "bestTest = 0.7256192594\n",
      "bestIteration = 5\n",
      "\n",
      "Shrink model to first 6 iterations.\n",
      "F Score of CatBoost = 0.7161508538465989\n"
     ]
    },
    {
     "name": "stderr",
     "output_type": "stream",
     "text": [
      "C:\\Users\\yanbe\\AppData\\Local\\Temp\\ipykernel_30352\\448085076.py:26: FutureWarning: suggest_loguniform has been deprecated in v3.0.0. This feature will be removed in v6.0.0. See https://github.com/optuna/optuna/releases/tag/v3.0.0. Use :func:`~optuna.trial.Trial.suggest_float` instead.\n",
      "  'learning_rate' :trial.suggest_loguniform('learning_rate', 1e-4, 1e-2),\n"
     ]
    },
    {
     "name": "stdout",
     "output_type": "stream",
     "text": [
      "0:\tlearn: 0.6831468\ttest: 0.6828962\tbest: 0.6828962 (0)\ttotal: 143ms\tremaining: 3h 59m 1s\n",
      "Stopped by overfitting detector  (100 iterations wait)\n",
      "\n",
      "bestTest = 0.7214271369\n",
      "bestIteration = 6\n",
      "\n",
      "Shrink model to first 7 iterations.\n",
      "0:\tlearn: 0.6966715\ttest: 0.6809486\tbest: 0.6809486 (0)\ttotal: 170ms\tremaining: 4h 43m 45s\n",
      "Stopped by overfitting detector  (100 iterations wait)\n",
      "\n",
      "bestTest = 0.7023843636\n",
      "bestIteration = 67\n",
      "\n",
      "Shrink model to first 68 iterations.\n",
      "0:\tlearn: 0.7332115\ttest: 0.7149878\tbest: 0.7149878 (0)\ttotal: 197ms\tremaining: 5h 28m 54s\n"
     ]
    },
    {
     "name": "stderr",
     "output_type": "stream",
     "text": [
      "\u001b[32m[I 2022-09-17 20:41:52,402]\u001b[0m Trial 3 finished with value: 0.7161227482271865 and parameters: {'depth': 7, 'learning_rate': 0.0014225627100012401, 'auto_class_weights': 'SqrtBalanced'}. Best is trial 2 with value: 0.7161508538465989.\u001b[0m\n"
     ]
    },
    {
     "name": "stdout",
     "output_type": "stream",
     "text": [
      "Stopped by overfitting detector  (100 iterations wait)\n",
      "\n",
      "bestTest = 0.7245567442\n",
      "bestIteration = 1\n",
      "\n",
      "Shrink model to first 2 iterations.\n",
      "F Score of CatBoost = 0.7161227482271865\n"
     ]
    },
    {
     "name": "stderr",
     "output_type": "stream",
     "text": [
      "C:\\Users\\yanbe\\AppData\\Local\\Temp\\ipykernel_30352\\448085076.py:26: FutureWarning: suggest_loguniform has been deprecated in v3.0.0. This feature will be removed in v6.0.0. See https://github.com/optuna/optuna/releases/tag/v3.0.0. Use :func:`~optuna.trial.Trial.suggest_float` instead.\n",
      "  'learning_rate' :trial.suggest_loguniform('learning_rate', 1e-4, 1e-2),\n"
     ]
    },
    {
     "name": "stdout",
     "output_type": "stream",
     "text": [
      "0:\tlearn: 0.6831468\ttest: 0.6828962\tbest: 0.6828962 (0)\ttotal: 141ms\tremaining: 3h 54m 56s\n",
      "200:\tlearn: 0.7784161\ttest: 0.7922038\tbest: 0.7922038 (200)\ttotal: 33s\tremaining: 4h 33m 26s\n",
      "400:\tlearn: 0.8056741\ttest: 0.8151100\tbest: 0.8151100 (395)\ttotal: 1m 5s\tremaining: 4h 32m 34s\n",
      "600:\tlearn: 0.8222539\ttest: 0.8261588\tbest: 0.8261588 (596)\ttotal: 1m 39s\tremaining: 4h 35m 14s\n",
      "800:\tlearn: 0.8298520\ttest: 0.8307793\tbest: 0.8310563 (769)\ttotal: 2m 13s\tremaining: 4h 35m\n",
      "Stopped by overfitting detector  (100 iterations wait)\n",
      "\n",
      "bestTest = 0.8312292712\n",
      "bestIteration = 807\n",
      "\n",
      "Shrink model to first 808 iterations.\n",
      "0:\tlearn: 0.6966715\ttest: 0.6809486\tbest: 0.6809486 (0)\ttotal: 173ms\tremaining: 4h 47m 45s\n",
      "200:\tlearn: 0.7946406\ttest: 0.7950957\tbest: 0.7952285 (197)\ttotal: 18.6s\tremaining: 2h 34m 12s\n",
      "400:\tlearn: 0.8197700\ttest: 0.8134632\tbest: 0.8136268 (397)\ttotal: 37.7s\tremaining: 2h 36m 8s\n",
      "600:\tlearn: 0.8331966\ttest: 0.8196769\tbest: 0.8199008 (597)\ttotal: 56.6s\tremaining: 2h 36m 7s\n",
      "Stopped by overfitting detector  (100 iterations wait)\n",
      "\n",
      "bestTest = 0.8199007866\n",
      "bestIteration = 597\n",
      "\n",
      "Shrink model to first 598 iterations.\n",
      "0:\tlearn: 0.7332115\ttest: 0.7149878\tbest: 0.7149878 (0)\ttotal: 86.7ms\tremaining: 2h 24m 25s\n"
     ]
    },
    {
     "name": "stderr",
     "output_type": "stream",
     "text": [
      "\u001b[32m[I 2022-09-17 20:45:41,315]\u001b[0m Trial 4 finished with value: 0.7918956006722793 and parameters: {'depth': 7, 'learning_rate': 0.007503925135679946, 'auto_class_weights': 'SqrtBalanced'}. Best is trial 4 with value: 0.7918956006722793.\u001b[0m\n"
     ]
    },
    {
     "name": "stdout",
     "output_type": "stream",
     "text": [
      "Stopped by overfitting detector  (100 iterations wait)\n",
      "\n",
      "bestTest = 0.7245567442\n",
      "bestIteration = 1\n",
      "\n",
      "Shrink model to first 2 iterations.\n",
      "F Score of CatBoost = 0.7918956006722793\n"
     ]
    },
    {
     "name": "stderr",
     "output_type": "stream",
     "text": [
      "C:\\Users\\yanbe\\AppData\\Local\\Temp\\ipykernel_30352\\448085076.py:26: FutureWarning: suggest_loguniform has been deprecated in v3.0.0. This feature will be removed in v6.0.0. See https://github.com/optuna/optuna/releases/tag/v3.0.0. Use :func:`~optuna.trial.Trial.suggest_float` instead.\n",
      "  'learning_rate' :trial.suggest_loguniform('learning_rate', 1e-4, 1e-2),\n"
     ]
    },
    {
     "name": "stdout",
     "output_type": "stream",
     "text": [
      "0:\tlearn: 0.7013373\ttest: 0.6818527\tbest: 0.6818527 (0)\ttotal: 145ms\tremaining: 4h 1m 47s\n",
      "Stopped by overfitting detector  (100 iterations wait)\n",
      "\n",
      "bestTest = 0.717562466\n",
      "bestIteration = 6\n",
      "\n",
      "Shrink model to first 7 iterations.\n",
      "0:\tlearn: 0.7262560\ttest: 0.7052708\tbest: 0.7052708 (0)\ttotal: 146ms\tremaining: 4h 3m 27s\n",
      "Stopped by overfitting detector  (100 iterations wait)\n",
      "\n",
      "bestTest = 0.7052708361\n",
      "bestIteration = 0\n",
      "\n",
      "Shrink model to first 1 iterations.\n",
      "0:\tlearn: 0.7401834\ttest: 0.7132936\tbest: 0.7132936 (0)\ttotal: 117ms\tremaining: 3h 14m 54s\n"
     ]
    },
    {
     "name": "stderr",
     "output_type": "stream",
     "text": [
      "\u001b[32m[I 2022-09-17 20:46:18,463]\u001b[0m Trial 5 finished with value: 0.7160836511430574 and parameters: {'depth': 8, 'learning_rate': 0.0022903926503094175, 'auto_class_weights': 'SqrtBalanced'}. Best is trial 4 with value: 0.7918956006722793.\u001b[0m\n"
     ]
    },
    {
     "name": "stdout",
     "output_type": "stream",
     "text": [
      "Stopped by overfitting detector  (100 iterations wait)\n",
      "\n",
      "bestTest = 0.7254176513\n",
      "bestIteration = 5\n",
      "\n",
      "Shrink model to first 6 iterations.\n",
      "F Score of CatBoost = 0.7160836511430574\n"
     ]
    },
    {
     "name": "stderr",
     "output_type": "stream",
     "text": [
      "C:\\Users\\yanbe\\AppData\\Local\\Temp\\ipykernel_30352\\448085076.py:26: FutureWarning: suggest_loguniform has been deprecated in v3.0.0. This feature will be removed in v6.0.0. See https://github.com/optuna/optuna/releases/tag/v3.0.0. Use :func:`~optuna.trial.Trial.suggest_float` instead.\n",
      "  'learning_rate' :trial.suggest_loguniform('learning_rate', 1e-4, 1e-2),\n"
     ]
    },
    {
     "name": "stdout",
     "output_type": "stream",
     "text": [
      "0:\tlearn: 0.6860018\ttest: 0.6910257\tbest: 0.6910257 (0)\ttotal: 97.6ms\tremaining: 2h 42m 43s\n",
      "Stopped by overfitting detector  (100 iterations wait)\n",
      "\n",
      "bestTest = 0.6952442909\n",
      "bestIteration = 1\n",
      "\n",
      "Shrink model to first 2 iterations.\n",
      "0:\tlearn: 0.6894447\ttest: 0.6681740\tbest: 0.6681740 (0)\ttotal: 120ms\tremaining: 3h 19m 49s\n",
      "200:\tlearn: 0.7308771\ttest: 0.7144367\tbest: 0.7144367 (200)\ttotal: 17.7s\tremaining: 2h 26m 36s\n",
      "400:\tlearn: 0.7162468\ttest: 0.7216047\tbest: 0.7281196 (314)\ttotal: 35s\tremaining: 2h 25m 2s\n",
      "Stopped by overfitting detector  (100 iterations wait)\n",
      "\n",
      "bestTest = 0.7281195854\n",
      "bestIteration = 314\n",
      "\n",
      "Shrink model to first 315 iterations.\n",
      "0:\tlearn: 0.6773429\ttest: 0.6874029\tbest: 0.6874029 (0)\ttotal: 58.3ms\tremaining: 1h 37m 8s\n"
     ]
    },
    {
     "name": "stderr",
     "output_type": "stream",
     "text": [
      "\u001b[32m[I 2022-09-17 20:47:13,719]\u001b[0m Trial 6 finished with value: 0.7052891721736346 and parameters: {'depth': 7, 'learning_rate': 0.0003538304694900276, 'auto_class_weights': 'Balanced'}. Best is trial 4 with value: 0.7918956006722793.\u001b[0m\n"
     ]
    },
    {
     "name": "stdout",
     "output_type": "stream",
     "text": [
      "Stopped by overfitting detector  (100 iterations wait)\n",
      "\n",
      "bestTest = 0.6925036401\n",
      "bestIteration = 3\n",
      "\n",
      "Shrink model to first 4 iterations.\n",
      "F Score of CatBoost = 0.7052891721736346\n"
     ]
    },
    {
     "name": "stderr",
     "output_type": "stream",
     "text": [
      "C:\\Users\\yanbe\\AppData\\Local\\Temp\\ipykernel_30352\\448085076.py:26: FutureWarning: suggest_loguniform has been deprecated in v3.0.0. This feature will be removed in v6.0.0. See https://github.com/optuna/optuna/releases/tag/v3.0.0. Use :func:`~optuna.trial.Trial.suggest_float` instead.\n",
      "  'learning_rate' :trial.suggest_loguniform('learning_rate', 1e-4, 1e-2),\n"
     ]
    },
    {
     "name": "stdout",
     "output_type": "stream",
     "text": [
      "0:\tlearn: 0.6773942\ttest: 0.6869297\tbest: 0.6869297 (0)\ttotal: 71.2ms\tremaining: 1h 58m 44s\n",
      "Stopped by overfitting detector  (100 iterations wait)\n",
      "\n",
      "bestTest = 0.6939426052\n",
      "bestIteration = 3\n",
      "\n",
      "Shrink model to first 4 iterations.\n",
      "0:\tlearn: 0.6868410\ttest: 0.6644968\tbest: 0.6644968 (0)\ttotal: 67ms\tremaining: 1h 51m 37s\n",
      "200:\tlearn: 0.7110821\ttest: 0.7181870\tbest: 0.7221998 (172)\ttotal: 13.4s\tremaining: 1h 50m 30s\n",
      "Stopped by overfitting detector  (100 iterations wait)\n",
      "\n",
      "bestTest = 0.7225177941\n",
      "bestIteration = 242\n",
      "\n",
      "Shrink model to first 243 iterations.\n",
      "0:\tlearn: 0.6773429\ttest: 0.6874029\tbest: 0.6874029 (0)\ttotal: 68.7ms\tremaining: 1h 54m 28s\n"
     ]
    },
    {
     "name": "stderr",
     "output_type": "stream",
     "text": [
      "\u001b[32m[I 2022-09-17 20:47:52,004]\u001b[0m Trial 7 finished with value: 0.7040696669673557 and parameters: {'depth': 6, 'learning_rate': 0.00025719504211089517, 'auto_class_weights': 'Balanced'}. Best is trial 4 with value: 0.7918956006722793.\u001b[0m\n"
     ]
    },
    {
     "name": "stdout",
     "output_type": "stream",
     "text": [
      "Stopped by overfitting detector  (100 iterations wait)\n",
      "\n",
      "bestTest = 0.6957486016\n",
      "bestIteration = 5\n",
      "\n",
      "Shrink model to first 6 iterations.\n",
      "F Score of CatBoost = 0.7040696669673557\n"
     ]
    },
    {
     "name": "stderr",
     "output_type": "stream",
     "text": [
      "C:\\Users\\yanbe\\AppData\\Local\\Temp\\ipykernel_30352\\448085076.py:26: FutureWarning: suggest_loguniform has been deprecated in v3.0.0. This feature will be removed in v6.0.0. See https://github.com/optuna/optuna/releases/tag/v3.0.0. Use :func:`~optuna.trial.Trial.suggest_float` instead.\n",
      "  'learning_rate' :trial.suggest_loguniform('learning_rate', 1e-4, 1e-2),\n"
     ]
    },
    {
     "name": "stdout",
     "output_type": "stream",
     "text": [
      "0:\tlearn: 0.6831468\ttest: 0.6828962\tbest: 0.6828962 (0)\ttotal: 85.8ms\tremaining: 2h 23m 2s\n",
      "Stopped by overfitting detector  (100 iterations wait)\n",
      "\n",
      "bestTest = 0.7215863876\n",
      "bestIteration = 6\n",
      "\n",
      "Shrink model to first 7 iterations.\n",
      "0:\tlearn: 0.6966715\ttest: 0.6809486\tbest: 0.6809486 (0)\ttotal: 94.4ms\tremaining: 2h 37m 22s\n",
      "Stopped by overfitting detector  (100 iterations wait)\n",
      "\n",
      "bestTest = 0.7041995564\n",
      "bestIteration = 61\n",
      "\n",
      "Shrink model to first 62 iterations.\n",
      "0:\tlearn: 0.7332115\ttest: 0.7149878\tbest: 0.7149878 (0)\ttotal: 85.2ms\tremaining: 2h 22m 2s\n"
     ]
    },
    {
     "name": "stderr",
     "output_type": "stream",
     "text": [
      "\u001b[32m[I 2022-09-17 20:48:28,395]\u001b[0m Trial 8 finished with value: 0.7167808960493472 and parameters: {'depth': 7, 'learning_rate': 0.0020730292718398927, 'auto_class_weights': 'SqrtBalanced'}. Best is trial 4 with value: 0.7918956006722793.\u001b[0m\n"
     ]
    },
    {
     "name": "stdout",
     "output_type": "stream",
     "text": [
      "Stopped by overfitting detector  (100 iterations wait)\n",
      "\n",
      "bestTest = 0.7245567442\n",
      "bestIteration = 1\n",
      "\n",
      "Shrink model to first 2 iterations.\n",
      "F Score of CatBoost = 0.7167808960493472\n"
     ]
    },
    {
     "name": "stderr",
     "output_type": "stream",
     "text": [
      "C:\\Users\\yanbe\\AppData\\Local\\Temp\\ipykernel_30352\\448085076.py:26: FutureWarning: suggest_loguniform has been deprecated in v3.0.0. This feature will be removed in v6.0.0. See https://github.com/optuna/optuna/releases/tag/v3.0.0. Use :func:`~optuna.trial.Trial.suggest_float` instead.\n",
      "  'learning_rate' :trial.suggest_loguniform('learning_rate', 1e-4, 1e-2),\n"
     ]
    },
    {
     "name": "stdout",
     "output_type": "stream",
     "text": [
      "0:\tlearn: 0.6812924\ttest: 0.6828962\tbest: 0.6828962 (0)\ttotal: 65.5ms\tremaining: 1h 49m 8s\n",
      "Stopped by overfitting detector  (100 iterations wait)\n",
      "\n",
      "bestTest = 0.7156595913\n",
      "bestIteration = 3\n",
      "\n",
      "Shrink model to first 4 iterations.\n",
      "0:\tlearn: 0.6960665\ttest: 0.6809486\tbest: 0.6809486 (0)\ttotal: 66.2ms\tremaining: 1h 50m 21s\n",
      "Stopped by overfitting detector  (100 iterations wait)\n",
      "\n",
      "bestTest = 0.7097571066\n",
      "bestIteration = 1\n",
      "\n",
      "Shrink model to first 2 iterations.\n",
      "0:\tlearn: 0.7122311\ttest: 0.6917724\tbest: 0.6917724 (0)\ttotal: 87.8ms\tremaining: 2h 26m 15s\n"
     ]
    },
    {
     "name": "stderr",
     "output_type": "stream",
     "text": [
      "\u001b[32m[I 2022-09-17 20:48:50,872]\u001b[0m Trial 9 finished with value: 0.7087928782991241 and parameters: {'depth': 6, 'learning_rate': 0.00010774495079488041, 'auto_class_weights': 'SqrtBalanced'}. Best is trial 4 with value: 0.7918956006722793.\u001b[0m\n"
     ]
    },
    {
     "name": "stdout",
     "output_type": "stream",
     "text": [
      "Stopped by overfitting detector  (100 iterations wait)\n",
      "\n",
      "bestTest = 0.700961937\n",
      "bestIteration = 1\n",
      "\n",
      "Shrink model to first 2 iterations.\n",
      "F Score of CatBoost = 0.7087928782991241\n"
     ]
    },
    {
     "name": "stderr",
     "output_type": "stream",
     "text": [
      "C:\\Users\\yanbe\\AppData\\Local\\Temp\\ipykernel_30352\\448085076.py:26: FutureWarning: suggest_loguniform has been deprecated in v3.0.0. This feature will be removed in v6.0.0. See https://github.com/optuna/optuna/releases/tag/v3.0.0. Use :func:`~optuna.trial.Trial.suggest_float` instead.\n",
      "  'learning_rate' :trial.suggest_loguniform('learning_rate', 1e-4, 1e-2),\n"
     ]
    },
    {
     "name": "stdout",
     "output_type": "stream",
     "text": [
      "0:\tlearn: 0.6900575\ttest: 0.6922070\tbest: 0.6922070 (0)\ttotal: 114ms\tremaining: 3h 9m 25s\n",
      "200:\tlearn: 0.7687712\ttest: 0.7795796\tbest: 0.7796867 (196)\ttotal: 25.3s\tremaining: 3h 29m 39s\n",
      "400:\tlearn: 0.7995529\ttest: 0.7912134\tbest: 0.7912134 (398)\ttotal: 53.6s\tremaining: 3h 41m 40s\n",
      "Stopped by overfitting detector  (100 iterations wait)\n",
      "\n",
      "bestTest = 0.7928440715\n",
      "bestIteration = 464\n",
      "\n",
      "Shrink model to first 465 iterations.\n",
      "0:\tlearn: 0.6941054\ttest: 0.6652423\tbest: 0.6652423 (0)\ttotal: 128ms\tremaining: 3h 33m 40s\n",
      "200:\tlearn: 0.7664033\ttest: 0.7639177\tbest: 0.7639177 (200)\ttotal: 25.1s\tremaining: 3h 28m 5s\n",
      "400:\tlearn: 0.8010738\ttest: 0.7723933\tbest: 0.7732470 (394)\ttotal: 52.9s\tremaining: 3h 39m 1s\n",
      "600:\tlearn: 0.8292666\ttest: 0.7776131\tbest: 0.7799603 (567)\ttotal: 1m 21s\tremaining: 3h 44m 4s\n",
      "Stopped by overfitting detector  (100 iterations wait)\n",
      "\n",
      "bestTest = 0.7799603467\n",
      "bestIteration = 567\n",
      "\n",
      "Shrink model to first 568 iterations.\n",
      "0:\tlearn: 0.6773429\ttest: 0.6874029\tbest: 0.6874029 (0)\ttotal: 71.5ms\tremaining: 1h 59m 12s\n",
      "200:\tlearn: 0.7628441\ttest: 0.7849993\tbest: 0.7850012 (194)\ttotal: 26.8s\tremaining: 3h 42m 6s\n",
      "400:\tlearn: 0.7973890\ttest: 0.7975653\tbest: 0.7975653 (400)\ttotal: 53.5s\tremaining: 3h 41m 22s\n"
     ]
    },
    {
     "name": "stderr",
     "output_type": "stream",
     "text": [
      "\u001b[32m[I 2022-09-17 20:52:46,593]\u001b[0m Trial 10 finished with value: 0.790274713149209 and parameters: {'depth': 8, 'learning_rate': 0.009284754287039511, 'auto_class_weights': 'Balanced'}. Best is trial 4 with value: 0.7918956006722793.\u001b[0m\n"
     ]
    },
    {
     "name": "stdout",
     "output_type": "stream",
     "text": [
      "Stopped by overfitting detector  (100 iterations wait)\n",
      "\n",
      "bestTest = 0.7980197212\n",
      "bestIteration = 406\n",
      "\n",
      "Shrink model to first 407 iterations.\n",
      "F Score of CatBoost = 0.790274713149209\n"
     ]
    },
    {
     "name": "stderr",
     "output_type": "stream",
     "text": [
      "C:\\Users\\yanbe\\AppData\\Local\\Temp\\ipykernel_30352\\448085076.py:26: FutureWarning: suggest_loguniform has been deprecated in v3.0.0. This feature will be removed in v6.0.0. See https://github.com/optuna/optuna/releases/tag/v3.0.0. Use :func:`~optuna.trial.Trial.suggest_float` instead.\n",
      "  'learning_rate' :trial.suggest_loguniform('learning_rate', 1e-4, 1e-2),\n"
     ]
    },
    {
     "name": "stdout",
     "output_type": "stream",
     "text": [
      "0:\tlearn: 0.6900575\ttest: 0.6922070\tbest: 0.6922070 (0)\ttotal: 120ms\tremaining: 3h 20m 17s\n",
      "200:\tlearn: 0.7694441\ttest: 0.7798140\tbest: 0.7809678 (197)\ttotal: 25.3s\tremaining: 3h 29m 15s\n",
      "400:\tlearn: 0.7990284\ttest: 0.7912858\tbest: 0.7955797 (389)\ttotal: 53s\tremaining: 3h 39m 18s\n",
      "Stopped by overfitting detector  (100 iterations wait)\n",
      "\n",
      "bestTest = 0.795579719\n",
      "bestIteration = 389\n",
      "\n",
      "Shrink model to first 390 iterations.\n",
      "0:\tlearn: 0.6941054\ttest: 0.6652423\tbest: 0.6652423 (0)\ttotal: 131ms\tremaining: 3h 39m 1s\n",
      "200:\tlearn: 0.7672111\ttest: 0.7599535\tbest: 0.7599560 (199)\ttotal: 25.6s\tremaining: 3h 32m 10s\n",
      "400:\tlearn: 0.8052674\ttest: 0.7731094\tbest: 0.7733408 (392)\ttotal: 54.4s\tremaining: 3h 45m 7s\n",
      "600:\tlearn: 0.8286641\ttest: 0.7812991\tbest: 0.7812991 (599)\ttotal: 1m 22s\tremaining: 3h 48m 44s\n",
      "Stopped by overfitting detector  (100 iterations wait)\n",
      "\n",
      "bestTest = 0.7837852854\n",
      "bestIteration = 623\n",
      "\n",
      "Shrink model to first 624 iterations.\n",
      "0:\tlearn: 0.6773429\ttest: 0.6874029\tbest: 0.6874029 (0)\ttotal: 104ms\tremaining: 2h 53m 34s\n",
      "200:\tlearn: 0.7615060\ttest: 0.7828269\tbest: 0.7828269 (200)\ttotal: 28.6s\tremaining: 3h 57m 4s\n",
      "400:\tlearn: 0.7973898\ttest: 0.7970266\tbest: 0.7992405 (347)\ttotal: 1m 4s\tremaining: 4h 25m\n"
     ]
    },
    {
     "name": "stderr",
     "output_type": "stream",
     "text": [
      "\u001b[32m[I 2022-09-17 20:56:46,081]\u001b[0m Trial 11 finished with value: 0.7928685125953434 and parameters: {'depth': 8, 'learning_rate': 0.009077250181928806, 'auto_class_weights': 'Balanced'}. Best is trial 11 with value: 0.7928685125953434.\u001b[0m\n"
     ]
    },
    {
     "name": "stdout",
     "output_type": "stream",
     "text": [
      "Stopped by overfitting detector  (100 iterations wait)\n",
      "\n",
      "bestTest = 0.7992405334\n",
      "bestIteration = 347\n",
      "\n",
      "Shrink model to first 348 iterations.\n",
      "F Score of CatBoost = 0.7928685125953434\n"
     ]
    },
    {
     "name": "stderr",
     "output_type": "stream",
     "text": [
      "C:\\Users\\yanbe\\AppData\\Local\\Temp\\ipykernel_30352\\448085076.py:26: FutureWarning: suggest_loguniform has been deprecated in v3.0.0. This feature will be removed in v6.0.0. See https://github.com/optuna/optuna/releases/tag/v3.0.0. Use :func:`~optuna.trial.Trial.suggest_float` instead.\n",
      "  'learning_rate' :trial.suggest_loguniform('learning_rate', 1e-4, 1e-2),\n"
     ]
    },
    {
     "name": "stdout",
     "output_type": "stream",
     "text": [
      "0:\tlearn: 0.6900575\ttest: 0.6922070\tbest: 0.6922070 (0)\ttotal: 139ms\tremaining: 3h 51m 28s\n",
      "200:\tlearn: 0.7708693\ttest: 0.7804887\tbest: 0.7804887 (200)\ttotal: 31.9s\tremaining: 4h 23m 54s\n",
      "400:\tlearn: 0.8013782\ttest: 0.7910010\tbest: 0.7913318 (389)\ttotal: 1m 1s\tremaining: 4h 14m 57s\n",
      "600:\tlearn: 0.8256013\ttest: 0.7942364\tbest: 0.7962097 (515)\ttotal: 1m 32s\tremaining: 4h 13m 54s\n",
      "Stopped by overfitting detector  (100 iterations wait)\n",
      "\n",
      "bestTest = 0.7962096579\n",
      "bestIteration = 515\n",
      "\n",
      "Shrink model to first 516 iterations.\n",
      "0:\tlearn: 0.6941054\ttest: 0.6652423\tbest: 0.6652423 (0)\ttotal: 134ms\tremaining: 3h 43m 54s\n",
      "200:\tlearn: 0.7729491\ttest: 0.7625249\tbest: 0.7625249 (200)\ttotal: 25.6s\tremaining: 3h 32m 16s\n",
      "400:\tlearn: 0.8120249\ttest: 0.7766893\tbest: 0.7781365 (394)\ttotal: 54.2s\tremaining: 3h 44m 32s\n",
      "Stopped by overfitting detector  (100 iterations wait)\n",
      "\n",
      "bestTest = 0.7799224202\n",
      "bestIteration = 450\n",
      "\n",
      "Shrink model to first 451 iterations.\n",
      "0:\tlearn: 0.6773429\ttest: 0.6874029\tbest: 0.6874029 (0)\ttotal: 69.1ms\tremaining: 1h 55m 9s\n",
      "200:\tlearn: 0.7625905\ttest: 0.7834541\tbest: 0.7834541 (200)\ttotal: 25.2s\tremaining: 3h 28m 8s\n",
      "400:\tlearn: 0.8013409\ttest: 0.7967788\tbest: 0.7967788 (400)\ttotal: 53.1s\tremaining: 3h 39m 50s\n"
     ]
    },
    {
     "name": "stderr",
     "output_type": "stream",
     "text": [
      "\u001b[32m[I 2022-09-17 21:00:51,894]\u001b[0m Trial 12 finished with value: 0.7920646267422952 and parameters: {'depth': 8, 'learning_rate': 0.009636043034352764, 'auto_class_weights': 'Balanced'}. Best is trial 11 with value: 0.7928685125953434.\u001b[0m\n"
     ]
    },
    {
     "name": "stdout",
     "output_type": "stream",
     "text": [
      "Stopped by overfitting detector  (100 iterations wait)\n",
      "\n",
      "bestTest = 0.8000618021\n",
      "bestIteration = 450\n",
      "\n",
      "Shrink model to first 451 iterations.\n",
      "F Score of CatBoost = 0.7920646267422952\n"
     ]
    },
    {
     "name": "stderr",
     "output_type": "stream",
     "text": [
      "C:\\Users\\yanbe\\AppData\\Local\\Temp\\ipykernel_30352\\448085076.py:26: FutureWarning: suggest_loguniform has been deprecated in v3.0.0. This feature will be removed in v6.0.0. See https://github.com/optuna/optuna/releases/tag/v3.0.0. Use :func:`~optuna.trial.Trial.suggest_float` instead.\n",
      "  'learning_rate' :trial.suggest_loguniform('learning_rate', 1e-4, 1e-2),\n"
     ]
    },
    {
     "name": "stdout",
     "output_type": "stream",
     "text": [
      "0:\tlearn: 0.6900575\ttest: 0.6922070\tbest: 0.6922070 (0)\ttotal: 174ms\tremaining: 4h 50m 15s\n",
      "200:\tlearn: 0.7517453\ttest: 0.7678214\tbest: 0.7678214 (200)\ttotal: 25.8s\tremaining: 3h 33m 12s\n",
      "400:\tlearn: 0.7730820\ttest: 0.7808534\tbest: 0.7825045 (349)\ttotal: 51.9s\tremaining: 3h 34m 57s\n",
      "Stopped by overfitting detector  (100 iterations wait)\n",
      "\n",
      "bestTest = 0.7825045098\n",
      "bestIteration = 349\n",
      "\n",
      "Shrink model to first 350 iterations.\n",
      "0:\tlearn: 0.6941054\ttest: 0.6652423\tbest: 0.6652423 (0)\ttotal: 152ms\tremaining: 4h 13m 56s\n",
      "200:\tlearn: 0.7556034\ttest: 0.7432111\tbest: 0.7433201 (199)\ttotal: 26.6s\tremaining: 3h 40m 22s\n",
      "400:\tlearn: 0.7731012\ttest: 0.7640338\tbest: 0.7646216 (391)\ttotal: 54.6s\tremaining: 3h 46m 3s\n",
      "600:\tlearn: 0.7918879\ttest: 0.7725760\tbest: 0.7728092 (584)\ttotal: 1m 23s\tremaining: 3h 51m 14s\n",
      "Stopped by overfitting detector  (100 iterations wait)\n",
      "\n",
      "bestTest = 0.7737417282\n",
      "bestIteration = 629\n",
      "\n",
      "Shrink model to first 630 iterations.\n",
      "0:\tlearn: 0.6773429\ttest: 0.6874029\tbest: 0.6874029 (0)\ttotal: 84.4ms\tremaining: 2h 20m 39s\n",
      "200:\tlearn: 0.7495359\ttest: 0.7691064\tbest: 0.7710002 (197)\ttotal: 25.4s\tremaining: 3h 30m 12s\n",
      "400:\tlearn: 0.7692197\ttest: 0.7867555\tbest: 0.7879626 (388)\ttotal: 52.5s\tremaining: 3h 37m 8s\n",
      "600:\tlearn: 0.7895096\ttest: 0.7955931\tbest: 0.7958219 (599)\ttotal: 1m 18s\tremaining: 3h 36m 15s\n"
     ]
    },
    {
     "name": "stderr",
     "output_type": "stream",
     "text": [
      "\u001b[32m[I 2022-09-17 21:05:17,520]\u001b[0m Trial 13 finished with value: 0.785702352296637 and parameters: {'depth': 8, 'learning_rate': 0.004993177768239595, 'auto_class_weights': 'Balanced'}. Best is trial 11 with value: 0.7928685125953434.\u001b[0m\n"
     ]
    },
    {
     "name": "stdout",
     "output_type": "stream",
     "text": [
      "Stopped by overfitting detector  (100 iterations wait)\n",
      "\n",
      "bestTest = 0.8008608189\n",
      "bestIteration = 680\n",
      "\n",
      "Shrink model to first 681 iterations.\n",
      "F Score of CatBoost = 0.785702352296637\n"
     ]
    },
    {
     "name": "stderr",
     "output_type": "stream",
     "text": [
      "C:\\Users\\yanbe\\AppData\\Local\\Temp\\ipykernel_30352\\448085076.py:26: FutureWarning: suggest_loguniform has been deprecated in v3.0.0. This feature will be removed in v6.0.0. See https://github.com/optuna/optuna/releases/tag/v3.0.0. Use :func:`~optuna.trial.Trial.suggest_float` instead.\n",
      "  'learning_rate' :trial.suggest_loguniform('learning_rate', 1e-4, 1e-2),\n"
     ]
    },
    {
     "name": "stdout",
     "output_type": "stream",
     "text": [
      "0:\tlearn: 0.6900575\ttest: 0.6922070\tbest: 0.6922070 (0)\ttotal: 120ms\tremaining: 3h 20m 7s\n",
      "200:\tlearn: 0.7479047\ttest: 0.7632867\tbest: 0.7634481 (184)\ttotal: 23.9s\tremaining: 3h 17m 38s\n",
      "400:\tlearn: 0.7676762\ttest: 0.7773807\tbest: 0.7790199 (394)\ttotal: 49.2s\tremaining: 3h 23m 44s\n",
      "600:\tlearn: 0.7833945\ttest: 0.7839081\tbest: 0.7839081 (599)\ttotal: 1m 15s\tremaining: 3h 28m 1s\n",
      "800:\tlearn: 0.7948524\ttest: 0.7871164\tbest: 0.7888885 (777)\ttotal: 1m 42s\tremaining: 3h 32m 17s\n",
      "Stopped by overfitting detector  (100 iterations wait)\n",
      "\n",
      "bestTest = 0.7890160507\n",
      "bestIteration = 804\n",
      "\n",
      "Shrink model to first 805 iterations.\n",
      "0:\tlearn: 0.6941054\ttest: 0.6652423\tbest: 0.6652423 (0)\ttotal: 130ms\tremaining: 3h 37m 2s\n",
      "200:\tlearn: 0.7446628\ttest: 0.7425162\tbest: 0.7436875 (187)\ttotal: 24.6s\tremaining: 3h 23m 38s\n",
      "400:\tlearn: 0.7655319\ttest: 0.7585862\tbest: 0.7585862 (399)\ttotal: 50.5s\tremaining: 3h 28m 59s\n",
      "600:\tlearn: 0.7819231\ttest: 0.7654599\tbest: 0.7680537 (584)\ttotal: 1m 16s\tremaining: 3h 31m 23s\n",
      "800:\tlearn: 0.7970310\ttest: 0.7768653\tbest: 0.7770977 (787)\ttotal: 1m 44s\tremaining: 3h 34m 41s\n",
      "Stopped by overfitting detector  (100 iterations wait)\n",
      "\n",
      "bestTest = 0.7781944561\n",
      "bestIteration = 871\n",
      "\n",
      "Shrink model to first 872 iterations.\n",
      "0:\tlearn: 0.6773429\ttest: 0.6874029\tbest: 0.6874029 (0)\ttotal: 66.5ms\tremaining: 1h 50m 46s\n",
      "200:\tlearn: 0.7406640\ttest: 0.7677474\tbest: 0.7678543 (189)\ttotal: 24.8s\tremaining: 3h 25m 18s\n",
      "400:\tlearn: 0.7586634\ttest: 0.7803642\tbest: 0.7822595 (378)\ttotal: 50.9s\tremaining: 3h 30m 52s\n",
      "600:\tlearn: 0.7799035\ttest: 0.7899111\tbest: 0.7899111 (598)\ttotal: 1m 17s\tremaining: 3h 33m 32s\n",
      "800:\tlearn: 0.7938355\ttest: 0.7958690\tbest: 0.7958690 (795)\ttotal: 1m 45s\tremaining: 3h 37m 16s\n"
     ]
    },
    {
     "name": "stderr",
     "output_type": "stream",
     "text": [
      "\u001b[32m[I 2022-09-17 21:11:35,940]\u001b[0m Trial 14 finished with value: 0.7891214341075871 and parameters: {'depth': 8, 'learning_rate': 0.004148973328248079, 'auto_class_weights': 'Balanced'}. Best is trial 11 with value: 0.7928685125953434.\u001b[0m\n"
     ]
    },
    {
     "name": "stdout",
     "output_type": "stream",
     "text": [
      "Stopped by overfitting detector  (100 iterations wait)\n",
      "\n",
      "bestTest = 0.8001537955\n",
      "bestIteration = 894\n",
      "\n",
      "Shrink model to first 895 iterations.\n",
      "F Score of CatBoost = 0.7891214341075871\n"
     ]
    },
    {
     "name": "stderr",
     "output_type": "stream",
     "text": [
      "C:\\Users\\yanbe\\AppData\\Local\\Temp\\ipykernel_30352\\448085076.py:26: FutureWarning: suggest_loguniform has been deprecated in v3.0.0. This feature will be removed in v6.0.0. See https://github.com/optuna/optuna/releases/tag/v3.0.0. Use :func:`~optuna.trial.Trial.suggest_float` instead.\n",
      "  'learning_rate' :trial.suggest_loguniform('learning_rate', 1e-4, 1e-2),\n"
     ]
    },
    {
     "name": "stdout",
     "output_type": "stream",
     "text": [
      "0:\tlearn: 0.6900575\ttest: 0.6922070\tbest: 0.6922070 (0)\ttotal: 114ms\tremaining: 3h 9m 28s\n",
      "200:\tlearn: 0.7499654\ttest: 0.7606348\tbest: 0.7606348 (200)\ttotal: 24.1s\tremaining: 3h 19m 22s\n",
      "400:\tlearn: 0.7708541\ttest: 0.7776769\tbest: 0.7790792 (393)\ttotal: 49.3s\tremaining: 3h 24m 2s\n",
      "600:\tlearn: 0.7872438\ttest: 0.7860621\tbest: 0.7862087 (534)\ttotal: 1m 21s\tremaining: 3h 43m 51s\n",
      "800:\tlearn: 0.7984086\ttest: 0.7916618\tbest: 0.7916618 (799)\ttotal: 1m 49s\tremaining: 3h 46m 45s\n",
      "Stopped by overfitting detector  (100 iterations wait)\n",
      "\n",
      "bestTest = 0.7930793832\n",
      "bestIteration = 875\n",
      "\n",
      "Shrink model to first 876 iterations.\n",
      "0:\tlearn: 0.6941054\ttest: 0.6652423\tbest: 0.6652423 (0)\ttotal: 126ms\tremaining: 3h 29m 20s\n",
      "200:\tlearn: 0.7457909\ttest: 0.7460732\tbest: 0.7460732 (200)\ttotal: 25.1s\tremaining: 3h 27m 55s\n",
      "400:\tlearn: 0.7689906\ttest: 0.7624767\tbest: 0.7624767 (397)\ttotal: 51s\tremaining: 3h 31m 15s\n",
      "600:\tlearn: 0.7856311\ttest: 0.7737535\tbest: 0.7748266 (582)\ttotal: 1m 17s\tremaining: 3h 35m\n",
      "Stopped by overfitting detector  (100 iterations wait)\n",
      "\n",
      "bestTest = 0.7762059511\n",
      "bestIteration = 651\n",
      "\n",
      "Shrink model to first 652 iterations.\n",
      "0:\tlearn: 0.6773429\ttest: 0.6874029\tbest: 0.6874029 (0)\ttotal: 71.2ms\tremaining: 1h 58m 39s\n",
      "200:\tlearn: 0.7453948\ttest: 0.7677968\tbest: 0.7688751 (197)\ttotal: 25.6s\tremaining: 3h 31m 32s\n",
      "400:\tlearn: 0.7653927\ttest: 0.7851144\tbest: 0.7854563 (399)\ttotal: 51.9s\tremaining: 3h 34m 42s\n",
      "600:\tlearn: 0.7834558\ttest: 0.7939196\tbest: 0.7939196 (590)\ttotal: 1m 20s\tremaining: 3h 41m 12s\n",
      "800:\tlearn: 0.7979218\ttest: 0.7951017\tbest: 0.7963375 (766)\ttotal: 1m 48s\tremaining: 3h 44m 6s\n"
     ]
    },
    {
     "name": "stderr",
     "output_type": "stream",
     "text": [
      "\u001b[32m[I 2022-09-17 21:17:44,493]\u001b[0m Trial 15 finished with value: 0.7891893067878053 and parameters: {'depth': 8, 'learning_rate': 0.004475740624712831, 'auto_class_weights': 'Balanced'}. Best is trial 11 with value: 0.7928685125953434.\u001b[0m\n"
     ]
    },
    {
     "name": "stdout",
     "output_type": "stream",
     "text": [
      "Stopped by overfitting detector  (100 iterations wait)\n",
      "\n",
      "bestTest = 0.798282586\n",
      "bestIteration = 894\n",
      "\n",
      "Shrink model to first 895 iterations.\n",
      "F Score of CatBoost = 0.7891893067878053\n"
     ]
    },
    {
     "name": "stderr",
     "output_type": "stream",
     "text": [
      "C:\\Users\\yanbe\\AppData\\Local\\Temp\\ipykernel_30352\\448085076.py:26: FutureWarning: suggest_loguniform has been deprecated in v3.0.0. This feature will be removed in v6.0.0. See https://github.com/optuna/optuna/releases/tag/v3.0.0. Use :func:`~optuna.trial.Trial.suggest_float` instead.\n",
      "  'learning_rate' :trial.suggest_loguniform('learning_rate', 1e-4, 1e-2),\n"
     ]
    },
    {
     "name": "stdout",
     "output_type": "stream",
     "text": [
      "0:\tlearn: 0.6900575\ttest: 0.6922070\tbest: 0.6922070 (0)\ttotal: 211ms\tremaining: 5h 51m 17s\n",
      "200:\tlearn: 0.7756419\ttest: 0.7805223\tbest: 0.7828678 (199)\ttotal: 30.1s\tremaining: 4h 9m 8s\n",
      "400:\tlearn: 0.8061702\ttest: 0.7955226\tbest: 0.7964861 (369)\ttotal: 1m 1s\tremaining: 4h 12m 44s\n",
      "Stopped by overfitting detector  (100 iterations wait)\n",
      "\n",
      "bestTest = 0.7964860503\n",
      "bestIteration = 369\n",
      "\n",
      "Shrink model to first 370 iterations.\n",
      "0:\tlearn: 0.6941054\ttest: 0.6652423\tbest: 0.6652423 (0)\ttotal: 137ms\tremaining: 3h 48m 2s\n",
      "200:\tlearn: 0.7750881\ttest: 0.7662929\tbest: 0.7665297 (197)\ttotal: 29.2s\tremaining: 4h 1m 53s\n",
      "400:\tlearn: 0.8119444\ttest: 0.7750972\tbest: 0.7753277 (396)\ttotal: 59.1s\tremaining: 4h 4m 37s\n",
      "600:\tlearn: 0.8369918\ttest: 0.7833750\tbest: 0.7850290 (522)\ttotal: 1m 31s\tremaining: 4h 12m 46s\n",
      "Stopped by overfitting detector  (100 iterations wait)\n",
      "\n",
      "bestTest = 0.7850289928\n",
      "bestIteration = 522\n",
      "\n",
      "Shrink model to first 523 iterations.\n",
      "0:\tlearn: 0.6773429\ttest: 0.6874029\tbest: 0.6874029 (0)\ttotal: 72.1ms\tremaining: 2h 10s\n",
      "200:\tlearn: 0.7656128\ttest: 0.7861303\tbest: 0.7861303 (200)\ttotal: 29.4s\tremaining: 4h 3m 17s\n",
      "400:\tlearn: 0.8030422\ttest: 0.7994821\tbest: 0.8007136 (398)\ttotal: 59.1s\tremaining: 4h 4m 39s\n"
     ]
    },
    {
     "name": "stderr",
     "output_type": "stream",
     "text": [
      "\u001b[32m[I 2022-09-17 21:21:56,281]\u001b[0m Trial 16 finished with value: 0.7950571123673523 and parameters: {'depth': 8, 'learning_rate': 0.009976915347135165, 'auto_class_weights': 'Balanced'}. Best is trial 16 with value: 0.7950571123673523.\u001b[0m\n"
     ]
    },
    {
     "name": "stdout",
     "output_type": "stream",
     "text": [
      "Stopped by overfitting detector  (100 iterations wait)\n",
      "\n",
      "bestTest = 0.803656294\n",
      "bestIteration = 458\n",
      "\n",
      "Shrink model to first 459 iterations.\n",
      "F Score of CatBoost = 0.7950571123673523\n"
     ]
    },
    {
     "name": "stderr",
     "output_type": "stream",
     "text": [
      "C:\\Users\\yanbe\\AppData\\Local\\Temp\\ipykernel_30352\\448085076.py:26: FutureWarning: suggest_loguniform has been deprecated in v3.0.0. This feature will be removed in v6.0.0. See https://github.com/optuna/optuna/releases/tag/v3.0.0. Use :func:`~optuna.trial.Trial.suggest_float` instead.\n",
      "  'learning_rate' :trial.suggest_loguniform('learning_rate', 1e-4, 1e-2),\n"
     ]
    },
    {
     "name": "stdout",
     "output_type": "stream",
     "text": [
      "0:\tlearn: 0.6900575\ttest: 0.6922070\tbest: 0.6922070 (0)\ttotal: 131ms\tremaining: 3h 38m 20s\n",
      "200:\tlearn: 0.7398717\ttest: 0.7619151\tbest: 0.7625108 (190)\ttotal: 26.2s\tremaining: 3h 36m 43s\n",
      "400:\tlearn: 0.7580050\ttest: 0.7712665\tbest: 0.7712691 (395)\ttotal: 56.4s\tremaining: 3h 53m 22s\n",
      "600:\tlearn: 0.7784974\ttest: 0.7822538\tbest: 0.7832145 (582)\ttotal: 1m 25s\tremaining: 3h 56m 21s\n",
      "800:\tlearn: 0.7892067\ttest: 0.7854102\tbest: 0.7854102 (800)\ttotal: 1m 57s\tremaining: 4h 2m 40s\n",
      "1000:\tlearn: 0.8027403\ttest: 0.7946576\tbest: 0.7946584 (996)\ttotal: 2m 29s\tremaining: 4h 6m 23s\n",
      "1200:\tlearn: 0.8136398\ttest: 0.7931911\tbest: 0.7966310 (1111)\ttotal: 3m 1s\tremaining: 4h 8m 11s\n",
      "Stopped by overfitting detector  (100 iterations wait)\n",
      "\n",
      "bestTest = 0.7966309673\n",
      "bestIteration = 1111\n",
      "\n",
      "Shrink model to first 1112 iterations.\n",
      "0:\tlearn: 0.6941054\ttest: 0.6652423\tbest: 0.6652423 (0)\ttotal: 149ms\tremaining: 4h 8m 13s\n",
      "200:\tlearn: 0.7410871\ttest: 0.7447350\tbest: 0.7451315 (176)\ttotal: 25.3s\tremaining: 3h 29m 23s\n",
      "400:\tlearn: 0.7630064\ttest: 0.7575218\tbest: 0.7591422 (397)\ttotal: 52.8s\tremaining: 3h 38m 37s\n",
      "600:\tlearn: 0.7791626\ttest: 0.7700466\tbest: 0.7700466 (598)\ttotal: 1m 21s\tremaining: 3h 44m 2s\n",
      "800:\tlearn: 0.7950504\ttest: 0.7765434\tbest: 0.7767755 (799)\ttotal: 1m 50s\tremaining: 3h 48m 57s\n",
      "1000:\tlearn: 0.8096069\ttest: 0.7777952\tbest: 0.7811332 (981)\ttotal: 2m 19s\tremaining: 3h 50m 18s\n",
      "Stopped by overfitting detector  (100 iterations wait)\n",
      "\n",
      "bestTest = 0.7819834366\n",
      "bestIteration = 1077\n",
      "\n",
      "Shrink model to first 1078 iterations.\n",
      "0:\tlearn: 0.6773429\ttest: 0.6874029\tbest: 0.6874029 (0)\ttotal: 67.6ms\tremaining: 1h 52m 39s\n",
      "200:\tlearn: 0.7372015\ttest: 0.7665587\tbest: 0.7672544 (141)\ttotal: 25.2s\tremaining: 3h 28m 23s\n",
      "400:\tlearn: 0.7588891\ttest: 0.7786091\tbest: 0.7786091 (400)\ttotal: 52.5s\tremaining: 3h 37m 25s\n",
      "600:\tlearn: 0.7732963\ttest: 0.7884148\tbest: 0.7898604 (582)\ttotal: 1m 19s\tremaining: 3h 38m 42s\n",
      "800:\tlearn: 0.7894425\ttest: 0.7950606\tbest: 0.7950606 (796)\ttotal: 1m 46s\tremaining: 3h 39m 20s\n"
     ]
    },
    {
     "name": "stderr",
     "output_type": "stream",
     "text": [
      "\u001b[32m[I 2022-09-17 21:29:56,365]\u001b[0m Trial 17 finished with value: 0.792138191156304 and parameters: {'depth': 8, 'learning_rate': 0.003872713225787367, 'auto_class_weights': 'Balanced'}. Best is trial 16 with value: 0.7950571123673523.\u001b[0m\n"
     ]
    },
    {
     "name": "stdout",
     "output_type": "stream",
     "text": [
      "Stopped by overfitting detector  (100 iterations wait)\n",
      "\n",
      "bestTest = 0.7978001696\n",
      "bestIteration = 874\n",
      "\n",
      "Shrink model to first 875 iterations.\n",
      "F Score of CatBoost = 0.792138191156304\n"
     ]
    },
    {
     "name": "stderr",
     "output_type": "stream",
     "text": [
      "C:\\Users\\yanbe\\AppData\\Local\\Temp\\ipykernel_30352\\448085076.py:26: FutureWarning: suggest_loguniform has been deprecated in v3.0.0. This feature will be removed in v6.0.0. See https://github.com/optuna/optuna/releases/tag/v3.0.0. Use :func:`~optuna.trial.Trial.suggest_float` instead.\n",
      "  'learning_rate' :trial.suggest_loguniform('learning_rate', 1e-4, 1e-2),\n"
     ]
    },
    {
     "name": "stdout",
     "output_type": "stream",
     "text": [
      "0:\tlearn: 0.6900575\ttest: 0.6922070\tbest: 0.6922070 (0)\ttotal: 145ms\tremaining: 4h 1m 46s\n",
      "Stopped by overfitting detector  (100 iterations wait)\n",
      "\n",
      "bestTest = 0.7548474428\n",
      "bestIteration = 54\n",
      "\n",
      "Shrink model to first 55 iterations.\n",
      "0:\tlearn: 0.6941054\ttest: 0.6652423\tbest: 0.6652423 (0)\ttotal: 131ms\tremaining: 3h 38m 4s\n",
      "Stopped by overfitting detector  (100 iterations wait)\n",
      "\n",
      "bestTest = 0.6784904916\n",
      "bestIteration = 1\n",
      "\n",
      "Shrink model to first 2 iterations.\n",
      "0:\tlearn: 0.6773429\ttest: 0.6874029\tbest: 0.6874029 (0)\ttotal: 70.8ms\tremaining: 1h 58m 4s\n",
      "200:\tlearn: 0.7243063\ttest: 0.7595312\tbest: 0.7596346 (199)\ttotal: 24.1s\tremaining: 3h 19m 6s\n"
     ]
    },
    {
     "name": "stderr",
     "output_type": "stream",
     "text": [
      "\u001b[32m[I 2022-09-17 21:31:12,600]\u001b[0m Trial 18 finished with value: 0.7327678144053325 and parameters: {'depth': 8, 'learning_rate': 0.0006319733365171671, 'auto_class_weights': 'Balanced'}. Best is trial 16 with value: 0.7950571123673523.\u001b[0m\n"
     ]
    },
    {
     "name": "stdout",
     "output_type": "stream",
     "text": [
      "Stopped by overfitting detector  (100 iterations wait)\n",
      "\n",
      "bestTest = 0.7649655088\n",
      "bestIteration = 265\n",
      "\n",
      "Shrink model to first 266 iterations.\n",
      "F Score of CatBoost = 0.7327678144053325\n"
     ]
    },
    {
     "name": "stderr",
     "output_type": "stream",
     "text": [
      "C:\\Users\\yanbe\\AppData\\Local\\Temp\\ipykernel_30352\\448085076.py:26: FutureWarning: suggest_loguniform has been deprecated in v3.0.0. This feature will be removed in v6.0.0. See https://github.com/optuna/optuna/releases/tag/v3.0.0. Use :func:`~optuna.trial.Trial.suggest_float` instead.\n",
      "  'learning_rate' :trial.suggest_loguniform('learning_rate', 1e-4, 1e-2),\n"
     ]
    },
    {
     "name": "stdout",
     "output_type": "stream",
     "text": [
      "0:\tlearn: 0.6860018\ttest: 0.6910257\tbest: 0.6910257 (0)\ttotal: 95.5ms\tremaining: 2h 39m 12s\n",
      "200:\tlearn: 0.7501009\ttest: 0.7675773\tbest: 0.7675773 (200)\ttotal: 19.4s\tremaining: 2h 40m 27s\n",
      "400:\tlearn: 0.7792691\ttest: 0.7800785\tbest: 0.7801967 (398)\ttotal: 39.8s\tremaining: 2h 44m 33s\n",
      "600:\tlearn: 0.7915397\ttest: 0.7882818\tbest: 0.7883888 (580)\ttotal: 1m\tremaining: 2h 46m 49s\n",
      "800:\tlearn: 0.8084038\ttest: 0.7922761\tbest: 0.7928702 (704)\ttotal: 1m 22s\tremaining: 2h 50m 38s\n",
      "Stopped by overfitting detector  (100 iterations wait)\n",
      "\n",
      "bestTest = 0.7928701879\n",
      "bestIteration = 704\n",
      "\n",
      "Shrink model to first 705 iterations.\n",
      "0:\tlearn: 0.6894447\ttest: 0.6681740\tbest: 0.6681740 (0)\ttotal: 102ms\tremaining: 2h 50m 9s\n",
      "200:\tlearn: 0.7527330\ttest: 0.7512098\tbest: 0.7513481 (192)\ttotal: 19.9s\tremaining: 2h 44m 38s\n",
      "400:\tlearn: 0.7757059\ttest: 0.7695562\tbest: 0.7699011 (399)\ttotal: 40s\tremaining: 2h 45m 22s\n",
      "Stopped by overfitting detector  (100 iterations wait)\n",
      "\n",
      "bestTest = 0.7718735411\n",
      "bestIteration = 477\n",
      "\n",
      "Shrink model to first 478 iterations.\n",
      "0:\tlearn: 0.6773429\ttest: 0.6874029\tbest: 0.6874029 (0)\ttotal: 66.5ms\tremaining: 1h 50m 47s\n",
      "200:\tlearn: 0.7474784\ttest: 0.7765476\tbest: 0.7765476 (200)\ttotal: 21.2s\tremaining: 2h 55m 46s\n",
      "400:\tlearn: 0.7721174\ttest: 0.7895382\tbest: 0.7895382 (400)\ttotal: 42.8s\tremaining: 2h 56m 58s\n",
      "600:\tlearn: 0.7939233\ttest: 0.7961077\tbest: 0.7976748 (591)\ttotal: 1m 4s\tremaining: 2h 57m 37s\n",
      "800:\tlearn: 0.8072837\ttest: 0.8039926\tbest: 0.8042187 (796)\ttotal: 1m 28s\tremaining: 3h 1m 58s\n",
      "1000:\tlearn: 0.8161901\ttest: 0.8013972\tbest: 0.8092618 (913)\ttotal: 1m 48s\tremaining: 2h 59m 17s\n"
     ]
    },
    {
     "name": "stderr",
     "output_type": "stream",
     "text": [
      "\u001b[32m[I 2022-09-17 21:35:26,227]\u001b[0m Trial 19 finished with value: 0.7913351791100333 and parameters: {'depth': 7, 'learning_rate': 0.0068024972875966455, 'auto_class_weights': 'Balanced'}. Best is trial 16 with value: 0.7950571123673523.\u001b[0m\n"
     ]
    },
    {
     "name": "stdout",
     "output_type": "stream",
     "text": [
      "Stopped by overfitting detector  (100 iterations wait)\n",
      "\n",
      "bestTest = 0.8092618083\n",
      "bestIteration = 913\n",
      "\n",
      "Shrink model to first 914 iterations.\n",
      "F Score of CatBoost = 0.7913351791100333\n"
     ]
    },
    {
     "name": "stderr",
     "output_type": "stream",
     "text": [
      "C:\\Users\\yanbe\\AppData\\Local\\Temp\\ipykernel_30352\\448085076.py:26: FutureWarning: suggest_loguniform has been deprecated in v3.0.0. This feature will be removed in v6.0.0. See https://github.com/optuna/optuna/releases/tag/v3.0.0. Use :func:`~optuna.trial.Trial.suggest_float` instead.\n",
      "  'learning_rate' :trial.suggest_loguniform('learning_rate', 1e-4, 1e-2),\n"
     ]
    },
    {
     "name": "stdout",
     "output_type": "stream",
     "text": [
      "0:\tlearn: 0.6900575\ttest: 0.6922070\tbest: 0.6922070 (0)\ttotal: 124ms\tremaining: 3h 26m 56s\n",
      "200:\tlearn: 0.7435919\ttest: 0.7527300\tbest: 0.7540310 (195)\ttotal: 24.1s\tremaining: 3h 19m 2s\n",
      "400:\tlearn: 0.7611409\ttest: 0.7728360\tbest: 0.7737280 (393)\ttotal: 52.4s\tremaining: 3h 36m 49s\n",
      "600:\tlearn: 0.7736750\ttest: 0.7806709\tbest: 0.7817884 (502)\ttotal: 1m 19s\tremaining: 3h 38m 46s\n",
      "Stopped by overfitting detector  (100 iterations wait)\n",
      "\n",
      "bestTest = 0.7817883761\n",
      "bestIteration = 502\n",
      "\n",
      "Shrink model to first 503 iterations.\n",
      "0:\tlearn: 0.6941054\ttest: 0.6652423\tbest: 0.6652423 (0)\ttotal: 127ms\tremaining: 3h 32m 23s\n",
      "200:\tlearn: 0.7442159\ttest: 0.7379871\tbest: 0.7383598 (186)\ttotal: 22s\tremaining: 3h 2m 26s\n",
      "400:\tlearn: 0.7567880\ttest: 0.7494163\tbest: 0.7494163 (400)\ttotal: 45.9s\tremaining: 3h 10m 5s\n",
      "600:\tlearn: 0.7710981\ttest: 0.7613260\tbest: 0.7613260 (599)\ttotal: 1m 11s\tremaining: 3h 16m 41s\n",
      "800:\tlearn: 0.7844843\ttest: 0.7698935\tbest: 0.7723931 (768)\ttotal: 1m 37s\tremaining: 3h 21m 20s\n",
      "Stopped by overfitting detector  (100 iterations wait)\n",
      "\n",
      "bestTest = 0.7723930694\n",
      "bestIteration = 768\n",
      "\n",
      "Shrink model to first 769 iterations.\n",
      "0:\tlearn: 0.6773429\ttest: 0.6874029\tbest: 0.6874029 (0)\ttotal: 69.5ms\tremaining: 1h 55m 50s\n",
      "200:\tlearn: 0.7413310\ttest: 0.7650092\tbest: 0.7650092 (197)\ttotal: 23.9s\tremaining: 3h 17m 41s\n",
      "400:\tlearn: 0.7563737\ttest: 0.7774335\tbest: 0.7774335 (400)\ttotal: 49s\tremaining: 3h 22m 53s\n",
      "600:\tlearn: 0.7656506\ttest: 0.7830030\tbest: 0.7835423 (504)\ttotal: 1m 14s\tremaining: 3h 24m 47s\n"
     ]
    },
    {
     "name": "stderr",
     "output_type": "stream",
     "text": [
      "\u001b[32m[I 2022-09-17 21:39:48,716]\u001b[0m Trial 20 finished with value: 0.779241249341156 and parameters: {'depth': 8, 'learning_rate': 0.0032829708549707137, 'auto_class_weights': 'Balanced'}. Best is trial 16 with value: 0.7950571123673523.\u001b[0m\n"
     ]
    },
    {
     "name": "stdout",
     "output_type": "stream",
     "text": [
      "Stopped by overfitting detector  (100 iterations wait)\n",
      "\n",
      "bestTest = 0.7835423025\n",
      "bestIteration = 504\n",
      "\n",
      "Shrink model to first 505 iterations.\n",
      "F Score of CatBoost = 0.779241249341156\n"
     ]
    },
    {
     "name": "stderr",
     "output_type": "stream",
     "text": [
      "C:\\Users\\yanbe\\AppData\\Local\\Temp\\ipykernel_30352\\448085076.py:26: FutureWarning: suggest_loguniform has been deprecated in v3.0.0. This feature will be removed in v6.0.0. See https://github.com/optuna/optuna/releases/tag/v3.0.0. Use :func:`~optuna.trial.Trial.suggest_float` instead.\n",
      "  'learning_rate' :trial.suggest_loguniform('learning_rate', 1e-4, 1e-2),\n"
     ]
    },
    {
     "name": "stdout",
     "output_type": "stream",
     "text": [
      "0:\tlearn: 0.6900575\ttest: 0.6922070\tbest: 0.6922070 (0)\ttotal: 117ms\tremaining: 3h 15m 40s\n",
      "200:\tlearn: 0.7554326\ttest: 0.7656148\tbest: 0.7660976 (196)\ttotal: 23.1s\tremaining: 3h 11m 21s\n",
      "400:\tlearn: 0.7803842\ttest: 0.7829172\tbest: 0.7829172 (398)\ttotal: 48.8s\tremaining: 3h 22m 6s\n",
      "600:\tlearn: 0.7996132\ttest: 0.7931291\tbest: 0.7931291 (599)\ttotal: 1m 17s\tremaining: 3h 33m 43s\n",
      "Stopped by overfitting detector  (100 iterations wait)\n",
      "\n",
      "bestTest = 0.795077084\n",
      "bestIteration = 655\n",
      "\n",
      "Shrink model to first 656 iterations.\n",
      "0:\tlearn: 0.6941054\ttest: 0.6652423\tbest: 0.6652423 (0)\ttotal: 124ms\tremaining: 3h 27m 27s\n",
      "200:\tlearn: 0.7544601\ttest: 0.7508052\tbest: 0.7513749 (193)\ttotal: 23.7s\tremaining: 3h 15m 45s\n",
      "400:\tlearn: 0.7825000\ttest: 0.7689052\tbest: 0.7689052 (385)\ttotal: 49.4s\tremaining: 3h 24m 24s\n",
      "600:\tlearn: 0.8014722\ttest: 0.7723681\tbest: 0.7755119 (547)\ttotal: 1m 15s\tremaining: 3h 27m 16s\n",
      "Stopped by overfitting detector  (100 iterations wait)\n",
      "\n",
      "bestTest = 0.7755118785\n",
      "bestIteration = 547\n",
      "\n",
      "Shrink model to first 548 iterations.\n",
      "0:\tlearn: 0.6773429\ttest: 0.6874029\tbest: 0.6874029 (0)\ttotal: 67.7ms\tremaining: 1h 52m 46s\n",
      "200:\tlearn: 0.7499505\ttest: 0.7738231\tbest: 0.7738231 (200)\ttotal: 24.6s\tremaining: 3h 23m 42s\n",
      "400:\tlearn: 0.7723118\ttest: 0.7882477\tbest: 0.7897998 (384)\ttotal: 50.4s\tremaining: 3h 28m 26s\n",
      "600:\tlearn: 0.7973803\ttest: 0.7941697\tbest: 0.7960850 (561)\ttotal: 1m 17s\tremaining: 3h 32m 31s\n",
      "800:\tlearn: 0.8147243\ttest: 0.7989291\tbest: 0.8000647 (745)\ttotal: 1m 43s\tremaining: 3h 34m 16s\n"
     ]
    },
    {
     "name": "stderr",
     "output_type": "stream",
     "text": [
      "\u001b[32m[I 2022-09-17 21:44:50,864]\u001b[0m Trial 21 finished with value: 0.7902908260238249 and parameters: {'depth': 8, 'learning_rate': 0.005968447871273973, 'auto_class_weights': 'Balanced'}. Best is trial 16 with value: 0.7950571123673523.\u001b[0m\n"
     ]
    },
    {
     "name": "stdout",
     "output_type": "stream",
     "text": [
      "Stopped by overfitting detector  (100 iterations wait)\n",
      "\n",
      "bestTest = 0.8002835156\n",
      "bestIteration = 831\n",
      "\n",
      "Shrink model to first 832 iterations.\n",
      "F Score of CatBoost = 0.7902908260238249\n"
     ]
    },
    {
     "name": "stderr",
     "output_type": "stream",
     "text": [
      "C:\\Users\\yanbe\\AppData\\Local\\Temp\\ipykernel_30352\\448085076.py:26: FutureWarning: suggest_loguniform has been deprecated in v3.0.0. This feature will be removed in v6.0.0. See https://github.com/optuna/optuna/releases/tag/v3.0.0. Use :func:`~optuna.trial.Trial.suggest_float` instead.\n",
      "  'learning_rate' :trial.suggest_loguniform('learning_rate', 1e-4, 1e-2),\n"
     ]
    },
    {
     "name": "stdout",
     "output_type": "stream",
     "text": [
      "0:\tlearn: 0.6900575\ttest: 0.6922070\tbest: 0.6922070 (0)\ttotal: 115ms\tremaining: 3h 11m 36s\n",
      "200:\tlearn: 0.7388486\ttest: 0.7501180\tbest: 0.7502769 (193)\ttotal: 23.1s\tremaining: 3h 11m 6s\n",
      "400:\tlearn: 0.7572470\ttest: 0.7689590\tbest: 0.7689590 (387)\ttotal: 46.6s\tremaining: 3h 12m 55s\n",
      "600:\tlearn: 0.7705148\ttest: 0.7800018\tbest: 0.7802400 (598)\ttotal: 1m 12s\tremaining: 3h 18m 45s\n",
      "800:\tlearn: 0.7841417\ttest: 0.7840378\tbest: 0.7847627 (753)\ttotal: 1m 39s\tremaining: 3h 24m 54s\n",
      "Stopped by overfitting detector  (100 iterations wait)\n",
      "\n",
      "bestTest = 0.786576959\n",
      "bestIteration = 863\n",
      "\n",
      "Shrink model to first 864 iterations.\n",
      "0:\tlearn: 0.6941054\ttest: 0.6652423\tbest: 0.6652423 (0)\ttotal: 125ms\tremaining: 3h 28m 36s\n",
      "200:\tlearn: 0.7291713\ttest: 0.7379246\tbest: 0.7406112 (185)\ttotal: 22.8s\tremaining: 3h 8m 22s\n",
      "400:\tlearn: 0.7488729\ttest: 0.7469468\tbest: 0.7494242 (322)\ttotal: 46.7s\tremaining: 3h 13m 23s\n",
      "Stopped by overfitting detector  (100 iterations wait)\n",
      "\n",
      "bestTest = 0.7494242155\n",
      "bestIteration = 322\n",
      "\n",
      "Shrink model to first 323 iterations.\n",
      "0:\tlearn: 0.6773429\ttest: 0.6874029\tbest: 0.6874029 (0)\ttotal: 67.6ms\tremaining: 1h 52m 38s\n",
      "200:\tlearn: 0.7389837\ttest: 0.7666930\tbest: 0.7674022 (193)\ttotal: 23.4s\tremaining: 3h 13m 57s\n",
      "400:\tlearn: 0.7516158\ttest: 0.7772271\tbest: 0.7776934 (396)\ttotal: 47.3s\tremaining: 3h 15m 53s\n",
      "600:\tlearn: 0.7647397\ttest: 0.7869032\tbest: 0.7869032 (595)\ttotal: 1m 11s\tremaining: 3h 18m 14s\n",
      "800:\tlearn: 0.7768537\ttest: 0.7903603\tbest: 0.7903603 (793)\ttotal: 1m 37s\tremaining: 3h 20m 37s\n",
      "1000:\tlearn: 0.7899908\ttest: 0.7947222\tbest: 0.7950612 (950)\ttotal: 2m 3s\tremaining: 3h 24m 2s\n"
     ]
    },
    {
     "name": "stderr",
     "output_type": "stream",
     "text": [
      "\u001b[32m[I 2022-09-17 21:50:12,490]\u001b[0m Trial 22 finished with value: 0.7786023515306336 and parameters: {'depth': 8, 'learning_rate': 0.003075594397936272, 'auto_class_weights': 'Balanced'}. Best is trial 16 with value: 0.7950571123673523.\u001b[0m\n"
     ]
    },
    {
     "name": "stdout",
     "output_type": "stream",
     "text": [
      "Stopped by overfitting detector  (100 iterations wait)\n",
      "\n",
      "bestTest = 0.7998058801\n",
      "bestIteration = 1099\n",
      "\n",
      "Shrink model to first 1100 iterations.\n",
      "F Score of CatBoost = 0.7786023515306336\n"
     ]
    },
    {
     "name": "stderr",
     "output_type": "stream",
     "text": [
      "C:\\Users\\yanbe\\AppData\\Local\\Temp\\ipykernel_30352\\448085076.py:26: FutureWarning: suggest_loguniform has been deprecated in v3.0.0. This feature will be removed in v6.0.0. See https://github.com/optuna/optuna/releases/tag/v3.0.0. Use :func:`~optuna.trial.Trial.suggest_float` instead.\n",
      "  'learning_rate' :trial.suggest_loguniform('learning_rate', 1e-4, 1e-2),\n"
     ]
    },
    {
     "name": "stdout",
     "output_type": "stream",
     "text": [
      "0:\tlearn: 0.6900575\ttest: 0.6922070\tbest: 0.6922070 (0)\ttotal: 113ms\tremaining: 3h 7m 53s\n",
      "200:\tlearn: 0.7593877\ttest: 0.7740124\tbest: 0.7740124 (200)\ttotal: 24.6s\tremaining: 3h 23m 44s\n",
      "400:\tlearn: 0.7856954\ttest: 0.7849811\tbest: 0.7849811 (400)\ttotal: 49.7s\tremaining: 3h 25m 53s\n",
      "600:\tlearn: 0.8003523\ttest: 0.7918955\tbest: 0.7953158 (530)\ttotal: 1m 15s\tremaining: 3h 29m 24s\n",
      "Stopped by overfitting detector  (100 iterations wait)\n",
      "\n",
      "bestTest = 0.7953157526\n",
      "bestIteration = 530\n",
      "\n",
      "Shrink model to first 531 iterations.\n",
      "0:\tlearn: 0.6941054\ttest: 0.6652423\tbest: 0.6652423 (0)\ttotal: 125ms\tremaining: 3h 27m 50s\n",
      "200:\tlearn: 0.7552986\ttest: 0.7502561\tbest: 0.7502561 (200)\ttotal: 23s\tremaining: 3h 10m 35s\n",
      "400:\tlearn: 0.7794530\ttest: 0.7691031\tbest: 0.7691042 (398)\ttotal: 48.2s\tremaining: 3h 19m 22s\n",
      "600:\tlearn: 0.8027346\ttest: 0.7761865\tbest: 0.7782970 (539)\ttotal: 1m 14s\tremaining: 3h 25m 28s\n",
      "Stopped by overfitting detector  (100 iterations wait)\n",
      "\n",
      "bestTest = 0.7782970227\n",
      "bestIteration = 539\n",
      "\n",
      "Shrink model to first 540 iterations.\n",
      "0:\tlearn: 0.6773429\ttest: 0.6874029\tbest: 0.6874029 (0)\ttotal: 69ms\tremaining: 1h 55m 4s\n",
      "200:\tlearn: 0.7507538\ttest: 0.7750115\tbest: 0.7772524 (189)\ttotal: 24.2s\tremaining: 3h 19m 58s\n",
      "400:\tlearn: 0.7761198\ttest: 0.7919791\tbest: 0.7919791 (397)\ttotal: 49.7s\tremaining: 3h 25m 37s\n",
      "600:\tlearn: 0.8011140\ttest: 0.7952093\tbest: 0.7952093 (594)\ttotal: 1m 16s\tremaining: 3h 29m 46s\n"
     ]
    },
    {
     "name": "stderr",
     "output_type": "stream",
     "text": [
      "\u001b[32m[I 2022-09-17 21:54:24,963]\u001b[0m Trial 23 finished with value: 0.7899852861699995 and parameters: {'depth': 8, 'learning_rate': 0.00626860039948379, 'auto_class_weights': 'Balanced'}. Best is trial 16 with value: 0.7950571123673523.\u001b[0m\n"
     ]
    },
    {
     "name": "stdout",
     "output_type": "stream",
     "text": [
      "Stopped by overfitting detector  (100 iterations wait)\n",
      "\n",
      "bestTest = 0.7963430833\n",
      "bestIteration = 619\n",
      "\n",
      "Shrink model to first 620 iterations.\n",
      "F Score of CatBoost = 0.7899852861699995\n"
     ]
    },
    {
     "name": "stderr",
     "output_type": "stream",
     "text": [
      "C:\\Users\\yanbe\\AppData\\Local\\Temp\\ipykernel_30352\\448085076.py:26: FutureWarning: suggest_loguniform has been deprecated in v3.0.0. This feature will be removed in v6.0.0. See https://github.com/optuna/optuna/releases/tag/v3.0.0. Use :func:`~optuna.trial.Trial.suggest_float` instead.\n",
      "  'learning_rate' :trial.suggest_loguniform('learning_rate', 1e-4, 1e-2),\n"
     ]
    },
    {
     "name": "stdout",
     "output_type": "stream",
     "text": [
      "0:\tlearn: 0.6860018\ttest: 0.6910257\tbest: 0.6910257 (0)\ttotal: 81.3ms\tremaining: 2h 15m 33s\n",
      "200:\tlearn: 0.7627258\ttest: 0.7750005\tbest: 0.7782678 (195)\ttotal: 18s\tremaining: 2h 28m 49s\n",
      "400:\tlearn: 0.7853677\ttest: 0.7855919\tbest: 0.7887856 (358)\ttotal: 37.7s\tremaining: 2h 35m 59s\n",
      "Stopped by overfitting detector  (100 iterations wait)\n",
      "\n",
      "bestTest = 0.7887855791\n",
      "bestIteration = 358\n",
      "\n",
      "Shrink model to first 359 iterations.\n",
      "0:\tlearn: 0.6894447\ttest: 0.6681740\tbest: 0.6681740 (0)\ttotal: 83.9ms\tremaining: 2h 19m 50s\n",
      "200:\tlearn: 0.7635346\ttest: 0.7578313\tbest: 0.7580706 (199)\ttotal: 19.2s\tremaining: 2h 38m 37s\n",
      "400:\tlearn: 0.7898021\ttest: 0.7703287\tbest: 0.7713830 (380)\ttotal: 39.1s\tremaining: 2h 42m 2s\n",
      "600:\tlearn: 0.8097230\ttest: 0.7778387\tbest: 0.7778387 (597)\ttotal: 59.2s\tremaining: 2h 43m 5s\n",
      "800:\tlearn: 0.8294805\ttest: 0.7813227\tbest: 0.7817766 (794)\ttotal: 1m 18s\tremaining: 2h 41m 51s\n",
      "Stopped by overfitting detector  (100 iterations wait)\n",
      "\n",
      "bestTest = 0.7825750177\n",
      "bestIteration = 833\n",
      "\n",
      "Shrink model to first 834 iterations.\n",
      "0:\tlearn: 0.6773429\ttest: 0.6874029\tbest: 0.6874029 (0)\ttotal: 60.2ms\tremaining: 1h 40m 21s\n",
      "200:\tlearn: 0.7539051\ttest: 0.7806482\tbest: 0.7811136 (199)\ttotal: 19.2s\tremaining: 2h 39m 1s\n",
      "400:\tlearn: 0.7868363\ttest: 0.7962257\tbest: 0.7962257 (400)\ttotal: 39.1s\tremaining: 2h 41m 54s\n",
      "600:\tlearn: 0.8061624\ttest: 0.7975859\tbest: 0.8011880 (591)\ttotal: 58.5s\tremaining: 2h 41m 13s\n"
     ]
    },
    {
     "name": "stderr",
     "output_type": "stream",
     "text": [
      "\u001b[32m[I 2022-09-17 21:57:48,665]\u001b[0m Trial 24 finished with value: 0.7908495375250079 and parameters: {'depth': 7, 'learning_rate': 0.008885074934140268, 'auto_class_weights': 'Balanced'}. Best is trial 16 with value: 0.7950571123673523.\u001b[0m\n"
     ]
    },
    {
     "name": "stdout",
     "output_type": "stream",
     "text": [
      "Stopped by overfitting detector  (100 iterations wait)\n",
      "\n",
      "bestTest = 0.8011880158\n",
      "bestIteration = 591\n",
      "\n",
      "Shrink model to first 592 iterations.\n",
      "F Score of CatBoost = 0.7908495375250079\n"
     ]
    },
    {
     "name": "stderr",
     "output_type": "stream",
     "text": [
      "C:\\Users\\yanbe\\AppData\\Local\\Temp\\ipykernel_30352\\448085076.py:26: FutureWarning: suggest_loguniform has been deprecated in v3.0.0. This feature will be removed in v6.0.0. See https://github.com/optuna/optuna/releases/tag/v3.0.0. Use :func:`~optuna.trial.Trial.suggest_float` instead.\n",
      "  'learning_rate' :trial.suggest_loguniform('learning_rate', 1e-4, 1e-2),\n"
     ]
    },
    {
     "name": "stdout",
     "output_type": "stream",
     "text": [
      "0:\tlearn: 0.6900575\ttest: 0.6922070\tbest: 0.6922070 (0)\ttotal: 112ms\tremaining: 3h 7m\n",
      "200:\tlearn: 0.7435678\ttest: 0.7532634\tbest: 0.7532669 (199)\ttotal: 23s\tremaining: 3h 10m 29s\n",
      "400:\tlearn: 0.7600456\ttest: 0.7764994\tbest: 0.7764994 (400)\ttotal: 47s\tremaining: 3h 14m 25s\n",
      "600:\tlearn: 0.7735425\ttest: 0.7769213\tbest: 0.7801564 (540)\ttotal: 1m 12s\tremaining: 3h 18m 34s\n",
      "Stopped by overfitting detector  (100 iterations wait)\n",
      "\n",
      "bestTest = 0.7801564277\n",
      "bestIteration = 540\n",
      "\n",
      "Shrink model to first 541 iterations.\n",
      "0:\tlearn: 0.6941054\ttest: 0.6652423\tbest: 0.6652423 (0)\ttotal: 121ms\tremaining: 3h 22m 22s\n",
      "200:\tlearn: 0.7335045\ttest: 0.7444569\tbest: 0.7444569 (200)\ttotal: 23.9s\tremaining: 3h 17m 54s\n",
      "400:\tlearn: 0.7548480\ttest: 0.7526826\tbest: 0.7526826 (400)\ttotal: 48.5s\tremaining: 3h 20m 38s\n",
      "600:\tlearn: 0.7699459\ttest: 0.7628467\tbest: 0.7628467 (593)\ttotal: 1m 14s\tremaining: 3h 24m 44s\n",
      "800:\tlearn: 0.7845218\ttest: 0.7690951\tbest: 0.7700415 (782)\ttotal: 1m 40s\tremaining: 3h 26m 39s\n",
      "1000:\tlearn: 0.7949030\ttest: 0.7695742\tbest: 0.7736413 (937)\ttotal: 2m 6s\tremaining: 3h 28m 45s\n",
      "Stopped by overfitting detector  (100 iterations wait)\n",
      "\n",
      "bestTest = 0.7736412513\n",
      "bestIteration = 937\n",
      "\n",
      "Shrink model to first 938 iterations.\n",
      "0:\tlearn: 0.6773429\ttest: 0.6874029\tbest: 0.6874029 (0)\ttotal: 66.2ms\tremaining: 1h 50m 16s\n",
      "200:\tlearn: 0.7385412\ttest: 0.7646750\tbest: 0.7647836 (197)\ttotal: 25.5s\tremaining: 3h 30m 40s\n",
      "400:\tlearn: 0.7541142\ttest: 0.7766715\tbest: 0.7766715 (400)\ttotal: 50.1s\tremaining: 3h 27m 26s\n",
      "600:\tlearn: 0.7642161\ttest: 0.7865629\tbest: 0.7865629 (600)\ttotal: 1m 15s\tremaining: 3h 28m 51s\n",
      "800:\tlearn: 0.7833750\ttest: 0.7915790\tbest: 0.7920383 (795)\ttotal: 1m 42s\tremaining: 3h 30m 33s\n",
      "1000:\tlearn: 0.7920509\ttest: 0.8009717\tbest: 0.8010823 (985)\ttotal: 2m 8s\tremaining: 3h 31m 42s\n",
      "1200:\tlearn: 0.8020144\ttest: 0.8002727\tbest: 0.8034964 (1118)\ttotal: 2m 34s\tremaining: 3h 31m 51s\n"
     ]
    },
    {
     "name": "stderr",
     "output_type": "stream",
     "text": [
      "\u001b[32m[I 2022-09-17 22:03:55,917]\u001b[0m Trial 25 finished with value: 0.7857646806293687 and parameters: {'depth': 8, 'learning_rate': 0.0031997686848238794, 'auto_class_weights': 'Balanced'}. Best is trial 16 with value: 0.7950571123673523.\u001b[0m\n"
     ]
    },
    {
     "name": "stdout",
     "output_type": "stream",
     "text": [
      "Stopped by overfitting detector  (100 iterations wait)\n",
      "\n",
      "bestTest = 0.8034963628\n",
      "bestIteration = 1118\n",
      "\n",
      "Shrink model to first 1119 iterations.\n",
      "F Score of CatBoost = 0.7857646806293687\n"
     ]
    },
    {
     "name": "stderr",
     "output_type": "stream",
     "text": [
      "C:\\Users\\yanbe\\AppData\\Local\\Temp\\ipykernel_30352\\448085076.py:26: FutureWarning: suggest_loguniform has been deprecated in v3.0.0. This feature will be removed in v6.0.0. See https://github.com/optuna/optuna/releases/tag/v3.0.0. Use :func:`~optuna.trial.Trial.suggest_float` instead.\n",
      "  'learning_rate' :trial.suggest_loguniform('learning_rate', 1e-4, 1e-2),\n"
     ]
    },
    {
     "name": "stdout",
     "output_type": "stream",
     "text": [
      "0:\tlearn: 0.6900575\ttest: 0.6922070\tbest: 0.6922070 (0)\ttotal: 109ms\tremaining: 3h 1m 29s\n",
      "200:\tlearn: 0.7499294\ttest: 0.7729640\tbest: 0.7733338 (192)\ttotal: 23.8s\tremaining: 3h 16m 40s\n",
      "400:\tlearn: 0.7780989\ttest: 0.7818086\tbest: 0.7852245 (375)\ttotal: 48.8s\tremaining: 3h 21m 48s\n",
      "600:\tlearn: 0.7951483\ttest: 0.7885929\tbest: 0.7905021 (552)\ttotal: 1m 15s\tremaining: 3h 28m 35s\n",
      "Stopped by overfitting detector  (100 iterations wait)\n",
      "\n",
      "bestTest = 0.7905021068\n",
      "bestIteration = 552\n",
      "\n",
      "Shrink model to first 553 iterations.\n",
      "0:\tlearn: 0.6941054\ttest: 0.6652423\tbest: 0.6652423 (0)\ttotal: 125ms\tremaining: 3h 29m 6s\n",
      "200:\tlearn: 0.7475642\ttest: 0.7473785\tbest: 0.7482895 (185)\ttotal: 23.4s\tremaining: 3h 13m 45s\n",
      "400:\tlearn: 0.7744138\ttest: 0.7634558\tbest: 0.7674329 (372)\ttotal: 48.7s\tremaining: 3h 21m 26s\n",
      "600:\tlearn: 0.7987335\ttest: 0.7746200\tbest: 0.7748519 (599)\ttotal: 1m 15s\tremaining: 3h 26m 49s\n",
      "Stopped by overfitting detector  (100 iterations wait)\n",
      "\n",
      "bestTest = 0.7775077529\n",
      "bestIteration = 659\n",
      "\n",
      "Shrink model to first 660 iterations.\n",
      "0:\tlearn: 0.6773429\ttest: 0.6874029\tbest: 0.6874029 (0)\ttotal: 66.5ms\tremaining: 1h 50m 49s\n",
      "200:\tlearn: 0.7479384\ttest: 0.7713366\tbest: 0.7734441 (193)\ttotal: 23.4s\tremaining: 3h 13m 40s\n",
      "400:\tlearn: 0.7721054\ttest: 0.7898413\tbest: 0.7898413 (395)\ttotal: 49.3s\tremaining: 3h 24m 6s\n",
      "600:\tlearn: 0.7946057\ttest: 0.7971210\tbest: 0.7979912 (522)\ttotal: 1m 19s\tremaining: 3h 38m 55s\n",
      "800:\tlearn: 0.8112145\ttest: 0.7971276\tbest: 0.8033244 (708)\ttotal: 1m 46s\tremaining: 3h 40m 24s\n"
     ]
    },
    {
     "name": "stderr",
     "output_type": "stream",
     "text": [
      "\u001b[32m[I 2022-09-17 22:08:46,698]\u001b[0m Trial 26 finished with value: 0.7904447634582379 and parameters: {'depth': 8, 'learning_rate': 0.005574993440235896, 'auto_class_weights': 'Balanced'}. Best is trial 16 with value: 0.7950571123673523.\u001b[0m\n"
     ]
    },
    {
     "name": "stdout",
     "output_type": "stream",
     "text": [
      "Stopped by overfitting detector  (100 iterations wait)\n",
      "\n",
      "bestTest = 0.8033244307\n",
      "bestIteration = 708\n",
      "\n",
      "Shrink model to first 709 iterations.\n",
      "F Score of CatBoost = 0.7904447634582379\n"
     ]
    },
    {
     "name": "stderr",
     "output_type": "stream",
     "text": [
      "C:\\Users\\yanbe\\AppData\\Local\\Temp\\ipykernel_30352\\448085076.py:26: FutureWarning: suggest_loguniform has been deprecated in v3.0.0. This feature will be removed in v6.0.0. See https://github.com/optuna/optuna/releases/tag/v3.0.0. Use :func:`~optuna.trial.Trial.suggest_float` instead.\n",
      "  'learning_rate' :trial.suggest_loguniform('learning_rate', 1e-4, 1e-2),\n"
     ]
    },
    {
     "name": "stdout",
     "output_type": "stream",
     "text": [
      "0:\tlearn: 0.6860018\ttest: 0.6910257\tbest: 0.6910257 (0)\ttotal: 87.9ms\tremaining: 2h 26m 30s\n",
      "200:\tlearn: 0.7661195\ttest: 0.7763219\tbest: 0.7795725 (194)\ttotal: 18.7s\tremaining: 2h 34m 52s\n",
      "400:\tlearn: 0.7912030\ttest: 0.7882584\tbest: 0.7891072 (379)\ttotal: 38.1s\tremaining: 2h 37m 34s\n",
      "600:\tlearn: 0.8115270\ttest: 0.7929550\tbest: 0.7944009 (579)\ttotal: 57.6s\tremaining: 2h 38m 40s\n",
      "800:\tlearn: 0.8238442\ttest: 0.7964059\tbest: 0.7978769 (797)\ttotal: 1m 17s\tremaining: 2h 40m 13s\n",
      "1000:\tlearn: 0.8462042\ttest: 0.8000133\tbest: 0.8022440 (983)\ttotal: 1m 37s\tremaining: 2h 41m 18s\n",
      "Stopped by overfitting detector  (100 iterations wait)\n",
      "\n",
      "bestTest = 0.8043141975\n",
      "bestIteration = 1055\n",
      "\n",
      "Shrink model to first 1056 iterations.\n",
      "0:\tlearn: 0.6894447\ttest: 0.6681740\tbest: 0.6681740 (0)\ttotal: 83.5ms\tremaining: 2h 19m 12s\n",
      "200:\tlearn: 0.7645916\ttest: 0.7582495\tbest: 0.7605601 (196)\ttotal: 18.9s\tremaining: 2h 36m 19s\n",
      "400:\tlearn: 0.7932265\ttest: 0.7708636\tbest: 0.7710959 (396)\ttotal: 38.6s\tremaining: 2h 39m 49s\n",
      "Stopped by overfitting detector  (100 iterations wait)\n",
      "\n",
      "bestTest = 0.7715603366\n",
      "bestIteration = 403\n",
      "\n",
      "Shrink model to first 404 iterations.\n",
      "0:\tlearn: 0.6773429\ttest: 0.6874029\tbest: 0.6874029 (0)\ttotal: 89.3ms\tremaining: 2h 28m 51s\n",
      "200:\tlearn: 0.7586753\ttest: 0.7839405\tbest: 0.7839405 (200)\ttotal: 18.5s\tremaining: 2h 33m 29s\n",
      "400:\tlearn: 0.7898568\ttest: 0.7955157\tbest: 0.7959710 (397)\ttotal: 39.9s\tremaining: 2h 45m 3s\n",
      "600:\tlearn: 0.8123211\ttest: 0.8017500\tbest: 0.8017500 (596)\ttotal: 1m 4s\tremaining: 2h 58m 21s\n"
     ]
    },
    {
     "name": "stderr",
     "output_type": "stream",
     "text": [
      "\u001b[32m[I 2022-09-17 22:12:48,279]\u001b[0m Trial 27 finished with value: 0.7926553145391723 and parameters: {'depth': 7, 'learning_rate': 0.00989875470216035, 'auto_class_weights': 'Balanced'}. Best is trial 16 with value: 0.7950571123673523.\u001b[0m\n"
     ]
    },
    {
     "name": "stdout",
     "output_type": "stream",
     "text": [
      "Stopped by overfitting detector  (100 iterations wait)\n",
      "\n",
      "bestTest = 0.8020914095\n",
      "bestIteration = 609\n",
      "\n",
      "Shrink model to first 610 iterations.\n",
      "F Score of CatBoost = 0.7926553145391723\n"
     ]
    },
    {
     "name": "stderr",
     "output_type": "stream",
     "text": [
      "C:\\Users\\yanbe\\AppData\\Local\\Temp\\ipykernel_30352\\448085076.py:26: FutureWarning: suggest_loguniform has been deprecated in v3.0.0. This feature will be removed in v6.0.0. See https://github.com/optuna/optuna/releases/tag/v3.0.0. Use :func:`~optuna.trial.Trial.suggest_float` instead.\n",
      "  'learning_rate' :trial.suggest_loguniform('learning_rate', 1e-4, 1e-2),\n"
     ]
    },
    {
     "name": "stdout",
     "output_type": "stream",
     "text": [
      "0:\tlearn: 0.6860018\ttest: 0.6910257\tbest: 0.6910257 (0)\ttotal: 104ms\tremaining: 2h 52m 30s\n",
      "200:\tlearn: 0.7609464\ttest: 0.7787916\tbest: 0.7787916 (200)\ttotal: 23s\tremaining: 3h 10m 15s\n",
      "400:\tlearn: 0.7869834\ttest: 0.7853745\tbest: 0.7875998 (356)\ttotal: 49s\tremaining: 3h 22m 52s\n",
      "Stopped by overfitting detector  (100 iterations wait)\n",
      "\n",
      "bestTest = 0.7887510082\n",
      "bestIteration = 491\n",
      "\n",
      "Shrink model to first 492 iterations.\n",
      "0:\tlearn: 0.6894447\ttest: 0.6681740\tbest: 0.6681740 (0)\ttotal: 120ms\tremaining: 3h 19m 32s\n",
      "200:\tlearn: 0.7604840\ttest: 0.7566989\tbest: 0.7566989 (200)\ttotal: 21.8s\tremaining: 3h 3s\n",
      "400:\tlearn: 0.7901900\ttest: 0.7689775\tbest: 0.7689775 (400)\ttotal: 45.8s\tremaining: 3h 9m 27s\n",
      "600:\tlearn: 0.8142062\ttest: 0.7759746\tbest: 0.7760841 (585)\ttotal: 1m 8s\tremaining: 3h 8m 18s\n",
      "Stopped by overfitting detector  (100 iterations wait)\n",
      "\n",
      "bestTest = 0.778029818\n",
      "bestIteration = 690\n",
      "\n",
      "Shrink model to first 691 iterations.\n",
      "0:\tlearn: 0.6773429\ttest: 0.6874029\tbest: 0.6874029 (0)\ttotal: 67.7ms\tremaining: 1h 52m 50s\n",
      "200:\tlearn: 0.7558597\ttest: 0.7836550\tbest: 0.7836550 (200)\ttotal: 21s\tremaining: 2h 53m 57s\n",
      "400:\tlearn: 0.7863795\ttest: 0.7986103\tbest: 0.8001652 (386)\ttotal: 43.1s\tremaining: 2h 58m 30s\n",
      "600:\tlearn: 0.8065057\ttest: 0.8010776\tbest: 0.8060786 (521)\ttotal: 1m 4s\tremaining: 2h 58m 52s\n"
     ]
    },
    {
     "name": "stderr",
     "output_type": "stream",
     "text": [
      "\u001b[32m[I 2022-09-17 22:16:38,309]\u001b[0m Trial 28 finished with value: 0.7909531258439162 and parameters: {'depth': 7, 'learning_rate': 0.009203255060473184, 'auto_class_weights': 'Balanced'}. Best is trial 16 with value: 0.7950571123673523.\u001b[0m\n"
     ]
    },
    {
     "name": "stdout",
     "output_type": "stream",
     "text": [
      "Stopped by overfitting detector  (100 iterations wait)\n",
      "\n",
      "bestTest = 0.8060785513\n",
      "bestIteration = 521\n",
      "\n",
      "Shrink model to first 522 iterations.\n",
      "F Score of CatBoost = 0.7909531258439162\n"
     ]
    },
    {
     "name": "stderr",
     "output_type": "stream",
     "text": [
      "C:\\Users\\yanbe\\AppData\\Local\\Temp\\ipykernel_30352\\448085076.py:26: FutureWarning: suggest_loguniform has been deprecated in v3.0.0. This feature will be removed in v6.0.0. See https://github.com/optuna/optuna/releases/tag/v3.0.0. Use :func:`~optuna.trial.Trial.suggest_float` instead.\n",
      "  'learning_rate' :trial.suggest_loguniform('learning_rate', 1e-4, 1e-2),\n"
     ]
    },
    {
     "name": "stdout",
     "output_type": "stream",
     "text": [
      "0:\tlearn: 0.6860018\ttest: 0.6910257\tbest: 0.6910257 (0)\ttotal: 111ms\tremaining: 3h 4m 56s\n",
      "Stopped by overfitting detector  (100 iterations wait)\n",
      "\n",
      "bestTest = 0.696255131\n",
      "bestIteration = 23\n",
      "\n",
      "Shrink model to first 24 iterations.\n",
      "0:\tlearn: 0.6894447\ttest: 0.6681740\tbest: 0.6681740 (0)\ttotal: 87.4ms\tremaining: 2h 25m 37s\n",
      "200:\tlearn: 0.7340545\ttest: 0.7221873\tbest: 0.7221873 (200)\ttotal: 22.5s\tremaining: 3h 6m 6s\n",
      "Stopped by overfitting detector  (100 iterations wait)\n",
      "\n",
      "bestTest = 0.7374510738\n",
      "bestIteration = 238\n",
      "\n",
      "Shrink model to first 239 iterations.\n",
      "0:\tlearn: 0.6773429\ttest: 0.6874029\tbest: 0.6874029 (0)\ttotal: 89.3ms\tremaining: 2h 28m 53s\n"
     ]
    },
    {
     "name": "stderr",
     "output_type": "stream",
     "text": [
      "\u001b[32m[I 2022-09-17 22:17:43,021]\u001b[0m Trial 29 finished with value: 0.7087366149790141 and parameters: {'depth': 7, 'learning_rate': 0.0007392067483965633, 'auto_class_weights': 'Balanced'}. Best is trial 16 with value: 0.7950571123673523.\u001b[0m\n"
     ]
    },
    {
     "name": "stdout",
     "output_type": "stream",
     "text": [
      "Stopped by overfitting detector  (100 iterations wait)\n",
      "\n",
      "bestTest = 0.6925036401\n",
      "bestIteration = 3\n",
      "\n",
      "Shrink model to first 4 iterations.\n",
      "F Score of CatBoost = 0.7087366149790141\n"
     ]
    },
    {
     "name": "stderr",
     "output_type": "stream",
     "text": [
      "C:\\Users\\yanbe\\AppData\\Local\\Temp\\ipykernel_30352\\448085076.py:26: FutureWarning: suggest_loguniform has been deprecated in v3.0.0. This feature will be removed in v6.0.0. See https://github.com/optuna/optuna/releases/tag/v3.0.0. Use :func:`~optuna.trial.Trial.suggest_float` instead.\n",
      "  'learning_rate' :trial.suggest_loguniform('learning_rate', 1e-4, 1e-2),\n"
     ]
    },
    {
     "name": "stdout",
     "output_type": "stream",
     "text": [
      "0:\tlearn: 0.6773942\ttest: 0.6869297\tbest: 0.6869297 (0)\ttotal: 95.7ms\tremaining: 2h 39m 31s\n",
      "Stopped by overfitting detector  (100 iterations wait)\n",
      "\n",
      "bestTest = 0.701459483\n",
      "bestIteration = 12\n",
      "\n",
      "Shrink model to first 13 iterations.\n",
      "0:\tlearn: 0.6868410\ttest: 0.6644968\tbest: 0.6644968 (0)\ttotal: 81.7ms\tremaining: 2h 16m 5s\n",
      "Stopped by overfitting detector  (100 iterations wait)\n",
      "\n",
      "bestTest = 0.6708646133\n",
      "bestIteration = 8\n",
      "\n",
      "Shrink model to first 9 iterations.\n",
      "0:\tlearn: 0.6773429\ttest: 0.6874029\tbest: 0.6874029 (0)\ttotal: 78.7ms\tremaining: 2h 11m 6s\n"
     ]
    },
    {
     "name": "stderr",
     "output_type": "stream",
     "text": [
      "\u001b[32m[I 2022-09-17 22:18:20,143]\u001b[0m Trial 30 finished with value: 0.7093713348073397 and parameters: {'depth': 6, 'learning_rate': 0.00010534503687119722, 'auto_class_weights': 'Balanced'}. Best is trial 16 with value: 0.7950571123673523.\u001b[0m\n"
     ]
    },
    {
     "name": "stdout",
     "output_type": "stream",
     "text": [
      "Stopped by overfitting detector  (100 iterations wait)\n",
      "\n",
      "bestTest = 0.7557899081\n",
      "bestIteration = 81\n",
      "\n",
      "Shrink model to first 82 iterations.\n",
      "F Score of CatBoost = 0.7093713348073397\n"
     ]
    },
    {
     "name": "stderr",
     "output_type": "stream",
     "text": [
      "C:\\Users\\yanbe\\AppData\\Local\\Temp\\ipykernel_30352\\448085076.py:26: FutureWarning: suggest_loguniform has been deprecated in v3.0.0. This feature will be removed in v6.0.0. See https://github.com/optuna/optuna/releases/tag/v3.0.0. Use :func:`~optuna.trial.Trial.suggest_float` instead.\n",
      "  'learning_rate' :trial.suggest_loguniform('learning_rate', 1e-4, 1e-2),\n"
     ]
    },
    {
     "name": "stdout",
     "output_type": "stream",
     "text": [
      "0:\tlearn: 0.6860018\ttest: 0.6910257\tbest: 0.6910257 (0)\ttotal: 99ms\tremaining: 2h 45m 3s\n",
      "200:\tlearn: 0.7560223\ttest: 0.7697380\tbest: 0.7697380 (200)\ttotal: 21.4s\tremaining: 2h 56m 41s\n",
      "400:\tlearn: 0.7779465\ttest: 0.7830462\tbest: 0.7849261 (396)\ttotal: 42.6s\tremaining: 2h 56m 13s\n",
      "600:\tlearn: 0.7926317\ttest: 0.7887430\tbest: 0.7913644 (585)\ttotal: 1m 2s\tremaining: 2h 52m 56s\n",
      "800:\tlearn: 0.8081192\ttest: 0.7940483\tbest: 0.7942749 (799)\ttotal: 1m 26s\tremaining: 2h 57m 31s\n",
      "Stopped by overfitting detector  (100 iterations wait)\n",
      "\n",
      "bestTest = 0.7956332607\n",
      "bestIteration = 834\n",
      "\n",
      "Shrink model to first 835 iterations.\n",
      "0:\tlearn: 0.6894447\ttest: 0.6681740\tbest: 0.6681740 (0)\ttotal: 96.1ms\tremaining: 2h 40m 9s\n",
      "200:\tlearn: 0.7548618\ttest: 0.7535205\tbest: 0.7535205 (200)\ttotal: 21s\tremaining: 2h 53m 38s\n",
      "400:\tlearn: 0.7823791\ttest: 0.7739162\tbest: 0.7739162 (398)\ttotal: 44.7s\tremaining: 3h 5m 1s\n",
      "600:\tlearn: 0.8009881\ttest: 0.7768330\tbest: 0.7770640 (592)\ttotal: 1m 7s\tremaining: 3h 7m 25s\n",
      "Stopped by overfitting detector  (100 iterations wait)\n",
      "\n",
      "bestTest = 0.777294946\n",
      "bestIteration = 608\n",
      "\n",
      "Shrink model to first 609 iterations.\n",
      "0:\tlearn: 0.6773429\ttest: 0.6874029\tbest: 0.6874029 (0)\ttotal: 89ms\tremaining: 2h 28m 23s\n",
      "200:\tlearn: 0.7486219\ttest: 0.7772658\tbest: 0.7789133 (196)\ttotal: 19.5s\tremaining: 2h 41m 27s\n",
      "400:\tlearn: 0.7719646\ttest: 0.7920616\tbest: 0.7920616 (400)\ttotal: 40.7s\tremaining: 2h 48m 28s\n",
      "600:\tlearn: 0.7933132\ttest: 0.7944081\tbest: 0.7975047 (515)\ttotal: 1m 1s\tremaining: 2h 49m 22s\n"
     ]
    },
    {
     "name": "stderr",
     "output_type": "stream",
     "text": [
      "\u001b[32m[I 2022-09-17 22:22:25,999]\u001b[0m Trial 31 finished with value: 0.7901442902414404 and parameters: {'depth': 7, 'learning_rate': 0.007137796682625717, 'auto_class_weights': 'Balanced'}. Best is trial 16 with value: 0.7950571123673523.\u001b[0m\n"
     ]
    },
    {
     "name": "stdout",
     "output_type": "stream",
     "text": [
      "Stopped by overfitting detector  (100 iterations wait)\n",
      "\n",
      "bestTest = 0.797504664\n",
      "bestIteration = 515\n",
      "\n",
      "Shrink model to first 516 iterations.\n",
      "F Score of CatBoost = 0.7901442902414404\n"
     ]
    },
    {
     "name": "stderr",
     "output_type": "stream",
     "text": [
      "C:\\Users\\yanbe\\AppData\\Local\\Temp\\ipykernel_30352\\448085076.py:26: FutureWarning: suggest_loguniform has been deprecated in v3.0.0. This feature will be removed in v6.0.0. See https://github.com/optuna/optuna/releases/tag/v3.0.0. Use :func:`~optuna.trial.Trial.suggest_float` instead.\n",
      "  'learning_rate' :trial.suggest_loguniform('learning_rate', 1e-4, 1e-2),\n"
     ]
    },
    {
     "name": "stdout",
     "output_type": "stream",
     "text": [
      "0:\tlearn: 0.6900575\ttest: 0.6922070\tbest: 0.6922070 (0)\ttotal: 120ms\tremaining: 3h 20m 33s\n",
      "200:\tlearn: 0.7433570\ttest: 0.7660591\tbest: 0.7660591 (200)\ttotal: 24.2s\tremaining: 3h 19m 54s\n",
      "400:\tlearn: 0.7651900\ttest: 0.7785135\tbest: 0.7785135 (397)\ttotal: 49.6s\tremaining: 3h 25m 17s\n",
      "600:\tlearn: 0.7825889\ttest: 0.7834831\tbest: 0.7837159 (598)\ttotal: 1m 17s\tremaining: 3h 34m 53s\n",
      "800:\tlearn: 0.7925714\ttest: 0.7897544\tbest: 0.7897544 (799)\ttotal: 1m 45s\tremaining: 3h 37m 39s\n",
      "1000:\tlearn: 0.8071388\ttest: 0.7936072\tbest: 0.7951641 (975)\ttotal: 2m 14s\tremaining: 3h 40m 57s\n",
      "Stopped by overfitting detector  (100 iterations wait)\n",
      "\n",
      "bestTest = 0.7955061286\n",
      "bestIteration = 1006\n",
      "\n",
      "Shrink model to first 1007 iterations.\n",
      "0:\tlearn: 0.6941054\ttest: 0.6652423\tbest: 0.6652423 (0)\ttotal: 131ms\tremaining: 3h 37m 46s\n",
      "200:\tlearn: 0.7483185\ttest: 0.7391932\tbest: 0.7393016 (198)\ttotal: 24.8s\tremaining: 3h 25m 35s\n",
      "400:\tlearn: 0.7648667\ttest: 0.7551192\tbest: 0.7551192 (394)\ttotal: 49.5s\tremaining: 3h 25m 5s\n",
      "600:\tlearn: 0.7820243\ttest: 0.7672337\tbest: 0.7686500 (596)\ttotal: 1m 18s\tremaining: 3h 35m 41s\n",
      "800:\tlearn: 0.7958028\ttest: 0.7713518\tbest: 0.7735201 (745)\ttotal: 1m 47s\tremaining: 3h 41m 49s\n",
      "Stopped by overfitting detector  (100 iterations wait)\n",
      "\n",
      "bestTest = 0.7735200804\n",
      "bestIteration = 745\n",
      "\n",
      "Shrink model to first 746 iterations.\n",
      "0:\tlearn: 0.6773429\ttest: 0.6874029\tbest: 0.6874029 (0)\ttotal: 67.8ms\tremaining: 1h 53m 3s\n",
      "200:\tlearn: 0.7409933\ttest: 0.7665908\tbest: 0.7668293 (197)\ttotal: 24.6s\tremaining: 3h 23m 55s\n",
      "400:\tlearn: 0.7615912\ttest: 0.7823259\tbest: 0.7827261 (375)\ttotal: 51s\tremaining: 3h 31m 15s\n",
      "600:\tlearn: 0.7758793\ttest: 0.7882409\tbest: 0.7884698 (597)\ttotal: 1m 20s\tremaining: 3h 41m 11s\n",
      "800:\tlearn: 0.7938500\ttest: 0.8009470\tbest: 0.8009470 (797)\ttotal: 1m 49s\tremaining: 3h 46m 2s\n"
     ]
    },
    {
     "name": "stderr",
     "output_type": "stream",
     "text": [
      "\u001b[32m[I 2022-09-17 22:29:07,438]\u001b[0m Trial 32 finished with value: 0.7914184308926148 and parameters: {'depth': 8, 'learning_rate': 0.004026852880265301, 'auto_class_weights': 'Balanced'}. Best is trial 16 with value: 0.7950571123673523.\u001b[0m\n"
     ]
    },
    {
     "name": "stdout",
     "output_type": "stream",
     "text": [
      "Stopped by overfitting detector  (100 iterations wait)\n",
      "\n",
      "bestTest = 0.8052290837\n",
      "bestIteration = 882\n",
      "\n",
      "Shrink model to first 883 iterations.\n",
      "F Score of CatBoost = 0.7914184308926148\n"
     ]
    },
    {
     "name": "stderr",
     "output_type": "stream",
     "text": [
      "C:\\Users\\yanbe\\AppData\\Local\\Temp\\ipykernel_30352\\448085076.py:26: FutureWarning: suggest_loguniform has been deprecated in v3.0.0. This feature will be removed in v6.0.0. See https://github.com/optuna/optuna/releases/tag/v3.0.0. Use :func:`~optuna.trial.Trial.suggest_float` instead.\n",
      "  'learning_rate' :trial.suggest_loguniform('learning_rate', 1e-4, 1e-2),\n"
     ]
    },
    {
     "name": "stdout",
     "output_type": "stream",
     "text": [
      "0:\tlearn: 0.6860018\ttest: 0.6910257\tbest: 0.6910257 (0)\ttotal: 95.8ms\tremaining: 2h 39m 43s\n",
      "200:\tlearn: 0.7565271\ttest: 0.7714966\tbest: 0.7720831 (199)\ttotal: 20.4s\tremaining: 2h 48m 37s\n",
      "400:\tlearn: 0.7808686\ttest: 0.7850300\tbest: 0.7866777 (389)\ttotal: 42.8s\tremaining: 2h 57m 18s\n",
      "600:\tlearn: 0.7957858\ttest: 0.7892501\tbest: 0.7920009 (581)\ttotal: 1m 4s\tremaining: 2h 56m 49s\n",
      "Stopped by overfitting detector  (100 iterations wait)\n",
      "\n",
      "bestTest = 0.7920008924\n",
      "bestIteration = 581\n",
      "\n",
      "Shrink model to first 582 iterations.\n",
      "0:\tlearn: 0.6894447\ttest: 0.6681740\tbest: 0.6681740 (0)\ttotal: 106ms\tremaining: 2h 56m 24s\n",
      "200:\tlearn: 0.7546363\ttest: 0.7547192\tbest: 0.7551980 (195)\ttotal: 20.1s\tremaining: 2h 46m 29s\n",
      "400:\tlearn: 0.7856823\ttest: 0.7691034\tbest: 0.7694478 (399)\ttotal: 43.7s\tremaining: 3h 51s\n",
      "600:\tlearn: 0.8050323\ttest: 0.7743521\tbest: 0.7756763 (586)\ttotal: 1m 5s\tremaining: 3h 1m 41s\n",
      "Stopped by overfitting detector  (100 iterations wait)\n",
      "\n",
      "bestTest = 0.7761967806\n",
      "bestIteration = 643\n",
      "\n",
      "Shrink model to first 644 iterations.\n",
      "0:\tlearn: 0.6773429\ttest: 0.6874029\tbest: 0.6874029 (0)\ttotal: 75.3ms\tremaining: 2h 5m 25s\n",
      "200:\tlearn: 0.7505151\ttest: 0.7793852\tbest: 0.7795289 (196)\ttotal: 18.9s\tremaining: 2h 36m 27s\n",
      "400:\tlearn: 0.7741423\ttest: 0.7944811\tbest: 0.7944811 (400)\ttotal: 43.1s\tremaining: 2h 58m 24s\n",
      "600:\tlearn: 0.7959030\ttest: 0.8055373\tbest: 0.8057641 (599)\ttotal: 1m 8s\tremaining: 3h 9m 2s\n",
      "800:\tlearn: 0.8112900\ttest: 0.8073553\tbest: 0.8111373 (716)\ttotal: 1m 33s\tremaining: 3h 12m 46s\n"
     ]
    },
    {
     "name": "stderr",
     "output_type": "stream",
     "text": [
      "\u001b[32m[I 2022-09-17 22:33:17,071]\u001b[0m Trial 33 finished with value: 0.7931116464649853 and parameters: {'depth': 7, 'learning_rate': 0.0073740908144987, 'auto_class_weights': 'Balanced'}. Best is trial 16 with value: 0.7950571123673523.\u001b[0m\n"
     ]
    },
    {
     "name": "stdout",
     "output_type": "stream",
     "text": [
      "Stopped by overfitting detector  (100 iterations wait)\n",
      "\n",
      "bestTest = 0.8111372664\n",
      "bestIteration = 716\n",
      "\n",
      "Shrink model to first 717 iterations.\n",
      "F Score of CatBoost = 0.7931116464649853\n"
     ]
    },
    {
     "name": "stderr",
     "output_type": "stream",
     "text": [
      "C:\\Users\\yanbe\\AppData\\Local\\Temp\\ipykernel_30352\\448085076.py:26: FutureWarning: suggest_loguniform has been deprecated in v3.0.0. This feature will be removed in v6.0.0. See https://github.com/optuna/optuna/releases/tag/v3.0.0. Use :func:`~optuna.trial.Trial.suggest_float` instead.\n",
      "  'learning_rate' :trial.suggest_loguniform('learning_rate', 1e-4, 1e-2),\n"
     ]
    },
    {
     "name": "stdout",
     "output_type": "stream",
     "text": [
      "0:\tlearn: 0.6860018\ttest: 0.6910257\tbest: 0.6910257 (0)\ttotal: 98.9ms\tremaining: 2h 44m 52s\n",
      "200:\tlearn: 0.7559061\ttest: 0.7678886\tbest: 0.7692618 (199)\ttotal: 23.6s\tremaining: 3h 15m 25s\n",
      "400:\tlearn: 0.7796507\ttest: 0.7844590\tbest: 0.7846916 (399)\ttotal: 45.9s\tremaining: 3h 9m 48s\n",
      "Stopped by overfitting detector  (100 iterations wait)\n",
      "\n",
      "bestTest = 0.7874809343\n",
      "bestIteration = 464\n",
      "\n",
      "Shrink model to first 465 iterations.\n",
      "0:\tlearn: 0.6894447\ttest: 0.6681740\tbest: 0.6681740 (0)\ttotal: 110ms\tremaining: 3h 2m 56s\n",
      "200:\tlearn: 0.7550332\ttest: 0.7535205\tbest: 0.7535205 (200)\ttotal: 19.6s\tremaining: 2h 42m 33s\n",
      "400:\tlearn: 0.7816664\ttest: 0.7726029\tbest: 0.7726029 (400)\ttotal: 43.5s\tremaining: 2h 59m 56s\n",
      "600:\tlearn: 0.8044036\ttest: 0.7763162\tbest: 0.7794200 (590)\ttotal: 1m 5s\tremaining: 3h 1m 12s\n",
      "800:\tlearn: 0.8173516\ttest: 0.7834075\tbest: 0.7834075 (788)\ttotal: 1m 28s\tremaining: 3h 2m 11s\n",
      "Stopped by overfitting detector  (100 iterations wait)\n",
      "\n",
      "bestTest = 0.7856843456\n",
      "bestIteration = 887\n",
      "\n",
      "Shrink model to first 888 iterations.\n",
      "0:\tlearn: 0.6773429\ttest: 0.6874029\tbest: 0.6874029 (0)\ttotal: 106ms\tremaining: 2h 56m 40s\n",
      "200:\tlearn: 0.7474836\ttest: 0.7748001\tbest: 0.7785748 (185)\ttotal: 19.2s\tremaining: 2h 38m 58s\n",
      "400:\tlearn: 0.7763346\ttest: 0.7907694\tbest: 0.7907694 (400)\ttotal: 40.3s\tremaining: 2h 47m\n",
      "600:\tlearn: 0.7952166\ttest: 0.7982297\tbest: 0.8015524 (556)\ttotal: 59.7s\tremaining: 2h 44m 30s\n",
      "800:\tlearn: 0.8080281\ttest: 0.8021978\tbest: 0.8053398 (775)\ttotal: 1m 20s\tremaining: 2h 46m 57s\n"
     ]
    },
    {
     "name": "stderr",
     "output_type": "stream",
     "text": [
      "\u001b[32m[I 2022-09-17 22:37:38,306]\u001b[0m Trial 34 finished with value: 0.7928350137593556 and parameters: {'depth': 7, 'learning_rate': 0.007109296514595514, 'auto_class_weights': 'Balanced'}. Best is trial 16 with value: 0.7950571123673523.\u001b[0m\n"
     ]
    },
    {
     "name": "stdout",
     "output_type": "stream",
     "text": [
      "Stopped by overfitting detector  (100 iterations wait)\n",
      "\n",
      "bestTest = 0.8053397614\n",
      "bestIteration = 775\n",
      "\n",
      "Shrink model to first 776 iterations.\n",
      "F Score of CatBoost = 0.7928350137593556\n"
     ]
    },
    {
     "name": "stderr",
     "output_type": "stream",
     "text": [
      "C:\\Users\\yanbe\\AppData\\Local\\Temp\\ipykernel_30352\\448085076.py:26: FutureWarning: suggest_loguniform has been deprecated in v3.0.0. This feature will be removed in v6.0.0. See https://github.com/optuna/optuna/releases/tag/v3.0.0. Use :func:`~optuna.trial.Trial.suggest_float` instead.\n",
      "  'learning_rate' :trial.suggest_loguniform('learning_rate', 1e-4, 1e-2),\n"
     ]
    },
    {
     "name": "stdout",
     "output_type": "stream",
     "text": [
      "0:\tlearn: 0.6831468\ttest: 0.6828962\tbest: 0.6828962 (0)\ttotal: 124ms\tremaining: 3h 25m 52s\n",
      "Stopped by overfitting detector  (100 iterations wait)\n",
      "\n",
      "bestTest = 0.7211920681\n",
      "bestIteration = 6\n",
      "\n",
      "Shrink model to first 7 iterations.\n",
      "0:\tlearn: 0.6966715\ttest: 0.6809486\tbest: 0.6809486 (0)\ttotal: 93.8ms\tremaining: 2h 36m 19s\n",
      "200:\tlearn: 0.7461473\ttest: 0.7104531\tbest: 0.7113009 (193)\ttotal: 20.5s\tremaining: 2h 49m 18s\n",
      "400:\tlearn: 0.7717132\ttest: 0.7614983\tbest: 0.7614983 (400)\ttotal: 39.6s\tremaining: 2h 43m 54s\n",
      "600:\tlearn: 0.7956003\ttest: 0.8003661\tbest: 0.8003661 (600)\ttotal: 58.5s\tremaining: 2h 41m 20s\n",
      "800:\tlearn: 0.8055250\ttest: 0.8067202\tbest: 0.8075388 (783)\ttotal: 1m 18s\tremaining: 2h 42m 41s\n",
      "1000:\tlearn: 0.8127291\ttest: 0.8102873\tbest: 0.8102873 (977)\ttotal: 1m 40s\tremaining: 2h 45m 14s\n",
      "1200:\tlearn: 0.8215941\ttest: 0.8138319\tbest: 0.8138319 (1183)\ttotal: 2m 1s\tremaining: 2h 47m 4s\n",
      "1400:\tlearn: 0.8258427\ttest: 0.8189619\tbest: 0.8189619 (1387)\ttotal: 2m 23s\tremaining: 2h 47m 57s\n",
      "1600:\tlearn: 0.8312003\ttest: 0.8221911\tbest: 0.8221911 (1600)\ttotal: 2m 45s\tremaining: 2h 49m 4s\n",
      "Stopped by overfitting detector  (100 iterations wait)\n",
      "\n",
      "bestTest = 0.8228121415\n",
      "bestIteration = 1662\n",
      "\n",
      "Shrink model to first 1663 iterations.\n",
      "0:\tlearn: 0.7332115\ttest: 0.7149878\tbest: 0.7149878 (0)\ttotal: 87.1ms\tremaining: 2h 25m 12s\n"
     ]
    },
    {
     "name": "stderr",
     "output_type": "stream",
     "text": [
      "\u001b[32m[I 2022-09-17 22:41:03,177]\u001b[0m Trial 35 finished with value: 0.7561869845881283 and parameters: {'depth': 7, 'learning_rate': 0.0026583417456447155, 'auto_class_weights': 'SqrtBalanced'}. Best is trial 16 with value: 0.7950571123673523.\u001b[0m\n"
     ]
    },
    {
     "name": "stdout",
     "output_type": "stream",
     "text": [
      "Stopped by overfitting detector  (100 iterations wait)\n",
      "\n",
      "bestTest = 0.7245567442\n",
      "bestIteration = 1\n",
      "\n",
      "Shrink model to first 2 iterations.\n",
      "F Score of CatBoost = 0.7561869845881283\n"
     ]
    },
    {
     "name": "stderr",
     "output_type": "stream",
     "text": [
      "C:\\Users\\yanbe\\AppData\\Local\\Temp\\ipykernel_30352\\448085076.py:26: FutureWarning: suggest_loguniform has been deprecated in v3.0.0. This feature will be removed in v6.0.0. See https://github.com/optuna/optuna/releases/tag/v3.0.0. Use :func:`~optuna.trial.Trial.suggest_float` instead.\n",
      "  'learning_rate' :trial.suggest_loguniform('learning_rate', 1e-4, 1e-2),\n"
     ]
    },
    {
     "name": "stdout",
     "output_type": "stream",
     "text": [
      "0:\tlearn: 0.6773942\ttest: 0.6869297\tbest: 0.6869297 (0)\ttotal: 109ms\tremaining: 3h 50s\n",
      "200:\tlearn: 0.7139471\ttest: 0.7499026\tbest: 0.7512039 (189)\ttotal: 14.2s\tremaining: 1h 57m 49s\n",
      "Stopped by overfitting detector  (100 iterations wait)\n",
      "\n",
      "bestTest = 0.751203852\n",
      "bestIteration = 189\n",
      "\n",
      "Shrink model to first 190 iterations.\n",
      "0:\tlearn: 0.6868410\ttest: 0.6644968\tbest: 0.6644968 (0)\ttotal: 94.8ms\tremaining: 2h 37m 58s\n",
      "Stopped by overfitting detector  (100 iterations wait)\n",
      "\n",
      "bestTest = 0.6710775984\n",
      "bestIteration = 8\n",
      "\n",
      "Shrink model to first 9 iterations.\n",
      "0:\tlearn: 0.6773429\ttest: 0.6874029\tbest: 0.6874029 (0)\ttotal: 89.1ms\tremaining: 2h 28m 32s\n"
     ]
    },
    {
     "name": "stderr",
     "output_type": "stream",
     "text": [
      "\u001b[32m[I 2022-09-17 22:41:40,685]\u001b[0m Trial 36 finished with value: 0.7060100173202816 and parameters: {'depth': 6, 'learning_rate': 0.0014275796623818308, 'auto_class_weights': 'Balanced'}. Best is trial 16 with value: 0.7950571123673523.\u001b[0m\n"
     ]
    },
    {
     "name": "stdout",
     "output_type": "stream",
     "text": [
      "Stopped by overfitting detector  (100 iterations wait)\n",
      "\n",
      "bestTest = 0.6957486016\n",
      "bestIteration = 5\n",
      "\n",
      "Shrink model to first 6 iterations.\n",
      "F Score of CatBoost = 0.7060100173202816\n"
     ]
    },
    {
     "name": "stderr",
     "output_type": "stream",
     "text": [
      "C:\\Users\\yanbe\\AppData\\Local\\Temp\\ipykernel_30352\\448085076.py:26: FutureWarning: suggest_loguniform has been deprecated in v3.0.0. This feature will be removed in v6.0.0. See https://github.com/optuna/optuna/releases/tag/v3.0.0. Use :func:`~optuna.trial.Trial.suggest_float` instead.\n",
      "  'learning_rate' :trial.suggest_loguniform('learning_rate', 1e-4, 1e-2),\n"
     ]
    },
    {
     "name": "stdout",
     "output_type": "stream",
     "text": [
      "0:\tlearn: 0.6831468\ttest: 0.6828962\tbest: 0.6828962 (0)\ttotal: 100ms\tremaining: 2h 47m 7s\n",
      "200:\tlearn: 0.7750032\ttest: 0.7869394\tbest: 0.7869394 (200)\ttotal: 19.6s\tremaining: 2h 41m 48s\n",
      "400:\tlearn: 0.8078784\ttest: 0.8152367\tbest: 0.8152367 (399)\ttotal: 40.3s\tremaining: 2h 46m 58s\n",
      "600:\tlearn: 0.8229415\ttest: 0.8272273\tbest: 0.8274693 (589)\ttotal: 1m 1s\tremaining: 2h 50m 39s\n",
      "800:\tlearn: 0.8333146\ttest: 0.8303726\tbest: 0.8304682 (723)\ttotal: 1m 23s\tremaining: 2h 51m 22s\n",
      "Stopped by overfitting detector  (100 iterations wait)\n",
      "\n",
      "bestTest = 0.8329172341\n",
      "bestIteration = 893\n",
      "\n",
      "Shrink model to first 894 iterations.\n",
      "0:\tlearn: 0.6966715\ttest: 0.6809486\tbest: 0.6809486 (0)\ttotal: 90.4ms\tremaining: 2h 30m 35s\n",
      "200:\tlearn: 0.7978370\ttest: 0.7998356\tbest: 0.7998356 (197)\ttotal: 19.7s\tremaining: 2h 42m 47s\n",
      "400:\tlearn: 0.8212213\ttest: 0.8107337\tbest: 0.8109776 (394)\ttotal: 40.7s\tremaining: 2h 48m 26s\n",
      "600:\tlearn: 0.8341250\ttest: 0.8192566\tbest: 0.8201070 (595)\ttotal: 1m 2s\tremaining: 2h 52m 35s\n",
      "800:\tlearn: 0.8418248\ttest: 0.8221694\tbest: 0.8226162 (751)\ttotal: 1m 24s\tremaining: 2h 53m 32s\n",
      "1000:\tlearn: 0.8500416\ttest: 0.8253347\tbest: 0.8255587 (975)\ttotal: 1m 45s\tremaining: 2h 54m 28s\n",
      "Stopped by overfitting detector  (100 iterations wait)\n",
      "\n",
      "bestTest = 0.8257443494\n",
      "bestIteration = 1014\n",
      "\n",
      "Shrink model to first 1015 iterations.\n",
      "0:\tlearn: 0.7332115\ttest: 0.7149878\tbest: 0.7149878 (0)\ttotal: 83.9ms\tremaining: 2h 19m 48s\n"
     ]
    },
    {
     "name": "stderr",
     "output_type": "stream",
     "text": [
      "\u001b[32m[I 2022-09-17 22:45:34,431]\u001b[0m Trial 37 finished with value: 0.7944061092165424 and parameters: {'depth': 7, 'learning_rate': 0.007569817495081866, 'auto_class_weights': 'SqrtBalanced'}. Best is trial 16 with value: 0.7950571123673523.\u001b[0m\n"
     ]
    },
    {
     "name": "stdout",
     "output_type": "stream",
     "text": [
      "Stopped by overfitting detector  (100 iterations wait)\n",
      "\n",
      "bestTest = 0.7245567442\n",
      "bestIteration = 1\n",
      "\n",
      "Shrink model to first 2 iterations.\n",
      "F Score of CatBoost = 0.7944061092165424\n"
     ]
    },
    {
     "name": "stderr",
     "output_type": "stream",
     "text": [
      "C:\\Users\\yanbe\\AppData\\Local\\Temp\\ipykernel_30352\\448085076.py:26: FutureWarning: suggest_loguniform has been deprecated in v3.0.0. This feature will be removed in v6.0.0. See https://github.com/optuna/optuna/releases/tag/v3.0.0. Use :func:`~optuna.trial.Trial.suggest_float` instead.\n",
      "  'learning_rate' :trial.suggest_loguniform('learning_rate', 1e-4, 1e-2),\n"
     ]
    },
    {
     "name": "stdout",
     "output_type": "stream",
     "text": [
      "0:\tlearn: 0.6831468\ttest: 0.6828962\tbest: 0.6828962 (0)\ttotal: 102ms\tremaining: 2h 50m 31s\n",
      "Stopped by overfitting detector  (100 iterations wait)\n",
      "\n",
      "bestTest = 0.7215863876\n",
      "bestIteration = 6\n",
      "\n",
      "Shrink model to first 7 iterations.\n",
      "0:\tlearn: 0.6966715\ttest: 0.6809486\tbest: 0.6809486 (0)\ttotal: 88ms\tremaining: 2h 26m 36s\n",
      "Stopped by overfitting detector  (100 iterations wait)\n",
      "\n",
      "bestTest = 0.7046582197\n",
      "bestIteration = 73\n",
      "\n",
      "Shrink model to first 74 iterations.\n",
      "0:\tlearn: 0.7332115\ttest: 0.7149878\tbest: 0.7149878 (0)\ttotal: 85.6ms\tremaining: 2h 22m 42s\n"
     ]
    },
    {
     "name": "stderr",
     "output_type": "stream",
     "text": [
      "\u001b[32m[I 2022-09-17 22:46:13,011]\u001b[0m Trial 38 finished with value: 0.7169337838320335 and parameters: {'depth': 7, 'learning_rate': 0.001649070273382451, 'auto_class_weights': 'SqrtBalanced'}. Best is trial 16 with value: 0.7950571123673523.\u001b[0m\n"
     ]
    },
    {
     "name": "stdout",
     "output_type": "stream",
     "text": [
      "Stopped by overfitting detector  (100 iterations wait)\n",
      "\n",
      "bestTest = 0.7245567442\n",
      "bestIteration = 1\n",
      "\n",
      "Shrink model to first 2 iterations.\n",
      "F Score of CatBoost = 0.7169337838320335\n"
     ]
    },
    {
     "name": "stderr",
     "output_type": "stream",
     "text": [
      "C:\\Users\\yanbe\\AppData\\Local\\Temp\\ipykernel_30352\\448085076.py:26: FutureWarning: suggest_loguniform has been deprecated in v3.0.0. This feature will be removed in v6.0.0. See https://github.com/optuna/optuna/releases/tag/v3.0.0. Use :func:`~optuna.trial.Trial.suggest_float` instead.\n",
      "  'learning_rate' :trial.suggest_loguniform('learning_rate', 1e-4, 1e-2),\n"
     ]
    },
    {
     "name": "stdout",
     "output_type": "stream",
     "text": [
      "0:\tlearn: 0.6831468\ttest: 0.6828962\tbest: 0.6828962 (0)\ttotal: 91.7ms\tremaining: 2h 32m 47s\n",
      "Stopped by overfitting detector  (100 iterations wait)\n",
      "\n",
      "bestTest = 0.7120005156\n",
      "bestIteration = 10\n",
      "\n",
      "Shrink model to first 11 iterations.\n",
      "0:\tlearn: 0.6966715\ttest: 0.6809486\tbest: 0.6809486 (0)\ttotal: 86.3ms\tremaining: 2h 23m 50s\n",
      "200:\tlearn: 0.7683570\ttest: 0.7399102\tbest: 0.7404811 (199)\ttotal: 22.4s\tremaining: 3h 5m 14s\n",
      "400:\tlearn: 0.8073411\ttest: 0.8078244\tbest: 0.8078244 (400)\ttotal: 45.5s\tremaining: 3h 8m 28s\n",
      "600:\tlearn: 0.8209216\ttest: 0.8142681\tbest: 0.8144317 (572)\ttotal: 1m 11s\tremaining: 3h 16m 55s\n",
      "800:\tlearn: 0.8322451\ttest: 0.8209620\tbest: 0.8220376 (794)\ttotal: 1m 38s\tremaining: 3h 23m 13s\n",
      "1000:\tlearn: 0.8379527\ttest: 0.8227233\tbest: 0.8240985 (922)\ttotal: 2m 4s\tremaining: 3h 25m 36s\n",
      "Stopped by overfitting detector  (100 iterations wait)\n",
      "\n",
      "bestTest = 0.8240985145\n",
      "bestIteration = 922\n",
      "\n",
      "Shrink model to first 923 iterations.\n",
      "0:\tlearn: 0.7332115\ttest: 0.7149878\tbest: 0.7149878 (0)\ttotal: 110ms\tremaining: 3h 3m\n"
     ]
    },
    {
     "name": "stderr",
     "output_type": "stream",
     "text": [
      "\u001b[32m[I 2022-09-17 22:48:44,390]\u001b[0m Trial 39 finished with value: 0.7535519247522681 and parameters: {'depth': 7, 'learning_rate': 0.005186342334059834, 'auto_class_weights': 'SqrtBalanced'}. Best is trial 16 with value: 0.7950571123673523.\u001b[0m\n"
     ]
    },
    {
     "name": "stdout",
     "output_type": "stream",
     "text": [
      "Stopped by overfitting detector  (100 iterations wait)\n",
      "\n",
      "bestTest = 0.7245567442\n",
      "bestIteration = 1\n",
      "\n",
      "Shrink model to first 2 iterations.\n",
      "F Score of CatBoost = 0.7535519247522681\n"
     ]
    },
    {
     "name": "stderr",
     "output_type": "stream",
     "text": [
      "C:\\Users\\yanbe\\AppData\\Local\\Temp\\ipykernel_30352\\448085076.py:26: FutureWarning: suggest_loguniform has been deprecated in v3.0.0. This feature will be removed in v6.0.0. See https://github.com/optuna/optuna/releases/tag/v3.0.0. Use :func:`~optuna.trial.Trial.suggest_float` instead.\n",
      "  'learning_rate' :trial.suggest_loguniform('learning_rate', 1e-4, 1e-2),\n"
     ]
    },
    {
     "name": "stdout",
     "output_type": "stream",
     "text": [
      "0:\tlearn: 0.6812924\ttest: 0.6828962\tbest: 0.6828962 (0)\ttotal: 79.9ms\tremaining: 2h 13m 7s\n",
      "Stopped by overfitting detector  (100 iterations wait)\n",
      "\n",
      "bestTest = 0.7326203949\n",
      "bestIteration = 4\n",
      "\n",
      "Shrink model to first 5 iterations.\n",
      "0:\tlearn: 0.6960665\ttest: 0.6809486\tbest: 0.6809486 (0)\ttotal: 65.2ms\tremaining: 1h 48m 39s\n",
      "Stopped by overfitting detector  (100 iterations wait)\n",
      "\n",
      "bestTest = 0.7097571066\n",
      "bestIteration = 1\n",
      "\n",
      "Shrink model to first 2 iterations.\n",
      "0:\tlearn: 0.7122311\ttest: 0.6917724\tbest: 0.6917724 (0)\ttotal: 74.8ms\tremaining: 2h 4m 38s\n"
     ]
    },
    {
     "name": "stderr",
     "output_type": "stream",
     "text": [
      "\u001b[32m[I 2022-09-17 22:49:08,127]\u001b[0m Trial 40 finished with value: 0.7144464794796223 and parameters: {'depth': 6, 'learning_rate': 0.007693479546136886, 'auto_class_weights': 'SqrtBalanced'}. Best is trial 16 with value: 0.7950571123673523.\u001b[0m\n"
     ]
    },
    {
     "name": "stdout",
     "output_type": "stream",
     "text": [
      "Stopped by overfitting detector  (100 iterations wait)\n",
      "\n",
      "bestTest = 0.700961937\n",
      "bestIteration = 1\n",
      "\n",
      "Shrink model to first 2 iterations.\n",
      "F Score of CatBoost = 0.7144464794796223\n"
     ]
    },
    {
     "name": "stderr",
     "output_type": "stream",
     "text": [
      "C:\\Users\\yanbe\\AppData\\Local\\Temp\\ipykernel_30352\\448085076.py:26: FutureWarning: suggest_loguniform has been deprecated in v3.0.0. This feature will be removed in v6.0.0. See https://github.com/optuna/optuna/releases/tag/v3.0.0. Use :func:`~optuna.trial.Trial.suggest_float` instead.\n",
      "  'learning_rate' :trial.suggest_loguniform('learning_rate', 1e-4, 1e-2),\n"
     ]
    },
    {
     "name": "stdout",
     "output_type": "stream",
     "text": [
      "0:\tlearn: 0.6831468\ttest: 0.6828962\tbest: 0.6828962 (0)\ttotal: 103ms\tremaining: 2h 52m 21s\n",
      "200:\tlearn: 0.7808517\ttest: 0.7934057\tbest: 0.7934057 (199)\ttotal: 18.3s\tremaining: 2h 31m 47s\n",
      "400:\tlearn: 0.8067088\ttest: 0.8161262\tbest: 0.8161262 (399)\ttotal: 37.2s\tremaining: 2h 34m 11s\n",
      "600:\tlearn: 0.8238232\ttest: 0.8269583\tbest: 0.8276382 (565)\ttotal: 57.5s\tremaining: 2h 38m 33s\n",
      "800:\tlearn: 0.8319560\ttest: 0.8325767\tbest: 0.8325767 (797)\ttotal: 1m 17s\tremaining: 2h 39m 25s\n",
      "Stopped by overfitting detector  (100 iterations wait)\n",
      "\n",
      "bestTest = 0.8341292326\n",
      "bestIteration = 881\n",
      "\n",
      "Shrink model to first 882 iterations.\n",
      "0:\tlearn: 0.6966715\ttest: 0.6809486\tbest: 0.6809486 (0)\ttotal: 87.1ms\tremaining: 2h 25m 9s\n",
      "200:\tlearn: 0.7944851\ttest: 0.7953375\tbest: 0.7953375 (199)\ttotal: 19s\tremaining: 2h 36m 53s\n",
      "400:\tlearn: 0.8209702\ttest: 0.8123877\tbest: 0.8126804 (344)\ttotal: 38.2s\tremaining: 2h 38m 3s\n",
      "Stopped by overfitting detector  (100 iterations wait)\n",
      "\n",
      "bestTest = 0.817520104\n",
      "bestIteration = 461\n",
      "\n",
      "Shrink model to first 462 iterations.\n",
      "0:\tlearn: 0.7332115\ttest: 0.7149878\tbest: 0.7149878 (0)\ttotal: 112ms\tremaining: 3h 6m 6s\n"
     ]
    },
    {
     "name": "stderr",
     "output_type": "stream",
     "text": [
      "\u001b[32m[I 2022-09-17 22:51:48,379]\u001b[0m Trial 41 finished with value: 0.7920686935830347 and parameters: {'depth': 7, 'learning_rate': 0.007464665440374835, 'auto_class_weights': 'SqrtBalanced'}. Best is trial 16 with value: 0.7950571123673523.\u001b[0m\n"
     ]
    },
    {
     "name": "stdout",
     "output_type": "stream",
     "text": [
      "Stopped by overfitting detector  (100 iterations wait)\n",
      "\n",
      "bestTest = 0.7245567442\n",
      "bestIteration = 1\n",
      "\n",
      "Shrink model to first 2 iterations.\n",
      "F Score of CatBoost = 0.7920686935830347\n"
     ]
    },
    {
     "name": "stderr",
     "output_type": "stream",
     "text": [
      "C:\\Users\\yanbe\\AppData\\Local\\Temp\\ipykernel_30352\\448085076.py:26: FutureWarning: suggest_loguniform has been deprecated in v3.0.0. This feature will be removed in v6.0.0. See https://github.com/optuna/optuna/releases/tag/v3.0.0. Use :func:`~optuna.trial.Trial.suggest_float` instead.\n",
      "  'learning_rate' :trial.suggest_loguniform('learning_rate', 1e-4, 1e-2),\n"
     ]
    },
    {
     "name": "stdout",
     "output_type": "stream",
     "text": [
      "0:\tlearn: 0.6831468\ttest: 0.6828962\tbest: 0.6828962 (0)\ttotal: 114ms\tremaining: 3h 9m 24s\n",
      "200:\tlearn: 0.7772584\ttest: 0.7894601\tbest: 0.7894601 (200)\ttotal: 18.1s\tremaining: 2h 29m 28s\n",
      "400:\tlearn: 0.7981243\ttest: 0.8103714\tbest: 0.8113174 (397)\ttotal: 37s\tremaining: 2h 33m 13s\n",
      "600:\tlearn: 0.8122864\ttest: 0.8243600\tbest: 0.8254720 (599)\ttotal: 57.3s\tremaining: 2h 37m 53s\n",
      "800:\tlearn: 0.8257968\ttest: 0.8315476\tbest: 0.8315476 (800)\ttotal: 1m 19s\tremaining: 2h 43m 12s\n",
      "Stopped by overfitting detector  (100 iterations wait)\n",
      "\n",
      "bestTest = 0.8315475572\n",
      "bestIteration = 800\n",
      "\n",
      "Shrink model to first 801 iterations.\n",
      "0:\tlearn: 0.6966715\ttest: 0.6809486\tbest: 0.6809486 (0)\ttotal: 92.1ms\tremaining: 2h 33m 32s\n",
      "200:\tlearn: 0.7781953\ttest: 0.7697611\tbest: 0.7697611 (200)\ttotal: 23.3s\tremaining: 3h 13m 3s\n",
      "400:\tlearn: 0.8102897\ttest: 0.8082017\tbest: 0.8092512 (385)\ttotal: 44.2s\tremaining: 3h 2m 50s\n",
      "600:\tlearn: 0.8267186\ttest: 0.8150695\tbest: 0.8168793 (533)\ttotal: 1m 4s\tremaining: 2h 58m 52s\n",
      "800:\tlearn: 0.8357033\ttest: 0.8210373\tbest: 0.8220507 (751)\ttotal: 1m 24s\tremaining: 2h 55m 20s\n",
      "Stopped by overfitting detector  (100 iterations wait)\n",
      "\n",
      "bestTest = 0.8220506985\n",
      "bestIteration = 751\n",
      "\n",
      "Shrink model to first 752 iterations.\n",
      "0:\tlearn: 0.7332115\ttest: 0.7149878\tbest: 0.7149878 (0)\ttotal: 96.7ms\tremaining: 2h 41m 11s\n"
     ]
    },
    {
     "name": "stderr",
     "output_type": "stream",
     "text": [
      "\u001b[32m[I 2022-09-17 22:55:00,737]\u001b[0m Trial 42 finished with value: 0.7927183332971369 and parameters: {'depth': 7, 'learning_rate': 0.006227115518215009, 'auto_class_weights': 'SqrtBalanced'}. Best is trial 16 with value: 0.7950571123673523.\u001b[0m\n"
     ]
    },
    {
     "name": "stdout",
     "output_type": "stream",
     "text": [
      "Stopped by overfitting detector  (100 iterations wait)\n",
      "\n",
      "bestTest = 0.7245567442\n",
      "bestIteration = 1\n",
      "\n",
      "Shrink model to first 2 iterations.\n",
      "F Score of CatBoost = 0.7927183332971369\n"
     ]
    },
    {
     "name": "stderr",
     "output_type": "stream",
     "text": [
      "C:\\Users\\yanbe\\AppData\\Local\\Temp\\ipykernel_30352\\448085076.py:26: FutureWarning: suggest_loguniform has been deprecated in v3.0.0. This feature will be removed in v6.0.0. See https://github.com/optuna/optuna/releases/tag/v3.0.0. Use :func:`~optuna.trial.Trial.suggest_float` instead.\n",
      "  'learning_rate' :trial.suggest_loguniform('learning_rate', 1e-4, 1e-2),\n"
     ]
    },
    {
     "name": "stdout",
     "output_type": "stream",
     "text": [
      "0:\tlearn: 0.6831468\ttest: 0.6828962\tbest: 0.6828962 (0)\ttotal: 108ms\tremaining: 3h 37s\n",
      "200:\tlearn: 0.7822815\ttest: 0.7950769\tbest: 0.7950769 (197)\ttotal: 19.2s\tremaining: 2h 39m 4s\n",
      "400:\tlearn: 0.8078134\ttest: 0.8163136\tbest: 0.8163652 (397)\ttotal: 39.7s\tremaining: 2h 44m 27s\n",
      "600:\tlearn: 0.8220330\ttest: 0.8280071\tbest: 0.8280071 (590)\ttotal: 1m 2s\tremaining: 2h 53m 20s\n",
      "800:\tlearn: 0.8321857\ttest: 0.8333726\tbest: 0.8333726 (797)\ttotal: 1m 24s\tremaining: 2h 53m 29s\n",
      "Stopped by overfitting detector  (100 iterations wait)\n",
      "\n",
      "bestTest = 0.8344271522\n",
      "bestIteration = 881\n",
      "\n",
      "Shrink model to first 882 iterations.\n",
      "0:\tlearn: 0.6966715\ttest: 0.6809486\tbest: 0.6809486 (0)\ttotal: 90ms\tremaining: 2h 30m 3s\n",
      "200:\tlearn: 0.7972727\ttest: 0.7999864\tbest: 0.8004190 (199)\ttotal: 20.2s\tremaining: 2h 47m 20s\n",
      "400:\tlearn: 0.8200493\ttest: 0.8130360\tbest: 0.8137240 (388)\ttotal: 40.4s\tremaining: 2h 47m 20s\n",
      "600:\tlearn: 0.8353276\ttest: 0.8210244\tbest: 0.8212481 (595)\ttotal: 1m 1s\tremaining: 2h 49m 33s\n",
      "800:\tlearn: 0.8426212\ttest: 0.8221215\tbest: 0.8224989 (769)\ttotal: 1m 21s\tremaining: 2h 49m 9s\n",
      "1000:\tlearn: 0.8497901\ttest: 0.8205053\tbest: 0.8238575 (948)\ttotal: 1m 43s\tremaining: 2h 50m 36s\n",
      "Stopped by overfitting detector  (100 iterations wait)\n",
      "\n",
      "bestTest = 0.8238574565\n",
      "bestIteration = 948\n",
      "\n",
      "Shrink model to first 949 iterations.\n",
      "0:\tlearn: 0.7332115\ttest: 0.7149878\tbest: 0.7149878 (0)\ttotal: 90.3ms\tremaining: 2h 30m 25s\n"
     ]
    },
    {
     "name": "stderr",
     "output_type": "stream",
     "text": [
      "\u001b[32m[I 2022-09-17 22:58:44,928]\u001b[0m Trial 43 finished with value: 0.7942804509658687 and parameters: {'depth': 7, 'learning_rate': 0.007777275850375668, 'auto_class_weights': 'SqrtBalanced'}. Best is trial 16 with value: 0.7950571123673523.\u001b[0m\n"
     ]
    },
    {
     "name": "stdout",
     "output_type": "stream",
     "text": [
      "Stopped by overfitting detector  (100 iterations wait)\n",
      "\n",
      "bestTest = 0.7245567442\n",
      "bestIteration = 1\n",
      "\n",
      "Shrink model to first 2 iterations.\n",
      "F Score of CatBoost = 0.7942804509658687\n"
     ]
    },
    {
     "name": "stderr",
     "output_type": "stream",
     "text": [
      "C:\\Users\\yanbe\\AppData\\Local\\Temp\\ipykernel_30352\\448085076.py:26: FutureWarning: suggest_loguniform has been deprecated in v3.0.0. This feature will be removed in v6.0.0. See https://github.com/optuna/optuna/releases/tag/v3.0.0. Use :func:`~optuna.trial.Trial.suggest_float` instead.\n",
      "  'learning_rate' :trial.suggest_loguniform('learning_rate', 1e-4, 1e-2),\n"
     ]
    },
    {
     "name": "stdout",
     "output_type": "stream",
     "text": [
      "0:\tlearn: 0.6831468\ttest: 0.6828962\tbest: 0.6828962 (0)\ttotal: 115ms\tremaining: 3h 11m\n",
      "Stopped by overfitting detector  (100 iterations wait)\n",
      "\n",
      "bestTest = 0.7214271369\n",
      "bestIteration = 6\n",
      "\n",
      "Shrink model to first 7 iterations.\n",
      "0:\tlearn: 0.6966715\ttest: 0.6809486\tbest: 0.6809486 (0)\ttotal: 118ms\tremaining: 3h 15m 58s\n",
      "Stopped by overfitting detector  (100 iterations wait)\n",
      "\n",
      "bestTest = 0.7026781905\n",
      "bestIteration = 79\n",
      "\n",
      "Shrink model to first 80 iterations.\n",
      "0:\tlearn: 0.7332115\ttest: 0.7149878\tbest: 0.7149878 (0)\ttotal: 97.6ms\tremaining: 2h 42m 36s\n"
     ]
    },
    {
     "name": "stderr",
     "output_type": "stream",
     "text": [
      "\u001b[32m[I 2022-09-17 22:59:26,487]\u001b[0m Trial 44 finished with value: 0.7162206905428397 and parameters: {'depth': 7, 'learning_rate': 0.000188178222685838, 'auto_class_weights': 'SqrtBalanced'}. Best is trial 16 with value: 0.7950571123673523.\u001b[0m\n"
     ]
    },
    {
     "name": "stdout",
     "output_type": "stream",
     "text": [
      "Stopped by overfitting detector  (100 iterations wait)\n",
      "\n",
      "bestTest = 0.7245567442\n",
      "bestIteration = 1\n",
      "\n",
      "Shrink model to first 2 iterations.\n",
      "F Score of CatBoost = 0.7162206905428397\n"
     ]
    },
    {
     "name": "stderr",
     "output_type": "stream",
     "text": [
      "C:\\Users\\yanbe\\AppData\\Local\\Temp\\ipykernel_30352\\448085076.py:26: FutureWarning: suggest_loguniform has been deprecated in v3.0.0. This feature will be removed in v6.0.0. See https://github.com/optuna/optuna/releases/tag/v3.0.0. Use :func:`~optuna.trial.Trial.suggest_float` instead.\n",
      "  'learning_rate' :trial.suggest_loguniform('learning_rate', 1e-4, 1e-2),\n"
     ]
    },
    {
     "name": "stdout",
     "output_type": "stream",
     "text": [
      "0:\tlearn: 0.6831468\ttest: 0.6828962\tbest: 0.6828962 (0)\ttotal: 104ms\tremaining: 2h 53m 27s\n",
      "Stopped by overfitting detector  (100 iterations wait)\n",
      "\n",
      "bestTest = 0.7120005156\n",
      "bestIteration = 10\n",
      "\n",
      "Shrink model to first 11 iterations.\n",
      "0:\tlearn: 0.6966715\ttest: 0.6809486\tbest: 0.6809486 (0)\ttotal: 97.9ms\tremaining: 2h 43m 13s\n",
      "200:\tlearn: 0.7651745\ttest: 0.7381394\tbest: 0.7381394 (200)\ttotal: 21.2s\tremaining: 2h 55m 38s\n",
      "400:\tlearn: 0.8051361\ttest: 0.8071702\tbest: 0.8071702 (399)\ttotal: 39.8s\tremaining: 2h 44m 56s\n",
      "600:\tlearn: 0.8184588\ttest: 0.8125565\tbest: 0.8131635 (598)\ttotal: 59.4s\tremaining: 2h 43m 49s\n",
      "800:\tlearn: 0.8289875\ttest: 0.8182324\tbest: 0.8184346 (770)\ttotal: 1m 20s\tremaining: 2h 45m 34s\n",
      "1000:\tlearn: 0.8354810\ttest: 0.8221951\tbest: 0.8224183 (989)\ttotal: 1m 40s\tremaining: 2h 46m 5s\n",
      "Stopped by overfitting detector  (100 iterations wait)\n",
      "\n",
      "bestTest = 0.8224183221\n",
      "bestIteration = 989\n",
      "\n",
      "Shrink model to first 990 iterations.\n",
      "0:\tlearn: 0.7332115\ttest: 0.7149878\tbest: 0.7149878 (0)\ttotal: 81ms\tremaining: 2h 14m 58s\n"
     ]
    },
    {
     "name": "stderr",
     "output_type": "stream",
     "text": [
      "\u001b[32m[I 2022-09-17 23:01:38,782]\u001b[0m Trial 45 finished with value: 0.752991860633874 and parameters: {'depth': 7, 'learning_rate': 0.0050055638015072896, 'auto_class_weights': 'SqrtBalanced'}. Best is trial 16 with value: 0.7950571123673523.\u001b[0m\n"
     ]
    },
    {
     "name": "stdout",
     "output_type": "stream",
     "text": [
      "Stopped by overfitting detector  (100 iterations wait)\n",
      "\n",
      "bestTest = 0.7245567442\n",
      "bestIteration = 1\n",
      "\n",
      "Shrink model to first 2 iterations.\n",
      "F Score of CatBoost = 0.752991860633874\n"
     ]
    },
    {
     "name": "stderr",
     "output_type": "stream",
     "text": [
      "C:\\Users\\yanbe\\AppData\\Local\\Temp\\ipykernel_30352\\448085076.py:26: FutureWarning: suggest_loguniform has been deprecated in v3.0.0. This feature will be removed in v6.0.0. See https://github.com/optuna/optuna/releases/tag/v3.0.0. Use :func:`~optuna.trial.Trial.suggest_float` instead.\n",
      "  'learning_rate' :trial.suggest_loguniform('learning_rate', 1e-4, 1e-2),\n"
     ]
    },
    {
     "name": "stdout",
     "output_type": "stream",
     "text": [
      "0:\tlearn: 0.6831468\ttest: 0.6828962\tbest: 0.6828962 (0)\ttotal: 111ms\tremaining: 3h 5m 34s\n",
      "200:\tlearn: 0.7872074\ttest: 0.8012018\tbest: 0.8012018 (200)\ttotal: 21.2s\tremaining: 2h 55m 21s\n",
      "400:\tlearn: 0.8127759\ttest: 0.8201938\tbest: 0.8201938 (400)\ttotal: 44.8s\tremaining: 3h 5m 23s\n",
      "600:\tlearn: 0.8264119\ttest: 0.8280047\tbest: 0.8282245 (592)\ttotal: 1m 7s\tremaining: 3h 6m 1s\n",
      "800:\tlearn: 0.8352892\ttest: 0.8344187\tbest: 0.8346408 (770)\ttotal: 1m 28s\tremaining: 3h 2m 57s\n",
      "Stopped by overfitting detector  (100 iterations wait)\n",
      "\n",
      "bestTest = 0.8346408165\n",
      "bestIteration = 770\n",
      "\n",
      "Shrink model to first 771 iterations.\n",
      "0:\tlearn: 0.6966715\ttest: 0.6809486\tbest: 0.6809486 (0)\ttotal: 87.2ms\tremaining: 2h 25m 15s\n",
      "200:\tlearn: 0.7992261\ttest: 0.8051703\tbest: 0.8051703 (198)\ttotal: 20.1s\tremaining: 2h 46m 2s\n",
      "400:\tlearn: 0.8208824\ttest: 0.8152753\tbest: 0.8159855 (374)\ttotal: 42.9s\tremaining: 2h 57m 42s\n",
      "600:\tlearn: 0.8351925\ttest: 0.8198268\tbest: 0.8205576 (528)\ttotal: 1m 4s\tremaining: 2h 57m 57s\n",
      "800:\tlearn: 0.8428472\ttest: 0.8231998\tbest: 0.8242630 (783)\ttotal: 1m 26s\tremaining: 2h 57m 40s\n",
      "Stopped by overfitting detector  (100 iterations wait)\n",
      "\n",
      "bestTest = 0.8247316403\n",
      "bestIteration = 816\n",
      "\n",
      "Shrink model to first 817 iterations.\n",
      "0:\tlearn: 0.7332115\ttest: 0.7149878\tbest: 0.7149878 (0)\ttotal: 88.9ms\tremaining: 2h 28m 5s\n"
     ]
    },
    {
     "name": "stderr",
     "output_type": "stream",
     "text": [
      "\u001b[32m[I 2022-09-17 23:05:05,394]\u001b[0m Trial 46 finished with value: 0.7946430669828591 and parameters: {'depth': 7, 'learning_rate': 0.008233465075196697, 'auto_class_weights': 'SqrtBalanced'}. Best is trial 16 with value: 0.7950571123673523.\u001b[0m\n"
     ]
    },
    {
     "name": "stdout",
     "output_type": "stream",
     "text": [
      "Stopped by overfitting detector  (100 iterations wait)\n",
      "\n",
      "bestTest = 0.7245567442\n",
      "bestIteration = 1\n",
      "\n",
      "Shrink model to first 2 iterations.\n",
      "F Score of CatBoost = 0.7946430669828591\n"
     ]
    },
    {
     "name": "stderr",
     "output_type": "stream",
     "text": [
      "C:\\Users\\yanbe\\AppData\\Local\\Temp\\ipykernel_30352\\448085076.py:26: FutureWarning: suggest_loguniform has been deprecated in v3.0.0. This feature will be removed in v6.0.0. See https://github.com/optuna/optuna/releases/tag/v3.0.0. Use :func:`~optuna.trial.Trial.suggest_float` instead.\n",
      "  'learning_rate' :trial.suggest_loguniform('learning_rate', 1e-4, 1e-2),\n"
     ]
    },
    {
     "name": "stdout",
     "output_type": "stream",
     "text": [
      "0:\tlearn: 0.6831468\ttest: 0.6828962\tbest: 0.6828962 (0)\ttotal: 90.6ms\tremaining: 2h 31m 1s\n",
      "200:\tlearn: 0.7839003\ttest: 0.7974507\tbest: 0.7974507 (200)\ttotal: 19.9s\tremaining: 2h 44m 22s\n",
      "400:\tlearn: 0.8077221\ttest: 0.8193764\tbest: 0.8193764 (400)\ttotal: 41.3s\tremaining: 2h 51m 2s\n",
      "600:\tlearn: 0.8240463\ttest: 0.8263670\tbest: 0.8292351 (566)\ttotal: 1m 3s\tremaining: 2h 54m 54s\n",
      "Stopped by overfitting detector  (100 iterations wait)\n",
      "\n",
      "bestTest = 0.8292351191\n",
      "bestIteration = 566\n",
      "\n",
      "Shrink model to first 567 iterations.\n",
      "0:\tlearn: 0.6966715\ttest: 0.6809486\tbest: 0.6809486 (0)\ttotal: 94.6ms\tremaining: 2h 37m 40s\n",
      "200:\tlearn: 0.8011508\ttest: 0.8004904\tbest: 0.8011903 (196)\ttotal: 19.4s\tremaining: 2h 40m 13s\n",
      "400:\tlearn: 0.8224851\ttest: 0.8125809\tbest: 0.8132694 (396)\ttotal: 40.3s\tremaining: 2h 46m 46s\n",
      "600:\tlearn: 0.8348010\ttest: 0.8222583\tbest: 0.8228369 (584)\ttotal: 1m 1s\tremaining: 2h 50m 31s\n",
      "Stopped by overfitting detector  (100 iterations wait)\n",
      "\n",
      "bestTest = 0.8229932368\n",
      "bestIteration = 623\n",
      "\n",
      "Shrink model to first 624 iterations.\n",
      "0:\tlearn: 0.7332115\ttest: 0.7149878\tbest: 0.7149878 (0)\ttotal: 94.9ms\tremaining: 2h 38m 10s\n"
     ]
    },
    {
     "name": "stderr",
     "output_type": "stream",
     "text": [
      "\u001b[32m[I 2022-09-17 23:07:42,254]\u001b[0m Trial 47 finished with value: 0.7922617000281043 and parameters: {'depth': 7, 'learning_rate': 0.008004245249117034, 'auto_class_weights': 'SqrtBalanced'}. Best is trial 16 with value: 0.7950571123673523.\u001b[0m\n"
     ]
    },
    {
     "name": "stdout",
     "output_type": "stream",
     "text": [
      "Stopped by overfitting detector  (100 iterations wait)\n",
      "\n",
      "bestTest = 0.7245567442\n",
      "bestIteration = 1\n",
      "\n",
      "Shrink model to first 2 iterations.\n",
      "F Score of CatBoost = 0.7922617000281043\n"
     ]
    },
    {
     "name": "stderr",
     "output_type": "stream",
     "text": [
      "C:\\Users\\yanbe\\AppData\\Local\\Temp\\ipykernel_30352\\448085076.py:26: FutureWarning: suggest_loguniform has been deprecated in v3.0.0. This feature will be removed in v6.0.0. See https://github.com/optuna/optuna/releases/tag/v3.0.0. Use :func:`~optuna.trial.Trial.suggest_float` instead.\n",
      "  'learning_rate' :trial.suggest_loguniform('learning_rate', 1e-4, 1e-2),\n"
     ]
    },
    {
     "name": "stdout",
     "output_type": "stream",
     "text": [
      "0:\tlearn: 0.6831468\ttest: 0.6828962\tbest: 0.6828962 (0)\ttotal: 94.5ms\tremaining: 2h 37m 30s\n",
      "Stopped by overfitting detector  (100 iterations wait)\n",
      "\n",
      "bestTest = 0.7214271369\n",
      "bestIteration = 6\n",
      "\n",
      "Shrink model to first 7 iterations.\n",
      "0:\tlearn: 0.6966715\ttest: 0.6809486\tbest: 0.6809486 (0)\ttotal: 109ms\tremaining: 3h 2m 10s\n",
      "Stopped by overfitting detector  (100 iterations wait)\n",
      "\n",
      "bestTest = 0.6997060628\n",
      "bestIteration = 63\n",
      "\n",
      "Shrink model to first 64 iterations.\n",
      "0:\tlearn: 0.7332115\ttest: 0.7149878\tbest: 0.7149878 (0)\ttotal: 86.4ms\tremaining: 2h 23m 58s\n"
     ]
    },
    {
     "name": "stderr",
     "output_type": "stream",
     "text": [
      "\u001b[32m[I 2022-09-17 23:08:19,466]\u001b[0m Trial 48 finished with value: 0.715229981324569 and parameters: {'depth': 7, 'learning_rate': 0.001098522340218207, 'auto_class_weights': 'SqrtBalanced'}. Best is trial 16 with value: 0.7950571123673523.\u001b[0m\n"
     ]
    },
    {
     "name": "stdout",
     "output_type": "stream",
     "text": [
      "Stopped by overfitting detector  (100 iterations wait)\n",
      "\n",
      "bestTest = 0.7245567442\n",
      "bestIteration = 1\n",
      "\n",
      "Shrink model to first 2 iterations.\n",
      "F Score of CatBoost = 0.715229981324569\n"
     ]
    },
    {
     "name": "stderr",
     "output_type": "stream",
     "text": [
      "C:\\Users\\yanbe\\AppData\\Local\\Temp\\ipykernel_30352\\448085076.py:26: FutureWarning: suggest_loguniform has been deprecated in v3.0.0. This feature will be removed in v6.0.0. See https://github.com/optuna/optuna/releases/tag/v3.0.0. Use :func:`~optuna.trial.Trial.suggest_float` instead.\n",
      "  'learning_rate' :trial.suggest_loguniform('learning_rate', 1e-4, 1e-2),\n"
     ]
    },
    {
     "name": "stdout",
     "output_type": "stream",
     "text": [
      "0:\tlearn: 0.6812924\ttest: 0.6828962\tbest: 0.6828962 (0)\ttotal: 77.2ms\tremaining: 2h 8m 35s\n",
      "Stopped by overfitting detector  (100 iterations wait)\n",
      "\n",
      "bestTest = 0.7312562108\n",
      "bestIteration = 5\n",
      "\n",
      "Shrink model to first 6 iterations.\n",
      "0:\tlearn: 0.6960665\ttest: 0.6809486\tbest: 0.6809486 (0)\ttotal: 99.4ms\tremaining: 2h 45m 40s\n",
      "Stopped by overfitting detector  (100 iterations wait)\n",
      "\n",
      "bestTest = 0.7097571066\n",
      "bestIteration = 1\n",
      "\n",
      "Shrink model to first 2 iterations.\n",
      "0:\tlearn: 0.7122311\ttest: 0.6917724\tbest: 0.6917724 (0)\ttotal: 94ms\tremaining: 2h 36m 36s\n"
     ]
    },
    {
     "name": "stderr",
     "output_type": "stream",
     "text": [
      "\u001b[32m[I 2022-09-17 23:08:43,396]\u001b[0m Trial 49 finished with value: 0.7139917514621449 and parameters: {'depth': 6, 'learning_rate': 0.0024141588566182837, 'auto_class_weights': 'SqrtBalanced'}. Best is trial 16 with value: 0.7950571123673523.\u001b[0m\n"
     ]
    },
    {
     "name": "stdout",
     "output_type": "stream",
     "text": [
      "Stopped by overfitting detector  (100 iterations wait)\n",
      "\n",
      "bestTest = 0.700961937\n",
      "bestIteration = 1\n",
      "\n",
      "Shrink model to first 2 iterations.\n",
      "F Score of CatBoost = 0.7139917514621449\n"
     ]
    }
   ],
   "source": [
    "study = optuna.create_study(direction = \"maximize\", sampler = TPESampler(seed=int(SEED)))\n",
    "study.optimize(objective, n_trials = n_trials) #, n_jobs = multiprocessing.cpu_count())"
   ]
  },
  {
   "cell_type": "code",
   "execution_count": 131,
   "id": "d1f99133",
   "metadata": {},
   "outputs": [
    {
     "data": {
      "text/plain": [
       "0.7950571123673523"
      ]
     },
     "execution_count": 131,
     "metadata": {},
     "output_type": "execute_result"
    }
   ],
   "source": [
    "study.best_value"
   ]
  },
  {
   "cell_type": "code",
   "execution_count": 132,
   "id": "56edef55",
   "metadata": {},
   "outputs": [
    {
     "name": "stdout",
     "output_type": "stream",
     "text": [
      "\t\tdepth:8\n",
      "\t\tlearning_rate:0.009976915347135165\n",
      "\t\tauto_class_weights:Balanced\n"
     ]
    }
   ],
   "source": [
    "for k,v in study.best_params.items():\n",
    "    print(f\"\\t\\t{k}:{v}\")"
   ]
  },
  {
   "cell_type": "code",
   "execution_count": null,
   "id": "e0789621",
   "metadata": {},
   "outputs": [],
   "source": []
  },
  {
   "cell_type": "code",
   "execution_count": null,
   "id": "6fb0cd8c",
   "metadata": {},
   "outputs": [],
   "source": []
  }
 ],
 "metadata": {
  "kernelspec": {
   "display_name": "Python 3 (ipykernel)",
   "language": "python",
   "name": "python3"
  },
  "language_info": {
   "codemirror_mode": {
    "name": "ipython",
    "version": 3
   },
   "file_extension": ".py",
   "mimetype": "text/x-python",
   "name": "python",
   "nbconvert_exporter": "python",
   "pygments_lexer": "ipython3",
   "version": "3.9.12"
  }
 },
 "nbformat": 4,
 "nbformat_minor": 5
}
